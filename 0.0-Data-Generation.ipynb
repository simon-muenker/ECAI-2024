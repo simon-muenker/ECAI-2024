{
 "cells": [
  {
   "cell_type": "code",
   "execution_count": 1,
   "id": "initial_id",
   "metadata": {
    "collapsed": true,
    "ExecuteTime": {
     "end_time": "2024-03-21T10:35:31.022069Z",
     "start_time": "2024-03-21T10:35:30.931098Z"
    }
   },
   "outputs": [],
   "source": [
    "import hashlib\n",
    "import json\n",
    "\n",
    "import requests\n",
    "import tqdm\n",
    "\n",
    "import config"
   ]
  },
  {
   "cell_type": "code",
   "outputs": [],
   "source": [
    "CFG = config.Config()"
   ],
   "metadata": {
    "collapsed": false,
    "ExecuteTime": {
     "end_time": "2024-03-21T10:35:31.029031Z",
     "start_time": "2024-03-21T10:35:31.024791Z"
    }
   },
   "id": "19a063be3fa84513",
   "execution_count": 2
  },
  {
   "cell_type": "code",
   "outputs": [
    {
     "name": "stderr",
     "output_type": "stream",
     "text": [
      "Generating w/ llama2:70b: 100%|██████████| 30/30 [03:36<00:00,  7.20s/it]\n",
      "Generating w/ mixtral:8x7b: 100%|██████████| 30/30 [00:57<00:00,  1.92s/it]\n",
      "Generating w/ falcon:40b: 100%|██████████| 30/30 [03:52<00:00,  7.76s/it]\n",
      "Generating w/ qwen:72b: 100%|██████████| 30/30 [01:41<00:00,  3.40s/it]\n"
     ]
    }
   ],
   "source": [
    "for model in CFG.models:\n",
    "        for _ in tqdm.tqdm(range(CFG.samples_per_permutation), desc=f'Generating w/ {model}'):\n",
    "            datapoint: dict = {\n",
    "                'model': model,\n",
    "                'response': requests.post(\n",
    "                    'https://inf.cl.uni-trier.de/',\n",
    "                    json={\n",
    "                        'model': model,\n",
    "                        'prompt': CFG.template.format(topic=CFG.topic)\n",
    "                    }\n",
    "                ).json()['response'].strip().lower()\n",
    "            }\n",
    "\n",
    "            file_name: str = hashlib.shake_256(str.encode(json.dumps(datapoint))).hexdigest(24)\n",
    "            open(f'{CFG.raw_data_dir}/{file_name}.json', 'w').write(json.dumps(datapoint, indent=4, ensure_ascii=False))\n"
   ],
   "metadata": {
    "collapsed": false,
    "ExecuteTime": {
     "end_time": "2024-03-21T10:45:39.462459Z",
     "start_time": "2024-03-21T10:35:31.031604Z"
    }
   },
   "id": "57ef84182e40ba56",
   "execution_count": 3
  },
  {
   "cell_type": "code",
   "outputs": [],
   "source": [],
   "metadata": {
    "collapsed": false,
    "ExecuteTime": {
     "end_time": "2024-03-21T10:45:39.469064Z",
     "start_time": "2024-03-21T10:45:39.466520Z"
    }
   },
   "id": "82efea62cced5098",
   "execution_count": 3
  }
 ],
 "metadata": {
  "kernelspec": {
   "display_name": "Python 3",
   "language": "python",
   "name": "python3"
  },
  "language_info": {
   "codemirror_mode": {
    "name": "ipython",
    "version": 2
   },
   "file_extension": ".py",
   "mimetype": "text/x-python",
   "name": "python",
   "nbconvert_exporter": "python",
   "pygments_lexer": "ipython2",
   "version": "2.7.6"
  }
 },
 "nbformat": 4,
 "nbformat_minor": 5
}
