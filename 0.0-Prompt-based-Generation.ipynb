{
 "cells": [
  {
   "cell_type": "code",
   "execution_count": 1,
   "id": "initial_id",
   "metadata": {
    "collapsed": true,
    "ExecuteTime": {
     "end_time": "2024-03-23T19:30:22.768720Z",
     "start_time": "2024-03-23T19:30:22.673307Z"
    }
   },
   "outputs": [],
   "source": [
    "import hashlib\n",
    "import json\n",
    "\n",
    "import requests\n",
    "import tqdm\n",
    "\n",
    "import config"
   ]
  },
  {
   "cell_type": "code",
   "outputs": [],
   "source": [
    "CFG = config.Config()"
   ],
   "metadata": {
    "collapsed": false,
    "ExecuteTime": {
     "end_time": "2024-03-23T19:30:22.779859Z",
     "start_time": "2024-03-23T19:30:22.775974Z"
    }
   },
   "id": "19a063be3fa84513",
   "execution_count": 2
  },
  {
   "cell_type": "code",
   "outputs": [
    {
     "name": "stderr",
     "output_type": "stream",
     "text": [
      "Generating w/ mixtral:8x7b: 100%|██████████| 500/500 [14:56<00:00,  1.79s/it]\n"
     ]
    }
   ],
   "source": [
    "for model in CFG.models:\n",
    "        for _ in tqdm.tqdm(range(CFG.samples_per_permutation), desc=f'Generating w/ {model}'):\n",
    "            try:\n",
    "                datapoint: dict = {\n",
    "                    'model': model,\n",
    "                    'response': requests.post(\n",
    "                        'https://inf.cl.uni-trier.de/',\n",
    "                        json={\n",
    "                            'model': model,\n",
    "                            'prompt': CFG.template.format(topic=CFG.topic)\n",
    "                        }\n",
    "                    ).json()['response'].strip().lower()\n",
    "                }\n",
    "    \n",
    "                file_name: str = hashlib.shake_256(str.encode(json.dumps(datapoint))).hexdigest(24)\n",
    "                open(f'{CFG.raw_data_dir}/{file_name}.json', 'w').write(json.dumps(datapoint, indent=4, ensure_ascii=False))\n",
    "                \n",
    "            except:\n",
    "                pass\n"
   ],
   "metadata": {
    "collapsed": false,
    "ExecuteTime": {
     "end_time": "2024-03-23T19:45:18.877549Z",
     "start_time": "2024-03-23T19:30:22.781905Z"
    }
   },
   "id": "57ef84182e40ba56",
   "execution_count": 3
  },
  {
   "cell_type": "code",
   "outputs": [],
   "source": [],
   "metadata": {
    "collapsed": false,
    "ExecuteTime": {
     "end_time": "2024-03-23T19:45:18.883837Z",
     "start_time": "2024-03-23T19:45:18.880984Z"
    }
   },
   "id": "82efea62cced5098",
   "execution_count": 3
  }
 ],
 "metadata": {
  "kernelspec": {
   "display_name": "Python 3",
   "language": "python",
   "name": "python3"
  },
  "language_info": {
   "codemirror_mode": {
    "name": "ipython",
    "version": 2
   },
   "file_extension": ".py",
   "mimetype": "text/x-python",
   "name": "python",
   "nbconvert_exporter": "python",
   "pygments_lexer": "ipython2",
   "version": "2.7.6"
  }
 },
 "nbformat": 4,
 "nbformat_minor": 5
}
