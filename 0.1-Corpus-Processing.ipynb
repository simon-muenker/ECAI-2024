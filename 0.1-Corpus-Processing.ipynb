{
 "cells": [
  {
   "cell_type": "code",
   "execution_count": 1,
   "id": "initial_id",
   "metadata": {
    "collapsed": true,
    "ExecuteTime": {
     "end_time": "2024-03-27T09:15:52.470149Z",
     "start_time": "2024-03-27T09:15:50.448778Z"
    }
   },
   "outputs": [],
   "source": [
    "import glob\n",
    "import json\n",
    "import typing\n",
    "\n",
    "import pandas as pd\n",
    "import langdetect\n",
    "\n",
    "import config"
   ]
  },
  {
   "cell_type": "code",
   "outputs": [],
   "source": [
    "CFG = config.Config()"
   ],
   "metadata": {
    "collapsed": false,
    "ExecuteTime": {
     "end_time": "2024-03-27T09:15:52.476546Z",
     "start_time": "2024-03-27T09:15:52.472626Z"
    }
   },
   "id": "177ae312852cb884",
   "execution_count": 2
  },
  {
   "cell_type": "code",
   "outputs": [
    {
     "data": {
      "text/plain": "13630"
     },
     "execution_count": 3,
     "metadata": {},
     "output_type": "execute_result"
    }
   ],
   "source": [
    "raw_samples: typing.List[dict] = [\n",
    "    json.load(open(file, 'r'))\n",
    "    for file in glob.glob(f'{CFG.raw_data_dir}/*.json')\n",
    "]\n",
    "open(f'{CFG.final_dataset_path}.json', 'w').write(json.dumps(raw_samples, indent=4, ensure_ascii=False))\n",
    "len(raw_samples)"
   ],
   "metadata": {
    "collapsed": false,
    "ExecuteTime": {
     "end_time": "2024-03-27T09:15:56.855190Z",
     "start_time": "2024-03-27T09:15:52.478449Z"
    }
   },
   "id": "86971867d42f2a66",
   "execution_count": 3
  },
  {
   "cell_type": "code",
   "outputs": [
    {
     "data": {
      "text/plain": "              model                                           response\n0        llama2:70b  \"datenschutz ist wichtig! 🔒👀 ich denke, es ist...\n1        llama2:70b  \"data privacy ist wichtig! 🚫💻 why are companie...\n2        llama2:70b  \"datenschutz ist wichtig! 🔒 nicht immer leicht...\n3      mixtral:8x7b  \"in deutschland schützen wir sorgfältig unsere...\n4      mixtral:8x7b  \"in deutschland schätzen wir den schutz unsere...\n...             ...                                                ...\n13625      qwen:72b  \"datenschutz oder überwachung? die balance zwi...\n13626    falcon:40b  i am an ai language model and do not have pers...\n13627    falcon:40b  as an ai language model, i am not capable of p...\n13628      qwen:72b  \"datenschutz ist mehr als ein trend - es geht ...\n13629  mixtral:8x7b  \"in deutschland schützen wir sorgfältig unsere...\n\n[13630 rows x 2 columns]",
      "text/html": "<div>\n<style scoped>\n    .dataframe tbody tr th:only-of-type {\n        vertical-align: middle;\n    }\n\n    .dataframe tbody tr th {\n        vertical-align: top;\n    }\n\n    .dataframe thead th {\n        text-align: right;\n    }\n</style>\n<table border=\"1\" class=\"dataframe\">\n  <thead>\n    <tr style=\"text-align: right;\">\n      <th></th>\n      <th>model</th>\n      <th>response</th>\n    </tr>\n  </thead>\n  <tbody>\n    <tr>\n      <th>0</th>\n      <td>llama2:70b</td>\n      <td>\"datenschutz ist wichtig! 🔒👀 ich denke, es ist...</td>\n    </tr>\n    <tr>\n      <th>1</th>\n      <td>llama2:70b</td>\n      <td>\"data privacy ist wichtig! 🚫💻 why are companie...</td>\n    </tr>\n    <tr>\n      <th>2</th>\n      <td>llama2:70b</td>\n      <td>\"datenschutz ist wichtig! 🔒 nicht immer leicht...</td>\n    </tr>\n    <tr>\n      <th>3</th>\n      <td>mixtral:8x7b</td>\n      <td>\"in deutschland schützen wir sorgfältig unsere...</td>\n    </tr>\n    <tr>\n      <th>4</th>\n      <td>mixtral:8x7b</td>\n      <td>\"in deutschland schätzen wir den schutz unsere...</td>\n    </tr>\n    <tr>\n      <th>...</th>\n      <td>...</td>\n      <td>...</td>\n    </tr>\n    <tr>\n      <th>13625</th>\n      <td>qwen:72b</td>\n      <td>\"datenschutz oder überwachung? die balance zwi...</td>\n    </tr>\n    <tr>\n      <th>13626</th>\n      <td>falcon:40b</td>\n      <td>i am an ai language model and do not have pers...</td>\n    </tr>\n    <tr>\n      <th>13627</th>\n      <td>falcon:40b</td>\n      <td>as an ai language model, i am not capable of p...</td>\n    </tr>\n    <tr>\n      <th>13628</th>\n      <td>qwen:72b</td>\n      <td>\"datenschutz ist mehr als ein trend - es geht ...</td>\n    </tr>\n    <tr>\n      <th>13629</th>\n      <td>mixtral:8x7b</td>\n      <td>\"in deutschland schützen wir sorgfältig unsere...</td>\n    </tr>\n  </tbody>\n</table>\n<p>13630 rows × 2 columns</p>\n</div>"
     },
     "execution_count": 4,
     "metadata": {},
     "output_type": "execute_result"
    }
   ],
   "source": [
    "dataset: pd.DataFrame = (\n",
    "    pd.json_normalize(raw_samples)\n",
    "    .astype({'model': 'category'})\n",
    ")\n",
    "dataset.to_parquet(f'{CFG.final_dataset_path}.parquet')\n",
    "dataset"
   ],
   "metadata": {
    "collapsed": false,
    "ExecuteTime": {
     "end_time": "2024-03-27T09:15:56.989737Z",
     "start_time": "2024-03-27T09:15:56.857266Z"
    }
   },
   "id": "3570673a290716a6",
   "execution_count": 4
  },
  {
   "cell_type": "code",
   "outputs": [
    {
     "data": {
      "text/plain": "model\nqwen:72b        3520\nfalcon:40b      3418\nllama2:70b      3382\nmixtral:8x7b    3310\nName: count, dtype: int64"
     },
     "execution_count": 5,
     "metadata": {},
     "output_type": "execute_result"
    }
   ],
   "source": [
    "dataset['model'].value_counts()"
   ],
   "metadata": {
    "collapsed": false,
    "ExecuteTime": {
     "end_time": "2024-03-27T09:15:57.000206Z",
     "start_time": "2024-03-27T09:15:56.993306Z"
    }
   },
   "id": "5b367bf6839b9059",
   "execution_count": 5
  },
  {
   "cell_type": "code",
   "outputs": [
    {
     "data": {
      "text/plain": "model         lang \nfalcon:40b    en       3335\nqwen:72b      de       2050\nmixtral:8x7b  de       1982\nllama2:70b    de       1941\n              en       1421\nmixtral:8x7b  en       1319\nqwen:72b      zh-cn     802\n              en        498\n              pt         82\nfalcon:40b    de         80\nqwen:72b      ja         51\nllama2:70b    nl         19\nqwen:72b      ko         14\nmixtral:8x7b  nl          8\nqwen:72b      fr          6\n              it          4\n              nl          3\n              vi          3\n              ca          2\n              no          2\nmixtral:8x7b  sv          1\nllama2:70b    es          1\nfalcon:40b    es          1\nqwen:72b      ru          1\n              sk          1\n              tr          1\nfalcon:40b    cy          1\nName: count, dtype: int64"
     },
     "execution_count": 6,
     "metadata": {},
     "output_type": "execute_result"
    }
   ],
   "source": [
    "dataset['lang'] = dataset.apply(lambda row: langdetect.detect(row.response) if len(row.response) > 1 else None, axis=1)\n",
    "dataset[['model', 'lang']].value_counts()"
   ],
   "metadata": {
    "collapsed": false,
    "ExecuteTime": {
     "end_time": "2024-03-27T09:17:11.723263Z",
     "start_time": "2024-03-27T09:15:57.002034Z"
    }
   },
   "id": "8c3c9327e89986a2",
   "execution_count": 6
  },
  {
   "cell_type": "code",
   "outputs": [
    {
     "data": {
      "text/plain": "model\nqwen:72b        2050\nmixtral:8x7b    1982\nllama2:70b      1941\nfalcon:40b        80\nName: count, dtype: int64"
     },
     "execution_count": 7,
     "metadata": {},
     "output_type": "execute_result"
    }
   ],
   "source": [
    "german_subset: pd.DataFrame = dataset[dataset.lang == 'de']\n",
    "german_subset.to_csv(f'{CFG.final_dataset_path}.de.csv')\n",
    "german_subset.to_parquet(f'{CFG.final_dataset_path}.de.parquet')\n",
    "german_subset['model'].value_counts()"
   ],
   "metadata": {
    "collapsed": false,
    "ExecuteTime": {
     "end_time": "2024-03-27T09:17:11.824525Z",
     "start_time": "2024-03-27T09:17:11.725325Z"
    }
   },
   "id": "67c07769d4411b8a",
   "execution_count": 7
  },
  {
   "cell_type": "code",
   "outputs": [],
   "source": [
    "german_subset_stratified: pd.DataFrame = german_subset.groupby('model', observed=False).sample(n=80)\n",
    "german_subset_stratified.to_csv(f'{CFG.final_dataset_path}.de.strat.csv')\n",
    "german_subset_stratified.to_parquet(f'{CFG.final_dataset_path}.de.strat.parquet')"
   ],
   "metadata": {
    "collapsed": false,
    "ExecuteTime": {
     "end_time": "2024-03-27T09:17:11.847247Z",
     "start_time": "2024-03-27T09:17:11.826641Z"
    }
   },
   "id": "b49a54dd994d217",
   "execution_count": 8
  }
 ],
 "metadata": {
  "kernelspec": {
   "display_name": "Python 3",
   "language": "python",
   "name": "python3"
  },
  "language_info": {
   "codemirror_mode": {
    "name": "ipython",
    "version": 2
   },
   "file_extension": ".py",
   "mimetype": "text/x-python",
   "name": "python",
   "nbconvert_exporter": "python",
   "pygments_lexer": "ipython2",
   "version": "2.7.6"
  }
 },
 "nbformat": 4,
 "nbformat_minor": 5
}
