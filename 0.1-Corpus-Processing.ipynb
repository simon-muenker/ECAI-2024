{
 "cells": [
  {
   "cell_type": "code",
   "execution_count": 38,
   "id": "initial_id",
   "metadata": {
    "collapsed": true,
    "ExecuteTime": {
     "end_time": "2024-03-27T11:27:44.820610Z",
     "start_time": "2024-03-27T11:27:44.816887Z"
    }
   },
   "outputs": [],
   "source": [
    "import glob\n",
    "import json\n",
    "import typing\n",
    "\n",
    "import langdetect\n",
    "import pandas as pd\n",
    "import seaborn as sns\n",
    "import matplotlib as mpl\n",
    "\n",
    "import config"
   ]
  },
  {
   "cell_type": "code",
   "outputs": [],
   "source": [
    "CFG = config.Config()\n",
    "EXPORT_PATH: str = 'report'"
   ],
   "metadata": {
    "collapsed": false,
    "ExecuteTime": {
     "end_time": "2024-03-27T11:27:20.952331Z",
     "start_time": "2024-03-27T11:27:20.948008Z"
    }
   },
   "id": "177ae312852cb884",
   "execution_count": 36
  },
  {
   "cell_type": "code",
   "outputs": [
    {
     "data": {
      "text/plain": "13630"
     },
     "execution_count": 3,
     "metadata": {},
     "output_type": "execute_result"
    }
   ],
   "source": [
    "raw_samples: typing.List[dict] = [\n",
    "    json.load(open(file, 'r'))\n",
    "    for file in glob.glob(f'{CFG.raw_data_dir}/*.json')\n",
    "]\n",
    "open(f'{CFG.final_dataset_path}.json', 'w').write(json.dumps(raw_samples, indent=4, ensure_ascii=False))\n",
    "len(raw_samples)"
   ],
   "metadata": {
    "collapsed": false,
    "ExecuteTime": {
     "end_time": "2024-03-27T11:18:49.038538Z",
     "start_time": "2024-03-27T11:18:45.148085Z"
    }
   },
   "id": "86971867d42f2a66",
   "execution_count": 3
  },
  {
   "cell_type": "code",
   "outputs": [
    {
     "data": {
      "text/plain": "              model                                           response\n0        llama2:70b  \"datenschutz ist wichtig! 🔒👀 ich denke, es ist...\n1        llama2:70b  \"data privacy ist wichtig! 🚫💻 why are companie...\n2        llama2:70b  \"datenschutz ist wichtig! 🔒 nicht immer leicht...\n3      mixtral:8x7b  \"in deutschland schützen wir sorgfältig unsere...\n4      mixtral:8x7b  \"in deutschland schätzen wir den schutz unsere...\n...             ...                                                ...\n13625      qwen:72b  \"datenschutz oder überwachung? die balance zwi...\n13626    falcon:40b  i am an ai language model and do not have pers...\n13627    falcon:40b  as an ai language model, i am not capable of p...\n13628      qwen:72b  \"datenschutz ist mehr als ein trend - es geht ...\n13629  mixtral:8x7b  \"in deutschland schützen wir sorgfältig unsere...\n\n[13630 rows x 2 columns]",
      "text/html": "<div>\n<style scoped>\n    .dataframe tbody tr th:only-of-type {\n        vertical-align: middle;\n    }\n\n    .dataframe tbody tr th {\n        vertical-align: top;\n    }\n\n    .dataframe thead th {\n        text-align: right;\n    }\n</style>\n<table border=\"1\" class=\"dataframe\">\n  <thead>\n    <tr style=\"text-align: right;\">\n      <th></th>\n      <th>model</th>\n      <th>response</th>\n    </tr>\n  </thead>\n  <tbody>\n    <tr>\n      <th>0</th>\n      <td>llama2:70b</td>\n      <td>\"datenschutz ist wichtig! 🔒👀 ich denke, es ist...</td>\n    </tr>\n    <tr>\n      <th>1</th>\n      <td>llama2:70b</td>\n      <td>\"data privacy ist wichtig! 🚫💻 why are companie...</td>\n    </tr>\n    <tr>\n      <th>2</th>\n      <td>llama2:70b</td>\n      <td>\"datenschutz ist wichtig! 🔒 nicht immer leicht...</td>\n    </tr>\n    <tr>\n      <th>3</th>\n      <td>mixtral:8x7b</td>\n      <td>\"in deutschland schützen wir sorgfältig unsere...</td>\n    </tr>\n    <tr>\n      <th>4</th>\n      <td>mixtral:8x7b</td>\n      <td>\"in deutschland schätzen wir den schutz unsere...</td>\n    </tr>\n    <tr>\n      <th>...</th>\n      <td>...</td>\n      <td>...</td>\n    </tr>\n    <tr>\n      <th>13625</th>\n      <td>qwen:72b</td>\n      <td>\"datenschutz oder überwachung? die balance zwi...</td>\n    </tr>\n    <tr>\n      <th>13626</th>\n      <td>falcon:40b</td>\n      <td>i am an ai language model and do not have pers...</td>\n    </tr>\n    <tr>\n      <th>13627</th>\n      <td>falcon:40b</td>\n      <td>as an ai language model, i am not capable of p...</td>\n    </tr>\n    <tr>\n      <th>13628</th>\n      <td>qwen:72b</td>\n      <td>\"datenschutz ist mehr als ein trend - es geht ...</td>\n    </tr>\n    <tr>\n      <th>13629</th>\n      <td>mixtral:8x7b</td>\n      <td>\"in deutschland schützen wir sorgfältig unsere...</td>\n    </tr>\n  </tbody>\n</table>\n<p>13630 rows × 2 columns</p>\n</div>"
     },
     "execution_count": 4,
     "metadata": {},
     "output_type": "execute_result"
    }
   ],
   "source": [
    "dataset: pd.DataFrame = (\n",
    "    pd.json_normalize(raw_samples)\n",
    "    .astype({'model': 'category'})\n",
    ")\n",
    "dataset.to_parquet(f'{CFG.final_dataset_path}.parquet')\n",
    "dataset"
   ],
   "metadata": {
    "collapsed": false,
    "ExecuteTime": {
     "end_time": "2024-03-27T11:18:49.250188Z",
     "start_time": "2024-03-27T11:18:49.040510Z"
    }
   },
   "id": "3570673a290716a6",
   "execution_count": 4
  },
  {
   "cell_type": "code",
   "outputs": [
    {
     "data": {
      "text/plain": "model\nqwen:72b        3520\nfalcon:40b      3418\nllama2:70b      3382\nmixtral:8x7b    3310\nName: count, dtype: int64"
     },
     "execution_count": 5,
     "metadata": {},
     "output_type": "execute_result"
    }
   ],
   "source": [
    "dataset['model'].value_counts()"
   ],
   "metadata": {
    "collapsed": false,
    "ExecuteTime": {
     "end_time": "2024-03-27T11:18:49.260404Z",
     "start_time": "2024-03-27T11:18:49.252235Z"
    }
   },
   "id": "5b367bf6839b9059",
   "execution_count": 5
  },
  {
   "cell_type": "code",
   "outputs": [
    {
     "data": {
      "text/plain": "model         lang \nfalcon:40b    en       3332\nqwen:72b      de       2048\nmixtral:8x7b  de       1937\nllama2:70b    de       1918\n              en       1441\nmixtral:8x7b  en       1363\nqwen:72b      zh-cn     805\n              en        500\n              pt         82\nfalcon:40b    de         81\nqwen:72b      ja         50\nllama2:70b    nl         22\nqwen:72b      ko         11\nmixtral:8x7b  nl          8\nqwen:72b      fr          5\n              nl          5\n              no          4\n              it          4\n              vi          3\nfalcon:40b    fr          2\nqwen:72b      tr          1\n              sv          1\nfalcon:40b    cy          1\nmixtral:8x7b  sv          1\n              fr          1\nllama2:70b    es          1\nfalcon:40b    it          1\nqwen:72b      bg          1\nName: count, dtype: int64"
     },
     "execution_count": 6,
     "metadata": {},
     "output_type": "execute_result"
    }
   ],
   "source": [
    "dataset['lang'] = dataset.apply(lambda row: langdetect.detect(row.response) if len(row.response) > 1 else None, axis=1)\n",
    "dataset[['model', 'lang']].value_counts()"
   ],
   "metadata": {
    "collapsed": false,
    "ExecuteTime": {
     "end_time": "2024-03-27T11:20:07.555887Z",
     "start_time": "2024-03-27T11:18:49.263111Z"
    }
   },
   "id": "8c3c9327e89986a2",
   "execution_count": 6
  },
  {
   "cell_type": "code",
   "outputs": [
    {
     "data": {
      "text/plain": "<Figure size 640x480 with 1 Axes>",
      "image/png": "[encoded data removed]"
     },
     "metadata": {},
     "output_type": "display_data"
    }
   ],
   "source": [
    "sns.heatmap(\n",
    "    (\n",
    "        dataset[['model', 'lang']]\n",
    "        .value_counts()\n",
    "        .to_frame()\n",
    "        .reset_index()\n",
    "        .pivot(index=\"model\", columns=\"lang\", values=\"count\")\n",
    "        .T\n",
    "    ),\n",
    "    annot=True,\n",
    "    fmt='g',\n",
    "    linewidth=.5,\n",
    "    cbar=False\n",
    ")\n",
    "mpl.pyplot.savefig(f'{EXPORT_PATH}/plot.heat.model.lang.pdf', format='pdf')"
   ],
   "metadata": {
    "collapsed": false,
    "ExecuteTime": {
     "end_time": "2024-03-27T11:31:07.466409Z",
     "start_time": "2024-03-27T11:31:07.013326Z"
    }
   },
   "id": "318c38e217c1e02f",
   "execution_count": 43
  },
  {
   "cell_type": "code",
   "outputs": [
    {
     "data": {
      "text/plain": "model\nqwen:72b        2048\nmixtral:8x7b    1937\nllama2:70b      1918\nfalcon:40b        81\nName: count, dtype: int64"
     },
     "execution_count": 8,
     "metadata": {},
     "output_type": "execute_result"
    }
   ],
   "source": [
    "german_subset: pd.DataFrame = dataset[dataset.lang == 'de']\n",
    "german_subset.to_csv(f'{CFG.final_dataset_path}.de.csv')\n",
    "german_subset.to_parquet(f'{CFG.final_dataset_path}.de.parquet')\n",
    "german_subset['model'].value_counts()"
   ],
   "metadata": {
    "collapsed": false,
    "ExecuteTime": {
     "end_time": "2024-03-27T11:20:08.165461Z",
     "start_time": "2024-03-27T11:20:08.074639Z"
    }
   },
   "id": "67c07769d4411b8a",
   "execution_count": 8
  },
  {
   "cell_type": "code",
   "outputs": [],
   "source": [
    "german_subset_stratified: pd.DataFrame = german_subset.groupby('model', observed=False).sample(n=80)\n",
    "german_subset_stratified.to_csv(f'{CFG.final_dataset_path}.de.strat.csv')\n",
    "german_subset_stratified.to_parquet(f'{CFG.final_dataset_path}.de.strat.parquet')"
   ],
   "metadata": {
    "collapsed": false,
    "ExecuteTime": {
     "end_time": "2024-03-27T11:20:08.187069Z",
     "start_time": "2024-03-27T11:20:08.170177Z"
    }
   },
   "id": "b49a54dd994d217",
   "execution_count": 9
  }
 ],
 "metadata": {
  "kernelspec": {
   "display_name": "Python 3",
   "language": "python",
   "name": "python3"
  },
  "language_info": {
   "codemirror_mode": {
    "name": "ipython",
    "version": 2
   },
   "file_extension": ".py",
   "mimetype": "text/x-python",
   "name": "python",
   "nbconvert_exporter": "python",
   "pygments_lexer": "ipython2",
   "version": "2.7.6"
  }
 },
 "nbformat": 4,
 "nbformat_minor": 5
}
