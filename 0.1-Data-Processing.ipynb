{
 "cells": [
  {
   "cell_type": "code",
   "execution_count": 167,
   "id": "initial_id",
   "metadata": {
    "collapsed": true,
    "ExecuteTime": {
     "end_time": "2024-03-23T19:46:24.181599Z",
     "start_time": "2024-03-23T19:46:24.177582Z"
    }
   },
   "outputs": [],
   "source": [
    "import glob\n",
    "import json\n",
    "import typing\n",
    "\n",
    "import pandas as pd\n",
    "\n",
    "import config"
   ]
  },
  {
   "cell_type": "code",
   "outputs": [],
   "source": [
    "CFG = config.Config()"
   ],
   "metadata": {
    "collapsed": false,
    "ExecuteTime": {
     "end_time": "2024-03-23T19:46:24.189042Z",
     "start_time": "2024-03-23T19:46:24.184571Z"
    }
   },
   "id": "177ae312852cb884",
   "execution_count": 168
  },
  {
   "cell_type": "code",
   "outputs": [
    {
     "data": {
      "text/plain": "13630"
     },
     "execution_count": 169,
     "metadata": {},
     "output_type": "execute_result"
    }
   ],
   "source": [
    "raw_samples: typing.List[dict] = [\n",
    "    json.load(open(file, 'r'))\n",
    "    for file in glob.glob(f'{CFG.raw_data_dir}/*.json')\n",
    "]\n",
    "open(f'{CFG.final_dataset_path}.json', 'w').write(json.dumps(raw_samples, indent=4, ensure_ascii=False))\n",
    "len(raw_samples)"
   ],
   "metadata": {
    "collapsed": false,
    "ExecuteTime": {
     "end_time": "2024-03-23T19:46:25.509996Z",
     "start_time": "2024-03-23T19:46:24.191181Z"
    }
   },
   "id": "86971867d42f2a66",
   "execution_count": 169
  },
  {
   "cell_type": "code",
   "outputs": [
    {
     "data": {
      "text/plain": "              model                                           response\n0        llama2:70b  \"datenschutz ist wichtig! 🔒👀 ich denke, es ist...\n1        llama2:70b  \"data privacy ist wichtig! 🚫💻 why are companie...\n2        llama2:70b  \"datenschutz ist wichtig! 🔒 nicht immer leicht...\n3      mixtral:8x7b  \"in deutschland schützen wir sorgfältig unsere...\n4      mixtral:8x7b  \"in deutschland schätzen wir den schutz unsere...\n...             ...                                                ...\n13625      qwen:72b  \"datenschutz oder überwachung? die balance zwi...\n13626    falcon:40b  i am an ai language model and do not have pers...\n13627    falcon:40b  as an ai language model, i am not capable of p...\n13628      qwen:72b  \"datenschutz ist mehr als ein trend - es geht ...\n13629  mixtral:8x7b  \"in deutschland schützen wir sorgfältig unsere...\n\n[13630 rows x 2 columns]",
      "text/html": "<div>\n<style scoped>\n    .dataframe tbody tr th:only-of-type {\n        vertical-align: middle;\n    }\n\n    .dataframe tbody tr th {\n        vertical-align: top;\n    }\n\n    .dataframe thead th {\n        text-align: right;\n    }\n</style>\n<table border=\"1\" class=\"dataframe\">\n  <thead>\n    <tr style=\"text-align: right;\">\n      <th></th>\n      <th>model</th>\n      <th>response</th>\n    </tr>\n  </thead>\n  <tbody>\n    <tr>\n      <th>0</th>\n      <td>llama2:70b</td>\n      <td>\"datenschutz ist wichtig! 🔒👀 ich denke, es ist...</td>\n    </tr>\n    <tr>\n      <th>1</th>\n      <td>llama2:70b</td>\n      <td>\"data privacy ist wichtig! 🚫💻 why are companie...</td>\n    </tr>\n    <tr>\n      <th>2</th>\n      <td>llama2:70b</td>\n      <td>\"datenschutz ist wichtig! 🔒 nicht immer leicht...</td>\n    </tr>\n    <tr>\n      <th>3</th>\n      <td>mixtral:8x7b</td>\n      <td>\"in deutschland schützen wir sorgfältig unsere...</td>\n    </tr>\n    <tr>\n      <th>4</th>\n      <td>mixtral:8x7b</td>\n      <td>\"in deutschland schätzen wir den schutz unsere...</td>\n    </tr>\n    <tr>\n      <th>...</th>\n      <td>...</td>\n      <td>...</td>\n    </tr>\n    <tr>\n      <th>13625</th>\n      <td>qwen:72b</td>\n      <td>\"datenschutz oder überwachung? die balance zwi...</td>\n    </tr>\n    <tr>\n      <th>13626</th>\n      <td>falcon:40b</td>\n      <td>i am an ai language model and do not have pers...</td>\n    </tr>\n    <tr>\n      <th>13627</th>\n      <td>falcon:40b</td>\n      <td>as an ai language model, i am not capable of p...</td>\n    </tr>\n    <tr>\n      <th>13628</th>\n      <td>qwen:72b</td>\n      <td>\"datenschutz ist mehr als ein trend - es geht ...</td>\n    </tr>\n    <tr>\n      <th>13629</th>\n      <td>mixtral:8x7b</td>\n      <td>\"in deutschland schützen wir sorgfältig unsere...</td>\n    </tr>\n  </tbody>\n</table>\n<p>13630 rows × 2 columns</p>\n</div>"
     },
     "execution_count": 170,
     "metadata": {},
     "output_type": "execute_result"
    }
   ],
   "source": [
    "dataset: pd.DataFrame = (\n",
    "    pd.json_normalize(raw_samples)\n",
    "    .astype({'model': 'category'})\n",
    ")\n",
    "dataset.to_parquet(f'{CFG.final_dataset_path}.parquet')\n",
    "dataset"
   ],
   "metadata": {
    "collapsed": false,
    "ExecuteTime": {
     "end_time": "2024-03-23T19:46:25.612835Z",
     "start_time": "2024-03-23T19:46:25.512997Z"
    }
   },
   "id": "3570673a290716a6",
   "execution_count": 170
  },
  {
   "cell_type": "code",
   "outputs": [
    {
     "data": {
      "text/plain": "model\nqwen:72b        3520\nfalcon:40b      3418\nllama2:70b      3382\nmixtral:8x7b    3310\nName: count, dtype: int64"
     },
     "execution_count": 171,
     "metadata": {},
     "output_type": "execute_result"
    }
   ],
   "source": [
    "dataset['model'].value_counts()"
   ],
   "metadata": {
    "collapsed": false,
    "ExecuteTime": {
     "end_time": "2024-03-23T19:46:25.622365Z",
     "start_time": "2024-03-23T19:46:25.614232Z"
    }
   },
   "id": "5b367bf6839b9059",
   "execution_count": 171
  },
  {
   "cell_type": "code",
   "outputs": [],
   "source": [],
   "metadata": {
    "collapsed": false,
    "ExecuteTime": {
     "end_time": "2024-03-23T19:46:25.627728Z",
     "start_time": "2024-03-23T19:46:25.624932Z"
    }
   },
   "id": "8c3c9327e89986a2",
   "execution_count": 171
  }
 ],
 "metadata": {
  "kernelspec": {
   "display_name": "Python 3",
   "language": "python",
   "name": "python3"
  },
  "language_info": {
   "codemirror_mode": {
    "name": "ipython",
    "version": 2
   },
   "file_extension": ".py",
   "mimetype": "text/x-python",
   "name": "python",
   "nbconvert_exporter": "python",
   "pygments_lexer": "ipython2",
   "version": "2.7.6"
  }
 },
 "nbformat": 4,
 "nbformat_minor": 5
}
