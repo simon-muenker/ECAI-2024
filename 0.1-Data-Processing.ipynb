{
 "cells": [
  {
   "cell_type": "code",
   "execution_count": 1,
   "id": "initial_id",
   "metadata": {
    "collapsed": true,
    "ExecuteTime": {
     "end_time": "2024-03-21T10:26:34.344677Z",
     "start_time": "2024-03-21T10:26:31.643687Z"
    }
   },
   "outputs": [],
   "source": [
    "import glob\n",
    "import json\n",
    "import typing\n",
    "\n",
    "import pandas as pd\n",
    "\n",
    "import config"
   ]
  },
  {
   "cell_type": "code",
   "outputs": [],
   "source": [
    "CFG = config.Config()"
   ],
   "metadata": {
    "collapsed": false,
    "ExecuteTime": {
     "end_time": "2024-03-21T10:26:34.350381Z",
     "start_time": "2024-03-21T10:26:34.346634Z"
    }
   },
   "id": "177ae312852cb884",
   "execution_count": 2
  },
  {
   "cell_type": "code",
   "outputs": [
    {
     "data": {
      "text/plain": "1027"
     },
     "execution_count": 3,
     "metadata": {},
     "output_type": "execute_result"
    }
   ],
   "source": [
    "raw_samples: typing.List[dict] = [\n",
    "    json.load(open(file, 'r'))\n",
    "    for file in glob.glob(f'{CFG.raw_data_dir}/*.json')\n",
    "]\n",
    "open(f'{CFG.final_dataset_path}.json', 'w').write(json.dumps(raw_samples, indent=4, ensure_ascii=False))\n",
    "len(raw_samples)"
   ],
   "metadata": {
    "collapsed": false,
    "ExecuteTime": {
     "end_time": "2024-03-21T10:26:34.618999Z",
     "start_time": "2024-03-21T10:26:34.352486Z"
    }
   },
   "id": "86971867d42f2a66",
   "execution_count": 3
  },
  {
   "cell_type": "code",
   "outputs": [
    {
     "data": {
      "text/plain": "             model                                           response\n0     mixtral:8x7b   \"In Deutschland schätzen wir den Schutz unser...\n1         qwen:72b  \" Datenprivatheit - mehr als nur ein Trend. Un...\n2         qwen:72b  \"Datenschutz ist mehr als ein trendiges Wort -...\n3         qwen:72b  \"Data privacy matters! 🌐🔒 Waking up to yet ano...\n4         qwen:72b  \"Datenschutz oder Überwachung? Our personal in...\n...            ...                                                ...\n1022  mixtral:8x7b   \"In Deutschland schätzen wir den Schutz unser...\n1023    falcon:40b  I am sorry but as an AI language model, I cann...\n1024    llama2:70b  \\n\"Datenschutz ist wichtig! 🤖🔒 Es ist Zeit, da...\n1025    falcon:40b  As an AI language model, I do not have persona...\n1026    falcon:40b  As an AI language model, I cannot provide opin...\n\n[1027 rows x 2 columns]",
      "text/html": "<div>\n<style scoped>\n    .dataframe tbody tr th:only-of-type {\n        vertical-align: middle;\n    }\n\n    .dataframe tbody tr th {\n        vertical-align: top;\n    }\n\n    .dataframe thead th {\n        text-align: right;\n    }\n</style>\n<table border=\"1\" class=\"dataframe\">\n  <thead>\n    <tr style=\"text-align: right;\">\n      <th></th>\n      <th>model</th>\n      <th>response</th>\n    </tr>\n  </thead>\n  <tbody>\n    <tr>\n      <th>0</th>\n      <td>mixtral:8x7b</td>\n      <td>\"In Deutschland schätzen wir den Schutz unser...</td>\n    </tr>\n    <tr>\n      <th>1</th>\n      <td>qwen:72b</td>\n      <td>\" Datenprivatheit - mehr als nur ein Trend. Un...</td>\n    </tr>\n    <tr>\n      <th>2</th>\n      <td>qwen:72b</td>\n      <td>\"Datenschutz ist mehr als ein trendiges Wort -...</td>\n    </tr>\n    <tr>\n      <th>3</th>\n      <td>qwen:72b</td>\n      <td>\"Data privacy matters! 🌐🔒 Waking up to yet ano...</td>\n    </tr>\n    <tr>\n      <th>4</th>\n      <td>qwen:72b</td>\n      <td>\"Datenschutz oder Überwachung? Our personal in...</td>\n    </tr>\n    <tr>\n      <th>...</th>\n      <td>...</td>\n      <td>...</td>\n    </tr>\n    <tr>\n      <th>1022</th>\n      <td>mixtral:8x7b</td>\n      <td>\"In Deutschland schätzen wir den Schutz unser...</td>\n    </tr>\n    <tr>\n      <th>1023</th>\n      <td>falcon:40b</td>\n      <td>I am sorry but as an AI language model, I cann...</td>\n    </tr>\n    <tr>\n      <th>1024</th>\n      <td>llama2:70b</td>\n      <td>\\n\"Datenschutz ist wichtig! 🤖🔒 Es ist Zeit, da...</td>\n    </tr>\n    <tr>\n      <th>1025</th>\n      <td>falcon:40b</td>\n      <td>As an AI language model, I do not have persona...</td>\n    </tr>\n    <tr>\n      <th>1026</th>\n      <td>falcon:40b</td>\n      <td>As an AI language model, I cannot provide opin...</td>\n    </tr>\n  </tbody>\n</table>\n<p>1027 rows × 2 columns</p>\n</div>"
     },
     "execution_count": 4,
     "metadata": {},
     "output_type": "execute_result"
    }
   ],
   "source": [
    "dataset: pd.DataFrame = (\n",
    "    pd.json_normalize(raw_samples)\n",
    "    .astype({'model': 'category'})\n",
    ")\n",
    "dataset.to_parquet(f'{CFG.final_dataset_path}.parquet')\n",
    "dataset"
   ],
   "metadata": {
    "collapsed": false,
    "ExecuteTime": {
     "end_time": "2024-03-21T10:26:34.729513Z",
     "start_time": "2024-03-21T10:26:34.620287Z"
    }
   },
   "id": "3570673a290716a6",
   "execution_count": 4
  },
  {
   "cell_type": "code",
   "outputs": [],
   "source": [],
   "metadata": {
    "collapsed": false,
    "ExecuteTime": {
     "end_time": "2024-03-21T10:26:34.734536Z",
     "start_time": "2024-03-21T10:26:34.732296Z"
    }
   },
   "id": "5b367bf6839b9059",
   "execution_count": 4
  }
 ],
 "metadata": {
  "kernelspec": {
   "display_name": "Python 3",
   "language": "python",
   "name": "python3"
  },
  "language_info": {
   "codemirror_mode": {
    "name": "ipython",
    "version": 2
   },
   "file_extension": ".py",
   "mimetype": "text/x-python",
   "name": "python",
   "nbconvert_exporter": "python",
   "pygments_lexer": "ipython2",
   "version": "2.7.6"
  }
 },
 "nbformat": 4,
 "nbformat_minor": 5
}
