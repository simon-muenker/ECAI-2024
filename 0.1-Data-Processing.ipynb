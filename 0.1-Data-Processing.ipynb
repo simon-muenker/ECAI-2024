{
 "cells": [
  {
   "cell_type": "code",
   "execution_count": 1,
   "id": "initial_id",
   "metadata": {
    "collapsed": true,
    "ExecuteTime": {
     "end_time": "2024-03-21T10:55:56.454148Z",
     "start_time": "2024-03-21T10:55:54.739327Z"
    }
   },
   "outputs": [],
   "source": [
    "import glob\n",
    "import json\n",
    "import typing\n",
    "\n",
    "import pandas as pd\n",
    "\n",
    "import config"
   ]
  },
  {
   "cell_type": "code",
   "outputs": [],
   "source": [
    "CFG = config.Config()"
   ],
   "metadata": {
    "collapsed": false,
    "ExecuteTime": {
     "end_time": "2024-03-21T10:55:56.460068Z",
     "start_time": "2024-03-21T10:55:56.456596Z"
    }
   },
   "id": "177ae312852cb884",
   "execution_count": 2
  },
  {
   "cell_type": "code",
   "outputs": [
    {
     "data": {
      "text/plain": "120"
     },
     "execution_count": 3,
     "metadata": {},
     "output_type": "execute_result"
    }
   ],
   "source": [
    "raw_samples: typing.List[dict] = [\n",
    "    json.load(open(file, 'r'))\n",
    "    for file in glob.glob(f'{CFG.raw_data_dir}/*.json')\n",
    "]\n",
    "open(f'{CFG.final_dataset_path}.json', 'w').write(json.dumps(raw_samples, indent=4, ensure_ascii=False))\n",
    "len(raw_samples)"
   ],
   "metadata": {
    "collapsed": false,
    "ExecuteTime": {
     "end_time": "2024-03-21T10:55:56.507941Z",
     "start_time": "2024-03-21T10:55:56.462659Z"
    }
   },
   "id": "86971867d42f2a66",
   "execution_count": 3
  },
  {
   "cell_type": "code",
   "outputs": [
    {
     "data": {
      "text/plain": "            model                                           response\n0      falcon:40b  it is essential to protect personal informatio...\n1      llama2:70b  \"wir müssen unsere persönlichen informationen ...\n2        qwen:72b     \" 数据隐私，个人信息的安全网？还是限制了我们的数字化生活？🤔 #数据隐私 #个人信息保护\"\n3    mixtral:8x7b  \"in deutschland schätzen wir den schutz unsere...\n4    mixtral:8x7b  \"schützt unsere persönlichen daten! wir sollte...\n..            ...                                                ...\n115    llama2:70b  \"warum gibt es immer noch keine effektive date...\n116      qwen:72b  \"🚨 daten privacy im fokus! 🚨 wieso geben wir o...\n117      qwen:72b  \" 数据隐私，个人信息的堡垒还是透明罩？批判性地思考保护与开放的平衡。 #数据隐私 #个人信...\n118    falcon:40b  as an ai language model, i am not capable of p...\n119      qwen:72b  \"datenschutz ist mehr als ein trend - es schüt...\n\n[120 rows x 2 columns]",
      "text/html": "<div>\n<style scoped>\n    .dataframe tbody tr th:only-of-type {\n        vertical-align: middle;\n    }\n\n    .dataframe tbody tr th {\n        vertical-align: top;\n    }\n\n    .dataframe thead th {\n        text-align: right;\n    }\n</style>\n<table border=\"1\" class=\"dataframe\">\n  <thead>\n    <tr style=\"text-align: right;\">\n      <th></th>\n      <th>model</th>\n      <th>response</th>\n    </tr>\n  </thead>\n  <tbody>\n    <tr>\n      <th>0</th>\n      <td>falcon:40b</td>\n      <td>it is essential to protect personal informatio...</td>\n    </tr>\n    <tr>\n      <th>1</th>\n      <td>llama2:70b</td>\n      <td>\"wir müssen unsere persönlichen informationen ...</td>\n    </tr>\n    <tr>\n      <th>2</th>\n      <td>qwen:72b</td>\n      <td>\" 数据隐私，个人信息的安全网？还是限制了我们的数字化生活？🤔 #数据隐私 #个人信息保护\"</td>\n    </tr>\n    <tr>\n      <th>3</th>\n      <td>mixtral:8x7b</td>\n      <td>\"in deutschland schätzen wir den schutz unsere...</td>\n    </tr>\n    <tr>\n      <th>4</th>\n      <td>mixtral:8x7b</td>\n      <td>\"schützt unsere persönlichen daten! wir sollte...</td>\n    </tr>\n    <tr>\n      <th>...</th>\n      <td>...</td>\n      <td>...</td>\n    </tr>\n    <tr>\n      <th>115</th>\n      <td>llama2:70b</td>\n      <td>\"warum gibt es immer noch keine effektive date...</td>\n    </tr>\n    <tr>\n      <th>116</th>\n      <td>qwen:72b</td>\n      <td>\"🚨 daten privacy im fokus! 🚨 wieso geben wir o...</td>\n    </tr>\n    <tr>\n      <th>117</th>\n      <td>qwen:72b</td>\n      <td>\" 数据隐私，个人信息的堡垒还是透明罩？批判性地思考保护与开放的平衡。 #数据隐私 #个人信...</td>\n    </tr>\n    <tr>\n      <th>118</th>\n      <td>falcon:40b</td>\n      <td>as an ai language model, i am not capable of p...</td>\n    </tr>\n    <tr>\n      <th>119</th>\n      <td>qwen:72b</td>\n      <td>\"datenschutz ist mehr als ein trend - es schüt...</td>\n    </tr>\n  </tbody>\n</table>\n<p>120 rows × 2 columns</p>\n</div>"
     },
     "execution_count": 4,
     "metadata": {},
     "output_type": "execute_result"
    }
   ],
   "source": [
    "dataset: pd.DataFrame = (\n",
    "    pd.json_normalize(raw_samples)\n",
    "    .astype({'model': 'category'})\n",
    ")\n",
    "dataset.to_parquet(f'{CFG.final_dataset_path}.parquet')\n",
    "dataset"
   ],
   "metadata": {
    "collapsed": false,
    "ExecuteTime": {
     "end_time": "2024-03-21T10:55:56.546573Z",
     "start_time": "2024-03-21T10:55:56.511150Z"
    }
   },
   "id": "3570673a290716a6",
   "execution_count": 4
  },
  {
   "cell_type": "code",
   "outputs": [],
   "source": [],
   "metadata": {
    "collapsed": false,
    "ExecuteTime": {
     "end_time": "2024-03-21T10:55:56.550920Z",
     "start_time": "2024-03-21T10:55:56.548118Z"
    }
   },
   "id": "5b367bf6839b9059",
   "execution_count": 4
  }
 ],
 "metadata": {
  "kernelspec": {
   "display_name": "Python 3",
   "language": "python",
   "name": "python3"
  },
  "language_info": {
   "codemirror_mode": {
    "name": "ipython",
    "version": 2
   },
   "file_extension": ".py",
   "mimetype": "text/x-python",
   "name": "python",
   "nbconvert_exporter": "python",
   "pygments_lexer": "ipython2",
   "version": "2.7.6"
  }
 },
 "nbformat": 4,
 "nbformat_minor": 5
}
