{
 "cells": [
  {
   "cell_type": "code",
   "execution_count": 1,
   "id": "initial_id",
   "metadata": {
    "collapsed": true,
    "ExecuteTime": {
     "end_time": "2024-03-21T10:56:20.546028Z",
     "start_time": "2024-03-21T10:56:17.653659Z"
    }
   },
   "outputs": [],
   "source": [
    "import collections\n",
    "import string\n",
    "import typing\n",
    "\n",
    "import nltk\n",
    "import langdetect\n",
    "import pandas as pd\n",
    "\n",
    "import config"
   ]
  },
  {
   "cell_type": "code",
   "outputs": [],
   "source": [
    "CFG = config.Config()"
   ],
   "metadata": {
    "collapsed": false,
    "ExecuteTime": {
     "end_time": "2024-03-21T10:56:20.553452Z",
     "start_time": "2024-03-21T10:56:20.549521Z"
    }
   },
   "id": "a4a1115bb7499da0",
   "execution_count": 2
  },
  {
   "cell_type": "code",
   "outputs": [
    {
     "data": {
      "text/plain": "            model                                           response\n0      falcon:40b  it is essential to protect personal informatio...\n1      llama2:70b  \"wir müssen unsere persönlichen informationen ...\n2        qwen:72b     \" 数据隐私，个人信息的安全网？还是限制了我们的数字化生活？🤔 #数据隐私 #个人信息保护\"\n3    mixtral:8x7b  \"in deutschland schätzen wir den schutz unsere...\n4    mixtral:8x7b  \"schützt unsere persönlichen daten! wir sollte...\n..            ...                                                ...\n115    llama2:70b  \"warum gibt es immer noch keine effektive date...\n116      qwen:72b  \"🚨 daten privacy im fokus! 🚨 wieso geben wir o...\n117      qwen:72b  \" 数据隐私，个人信息的堡垒还是透明罩？批判性地思考保护与开放的平衡。 #数据隐私 #个人信...\n118    falcon:40b  as an ai language model, i am not capable of p...\n119      qwen:72b  \"datenschutz ist mehr als ein trend - es schüt...\n\n[120 rows x 2 columns]",
      "text/html": "<div>\n<style scoped>\n    .dataframe tbody tr th:only-of-type {\n        vertical-align: middle;\n    }\n\n    .dataframe tbody tr th {\n        vertical-align: top;\n    }\n\n    .dataframe thead th {\n        text-align: right;\n    }\n</style>\n<table border=\"1\" class=\"dataframe\">\n  <thead>\n    <tr style=\"text-align: right;\">\n      <th></th>\n      <th>model</th>\n      <th>response</th>\n    </tr>\n  </thead>\n  <tbody>\n    <tr>\n      <th>0</th>\n      <td>falcon:40b</td>\n      <td>it is essential to protect personal informatio...</td>\n    </tr>\n    <tr>\n      <th>1</th>\n      <td>llama2:70b</td>\n      <td>\"wir müssen unsere persönlichen informationen ...</td>\n    </tr>\n    <tr>\n      <th>2</th>\n      <td>qwen:72b</td>\n      <td>\" 数据隐私，个人信息的安全网？还是限制了我们的数字化生活？🤔 #数据隐私 #个人信息保护\"</td>\n    </tr>\n    <tr>\n      <th>3</th>\n      <td>mixtral:8x7b</td>\n      <td>\"in deutschland schätzen wir den schutz unsere...</td>\n    </tr>\n    <tr>\n      <th>4</th>\n      <td>mixtral:8x7b</td>\n      <td>\"schützt unsere persönlichen daten! wir sollte...</td>\n    </tr>\n    <tr>\n      <th>...</th>\n      <td>...</td>\n      <td>...</td>\n    </tr>\n    <tr>\n      <th>115</th>\n      <td>llama2:70b</td>\n      <td>\"warum gibt es immer noch keine effektive date...</td>\n    </tr>\n    <tr>\n      <th>116</th>\n      <td>qwen:72b</td>\n      <td>\"🚨 daten privacy im fokus! 🚨 wieso geben wir o...</td>\n    </tr>\n    <tr>\n      <th>117</th>\n      <td>qwen:72b</td>\n      <td>\" 数据隐私，个人信息的堡垒还是透明罩？批判性地思考保护与开放的平衡。 #数据隐私 #个人信...</td>\n    </tr>\n    <tr>\n      <th>118</th>\n      <td>falcon:40b</td>\n      <td>as an ai language model, i am not capable of p...</td>\n    </tr>\n    <tr>\n      <th>119</th>\n      <td>qwen:72b</td>\n      <td>\"datenschutz ist mehr als ein trend - es schüt...</td>\n    </tr>\n  </tbody>\n</table>\n<p>120 rows × 2 columns</p>\n</div>"
     },
     "execution_count": 3,
     "metadata": {},
     "output_type": "execute_result"
    }
   ],
   "source": [
    "dataset: pd.DataFrame = pd.read_parquet(f'{CFG.final_dataset_path}.parquet')\n",
    "dataset"
   ],
   "metadata": {
    "collapsed": false,
    "ExecuteTime": {
     "end_time": "2024-03-21T10:56:20.611236Z",
     "start_time": "2024-03-21T10:56:20.554736Z"
    }
   },
   "id": "910a495b3ed81f5e",
   "execution_count": 3
  },
  {
   "cell_type": "code",
   "outputs": [
    {
     "data": {
      "text/plain": "model\nfalcon:40b      30\nllama2:70b      30\nmixtral:8x7b    30\nqwen:72b        30\nName: count, dtype: int64"
     },
     "execution_count": 4,
     "metadata": {},
     "output_type": "execute_result"
    }
   ],
   "source": [
    "dataset['model'].value_counts()"
   ],
   "metadata": {
    "collapsed": false,
    "ExecuteTime": {
     "end_time": "2024-03-21T10:56:20.621766Z",
     "start_time": "2024-03-21T10:56:20.614152Z"
    }
   },
   "id": "3a829d5987e8f5cc",
   "execution_count": 4
  },
  {
   "cell_type": "code",
   "outputs": [
    {
     "data": {
      "text/plain": "            model                                           response   lang\n0      falcon:40b  it is essential to protect personal informatio...     en\n1      llama2:70b  \"wir müssen unsere persönlichen informationen ...     de\n2        qwen:72b     \" 数据隐私，个人信息的安全网？还是限制了我们的数字化生活？🤔 #数据隐私 #个人信息保护\"  zh-cn\n3    mixtral:8x7b  \"in deutschland schätzen wir den schutz unsere...     de\n4    mixtral:8x7b  \"schützt unsere persönlichen daten! wir sollte...     en\n..            ...                                                ...    ...\n115    llama2:70b  \"warum gibt es immer noch keine effektive date...     en\n116      qwen:72b  \"🚨 daten privacy im fokus! 🚨 wieso geben wir o...     de\n117      qwen:72b  \" 数据隐私，个人信息的堡垒还是透明罩？批判性地思考保护与开放的平衡。 #数据隐私 #个人信...  zh-cn\n118    falcon:40b  as an ai language model, i am not capable of p...     en\n119      qwen:72b  \"datenschutz ist mehr als ein trend - es schüt...     de\n\n[120 rows x 3 columns]",
      "text/html": "<div>\n<style scoped>\n    .dataframe tbody tr th:only-of-type {\n        vertical-align: middle;\n    }\n\n    .dataframe tbody tr th {\n        vertical-align: top;\n    }\n\n    .dataframe thead th {\n        text-align: right;\n    }\n</style>\n<table border=\"1\" class=\"dataframe\">\n  <thead>\n    <tr style=\"text-align: right;\">\n      <th></th>\n      <th>model</th>\n      <th>response</th>\n      <th>lang</th>\n    </tr>\n  </thead>\n  <tbody>\n    <tr>\n      <th>0</th>\n      <td>falcon:40b</td>\n      <td>it is essential to protect personal informatio...</td>\n      <td>en</td>\n    </tr>\n    <tr>\n      <th>1</th>\n      <td>llama2:70b</td>\n      <td>\"wir müssen unsere persönlichen informationen ...</td>\n      <td>de</td>\n    </tr>\n    <tr>\n      <th>2</th>\n      <td>qwen:72b</td>\n      <td>\" 数据隐私，个人信息的安全网？还是限制了我们的数字化生活？🤔 #数据隐私 #个人信息保护\"</td>\n      <td>zh-cn</td>\n    </tr>\n    <tr>\n      <th>3</th>\n      <td>mixtral:8x7b</td>\n      <td>\"in deutschland schätzen wir den schutz unsere...</td>\n      <td>de</td>\n    </tr>\n    <tr>\n      <th>4</th>\n      <td>mixtral:8x7b</td>\n      <td>\"schützt unsere persönlichen daten! wir sollte...</td>\n      <td>en</td>\n    </tr>\n    <tr>\n      <th>...</th>\n      <td>...</td>\n      <td>...</td>\n      <td>...</td>\n    </tr>\n    <tr>\n      <th>115</th>\n      <td>llama2:70b</td>\n      <td>\"warum gibt es immer noch keine effektive date...</td>\n      <td>en</td>\n    </tr>\n    <tr>\n      <th>116</th>\n      <td>qwen:72b</td>\n      <td>\"🚨 daten privacy im fokus! 🚨 wieso geben wir o...</td>\n      <td>de</td>\n    </tr>\n    <tr>\n      <th>117</th>\n      <td>qwen:72b</td>\n      <td>\" 数据隐私，个人信息的堡垒还是透明罩？批判性地思考保护与开放的平衡。 #数据隐私 #个人信...</td>\n      <td>zh-cn</td>\n    </tr>\n    <tr>\n      <th>118</th>\n      <td>falcon:40b</td>\n      <td>as an ai language model, i am not capable of p...</td>\n      <td>en</td>\n    </tr>\n    <tr>\n      <th>119</th>\n      <td>qwen:72b</td>\n      <td>\"datenschutz ist mehr als ein trend - es schüt...</td>\n      <td>de</td>\n    </tr>\n  </tbody>\n</table>\n<p>120 rows × 3 columns</p>\n</div>"
     },
     "execution_count": 5,
     "metadata": {},
     "output_type": "execute_result"
    }
   ],
   "source": [
    "dataset['lang'] = dataset.apply(lambda row: langdetect.detect(row.response) if len(row.response) > 1 else None, axis=1)\n",
    "dataset"
   ],
   "metadata": {
    "collapsed": false,
    "ExecuteTime": {
     "end_time": "2024-03-21T10:56:21.845608Z",
     "start_time": "2024-03-21T10:56:20.623818Z"
    }
   },
   "id": "7106df8cff381f20",
   "execution_count": 5
  },
  {
   "cell_type": "code",
   "outputs": [
    {
     "data": {
      "text/plain": "model\nmixtral:8x7b    21\nqwen:72b        18\nllama2:70b      11\nfalcon:40b       0\nName: count, dtype: int64"
     },
     "execution_count": 6,
     "metadata": {},
     "output_type": "execute_result"
    }
   ],
   "source": [
    "german_subset: pd.DataFrame = dataset[dataset.lang == 'de']\n",
    "german_subset['model'].value_counts()"
   ],
   "metadata": {
    "collapsed": false,
    "ExecuteTime": {
     "end_time": "2024-03-21T10:56:21.855423Z",
     "start_time": "2024-03-21T10:56:21.847539Z"
    }
   },
   "id": "45df27aa79f912bf",
   "execution_count": 6
  },
  {
   "cell_type": "code",
   "outputs": [
    {
     "data": {
      "text/plain": "{'falcon:40b': [],\n 'llama2:70b': ['wir',\n  'müssen',\n  'unsere',\n  'persönlichen',\n  'informationen',\n  'schützen',\n  '!',\n  '🚫💻',\n  'data',\n  'privacy',\n  'ist',\n  'wichtiger',\n  'als',\n  'je',\n  'zuvor',\n  '.',\n  'datenschutz',\n  'privatsphäre',\n  'sicherheit',\n  'datenschutz',\n  'ist',\n  'menschenrecht',\n  '!',\n  '💻✊🏼',\n  'es',\n  'ist',\n  'alarmierend',\n  ',',\n  'wie',\n  'oft',\n  'wir',\n  'unsere',\n  'persönlichen',\n  'daten',\n  'online',\n  'preisgeben',\n  ',',\n  'ohne',\n  'darüber',\n  'nachzudenken',\n  '.',\n  '🤔',\n  'jedes',\n  'mal',\n  ',',\n  'wenn',\n  'wir',\n  'ein',\n  'formular',\n  'ausfüllen',\n  ',',\n  'eine',\n  'app',\n  'installieren',\n  'oder',\n  'ein',\n  'konto',\n  'erstellen',\n  ',',\n  'gaben',\n  'wir',\n  'unsere',\n  'daten',\n  'weg',\n  '.',\n  '💥',\n  'naiv',\n  '?',\n  'nein',\n  '!',\n  'wir',\n  'müssen',\n  'unsere',\n  'privatsphäre',\n  'schützen',\n  'und',\n  'fordern',\n  'unternehmen',\n  'und',\n  'regierungen',\n  'dazu',\n  'auf',\n  ',',\n  'unsere',\n  'daten',\n  'zu',\n  'schützen',\n  '!',\n  '📈👀',\n  'datenschutz',\n  'privatsphäre',\n  'digitalrights',\n  'wir',\n  'müssen',\n  'unsere',\n  'persönlichen',\n  'informationen',\n  'schützen',\n  '!',\n  '🚫💻',\n  'data',\n  'privacy',\n  'ist',\n  'wichtiger',\n  'als',\n  'je',\n  'zuvor',\n  '.',\n  'ich',\n  'denke',\n  ',',\n  'es',\n  'ist',\n  'zeit',\n  'für',\n  'uns',\n  ',',\n  'die',\n  'kontrolle',\n  'über',\n  'unsere',\n  'daten',\n  'zurückzunehmen',\n  'und',\n  'die',\n  'politik',\n  'zu',\n  'verlangen',\n  ',',\n  'dass',\n  'sie',\n  'unsere',\n  'privatsphäre',\n  'respektieren',\n  '.',\n  'datenschutz',\n  'privatsphäre',\n  'digitalrights',\n  'wir',\n  'müssen',\n  'unsere',\n  'persönlichen',\n  'informationen',\n  'schützen',\n  '!',\n  '🚫💻',\n  'die',\n  'datenprivatsphäre',\n  'ist',\n  'wichtiger',\n  'als',\n  'je',\n  'zuvor',\n  '.',\n  'datenschutz',\n  'privatsphäre',\n  'security',\n  'wir',\n  'müssen',\n  'unsere',\n  'persönlichen',\n  'informationen',\n  'schützen',\n  '!',\n  '🚫👀',\n  'in',\n  'zeitalter',\n  'von',\n  'datenschutz',\n  'und',\n  'surveillance',\n  'capitalism',\n  'ist',\n  'es',\n  'wichtiger',\n  'denn',\n  'je',\n  ',',\n  'dass',\n  'wir',\n  'unsere',\n  'daten',\n  'nicht',\n  'unkontrolliert',\n  'preisgeben',\n  '.',\n  '💻🔒',\n  'was',\n  'denken',\n  'sie',\n  'dazu',\n  '?',\n  'wie',\n  'schützen',\n  'sie',\n  'ihre',\n  'personen',\n  'informationen',\n  '?',\n  'wir',\n  'müssen',\n  'unsere',\n  'persönlichen',\n  'informationen',\n  'schützen',\n  '!',\n  '🚫💻',\n  'data',\n  'privacy',\n  'ist',\n  'wichtiger',\n  'denn',\n  'je',\n  '.',\n  'lasst',\n  'uns',\n  'nicht',\n  'von',\n  'unternehmen',\n  'und',\n  'regierungen',\n  'ausnutzt',\n  'werden',\n  '.',\n  'datenschutz',\n  'privatsphäre',\n  'security',\n  'datenschutz',\n  'ist',\n  'wichtig',\n  '!',\n  '🚫👀',\n  'aber',\n  'wovonactly',\n  '?',\n  '🤔',\n  'ich',\n  'denke',\n  ',',\n  'es',\n  'ist',\n  'zeit',\n  ',',\n  'dass',\n  'wir',\n  'über',\n  'die',\n  'verwendung',\n  'unserer',\n  'persönlichen',\n  'daten',\n  'nachdenken',\n  'und',\n  'uns',\n  'für',\n  'eine',\n  'stärkere',\n  'datenschutz-gesetzgebung',\n  'einsetzen',\n  '.',\n  '💪',\n  'datenschutz',\n  'privatsphäre',\n  'digitalrights',\n  'translation',\n  ':',\n  'data',\n  'protection',\n  'is',\n  'important',\n  '!',\n  '🚫👀',\n  'but',\n  'what',\n  'exactly',\n  '?',\n  '🤔',\n  'i',\n  'think',\n  'it',\n  \"'s\",\n  'time',\n  'we',\n  'start',\n  'thinking',\n  'about',\n  'how',\n  'our',\n  'personal',\n  'data',\n  'is',\n  'being',\n  'used',\n  'and',\n  'advocate',\n  'for',\n  'stronger',\n  'data',\n  'protection',\n  'laws',\n  '.',\n  '💪',\n  'dataprotection',\n  'privacy',\n  'digitalrights',\n  'datenschutz',\n  'ist',\n  'wichtig',\n  '!',\n  '🤖🔒',\n  'es',\n  'ist',\n  'zeit',\n  ',',\n  'dass',\n  'wir',\n  'unsere',\n  'persönlichen',\n  'informationen',\n  'schützen',\n  'und',\n  'die',\n  'kontrolle',\n  'über',\n  'unsere',\n  'daten',\n  'zurückerobern',\n  '.',\n  'datenschutz',\n  'privatsphäre',\n  'sicherheit',\n  'wir',\n  'müssen',\n  'unsere',\n  'persönlichen',\n  'daten',\n  'schützen',\n  '!',\n  '🚫💻',\n  'datenschutz',\n  'privatsphäre',\n  'sicherheit',\n  'wir',\n  'sollten',\n  'uns',\n  'überlegen',\n  ',',\n  'wie',\n  'wir',\n  'unsere',\n  'persönlichen',\n  'informationen',\n  'schützen',\n  'können',\n  '.',\n  'data',\n  'privacy',\n  'ist',\n  'wichtig',\n  '!',\n  '🤔💻',\n  'datenschutz',\n  'privatsphäre',\n  'datenschutz',\n  'ist',\n  'menschenrecht',\n  '!',\n  '💻✊',\n  'was',\n  'denken',\n  'sie',\n  'denn',\n  ',',\n  'wovon',\n  'wir',\n  'sprechen',\n  '?',\n  '🤔',\n  'nichts',\n  'weniger',\n  'als',\n  'unser',\n  'recht',\n  'auf',\n  'privatsphäre',\n  'und',\n  'informationelle',\n  'selbstbestimmung',\n  '.',\n  '🚫',\n  'keine',\n  'firma',\n  'darf',\n  'unsere',\n  'daten',\n  'ohne',\n  'erlaubnis',\n  'sammeln',\n  'oder',\n  'nutzen',\n  '!',\n  '😱',\n  'datenschutz',\n  'privatsphäre',\n  'menschenrecht'],\n 'mixtral:8x7b': ['in',\n  'deutschland',\n  'schätzen',\n  'wir',\n  'den',\n  'schutz',\n  'unserer',\n  'persönlichen',\n  'daten',\n  '.',\n  'lasst',\n  'uns',\n  'vorsichtig',\n  'sein',\n  ',',\n  'was',\n  'wir',\n  'online',\n  'teilen',\n  'und',\n  'verlangen',\n  ',',\n  'dass',\n  'unternehmen',\n  'rechenschaft',\n  'für',\n  'ihre',\n  'datenschutzpraktiken',\n  'ablegen',\n  '.',\n  'datenschutz',\n  'translation',\n  ':',\n  'in',\n  'germany',\n  ',',\n  'we',\n  'value',\n  'the',\n  'protection',\n  'of',\n  'our',\n  'personal',\n  'data',\n  '.',\n  'let',\n  \"'s\",\n  'be',\n  'careful',\n  'with',\n  'what',\n  'we',\n  'share',\n  'online',\n  'and',\n  'demand',\n  'accountability',\n  'from',\n  'companies',\n  'regarding',\n  'their',\n  'data',\n  'privacy',\n  'practices',\n  '.',\n  'dataprivacy',\n  'in',\n  'deutschland',\n  'schätzen',\n  'wir',\n  'den',\n  'schutz',\n  'unserer',\n  'persönlichen',\n  'daten',\n  'sehr',\n  '.',\n  'lasst',\n  'uns',\n  'vorsichtig',\n  'sein',\n  'und',\n  'die',\n  'kontrolle',\n  'über',\n  'unsere',\n  'informationen',\n  'behalten',\n  '.',\n  'datenschutz',\n  'translation',\n  ':',\n  'in',\n  'germany',\n  ',',\n  'we',\n  'value',\n  'the',\n  'protection',\n  'of',\n  'our',\n  'personal',\n  'data',\n  'highly',\n  '.',\n  'let',\n  \"'s\",\n  'be',\n  'cautious',\n  'and',\n  'maintain',\n  'control',\n  'over',\n  'our',\n  'information',\n  '.',\n  'dataprivacy',\n  'schützt',\n  'eure',\n  'persönlichen',\n  'daten',\n  '!',\n  'vergesst',\n  'nicht',\n  ',',\n  'dass',\n  'privatsphäre',\n  'ein',\n  'grundrecht',\n  'ist',\n  '.',\n  'seid',\n  'vorsichtig',\n  'bei',\n  'der',\n  'preisgabe',\n  'von',\n  'informationen',\n  'im',\n  'internet',\n  '.',\n  'datenschutz',\n  'translation',\n  ':',\n  'protect',\n  'your',\n  'personal',\n  'data',\n  '!',\n  'do',\n  \"n't\",\n  'forget',\n  'that',\n  'privacy',\n  'is',\n  'a',\n  'fundamental',\n  'right',\n  '.',\n  'be',\n  'cautious',\n  'when',\n  'sharing',\n  'information',\n  'online',\n  '.',\n  'dataprivacy',\n  'schützt',\n  'unsere',\n  'persönlichen',\n  'daten',\n  '!',\n  'wir',\n  'sollten',\n  'mehr',\n  'darauf',\n  'achten',\n  ',',\n  'wem',\n  'wir',\n  'unsere',\n  'informationen',\n  'anvertrauen',\n  'und',\n  'uns',\n  'für',\n  'strenge',\n  'datenschutzgesetze',\n  'einsetzen',\n  '.',\n  'datenschutz',\n  'translation',\n  ':',\n  'protect',\n  'our',\n  'personal',\n  'data',\n  '!',\n  'we',\n  'should',\n  'be',\n  'more',\n  'mindful',\n  'of',\n  'who',\n  'we',\n  'entrust',\n  'our',\n  'information',\n  'to',\n  'and',\n  'advocate',\n  'for',\n  'strict',\n  'data',\n  'protection',\n  'laws',\n  '.',\n  'dataprivacy',\n  'schützt',\n  'unsere',\n  'persönlichen',\n  'daten',\n  '!',\n  'wir',\n  'sollten',\n  'mehr',\n  'darauf',\n  'achten',\n  ',',\n  'welche',\n  'informationen',\n  'wir',\n  'online',\n  'preisgeben',\n  'und',\n  'unsere',\n  'privatsphäre-einstellungen',\n  'überprüfen',\n  '.',\n  'datenschutz',\n  'translation',\n  ':',\n  'protect',\n  'our',\n  'personal',\n  'data',\n  '!',\n  'we',\n  'should',\n  'be',\n  'more',\n  'mindful',\n  'of',\n  'the',\n  'information',\n  'we',\n  'share',\n  'online',\n  'and',\n  'double-check',\n  'our',\n  'privacy',\n  'settings',\n  '.',\n  'dataprivacy',\n  'in',\n  'deutschland',\n  'schützen',\n  'wir',\n  'sorgfältig',\n  'unsere',\n  'persönlichen',\n  'daten',\n  'und',\n  'respektieren',\n  'die',\n  'privatsphäre',\n  'jedes',\n  'einzelnen',\n  '.',\n  'lasst',\n  'uns',\n  'auch',\n  'online',\n  'darauf',\n  'achten',\n  ',',\n  'was',\n  'wir',\n  'teilen',\n  '!',\n  'datenschutz',\n  'translation',\n  ':',\n  'in',\n  'germany',\n  ',',\n  'we',\n  'carefully',\n  'protect',\n  'our',\n  'personal',\n  'data',\n  'and',\n  'respect',\n  'everyone',\n  \"'s\",\n  'privacy',\n  '.',\n  'let',\n  \"'s\",\n  'also',\n  'be',\n  'mindful',\n  'of',\n  'what',\n  'we',\n  'share',\n  'online',\n  '!',\n  'dataprivacy',\n  'in',\n  'deutschland',\n  'nehmen',\n  'wir',\n  'datenschutz',\n  'ernst',\n  '.',\n  'schütze',\n  'deine',\n  'persönlichen',\n  'daten',\n  'und',\n  'sei',\n  'vorsichtig',\n  ',',\n  'was',\n  'du',\n  'online',\n  'teilst',\n  '.',\n  'datenschutz',\n  'translation',\n  ':',\n  'in',\n  'germany',\n  ',',\n  'we',\n  'take',\n  'data',\n  'privacy',\n  'seriously',\n  '.',\n  'protect',\n  'your',\n  'personal',\n  'information',\n  'and',\n  'be',\n  'careful',\n  'what',\n  'you',\n  'share',\n  'online',\n  '.',\n  'dataprivacy',\n  'in',\n  'deutschland',\n  'nehmen',\n  'wir',\n  'datenschutz',\n  'ernst',\n  '!',\n  'schütze',\n  'deine',\n  'persönlichen',\n  'daten',\n  'und',\n  'überdenke',\n  ',',\n  'was',\n  'du',\n  'online',\n  'teilst',\n  '.',\n  'datenschützen',\n  'persönlichkeitsrechte',\n  'translation',\n  ':',\n  'in',\n  'germany',\n  ',',\n  'we',\n  'take',\n  'data',\n  'privacy',\n  'seriously',\n  '!',\n  'protect',\n  'your',\n  'personal',\n  'information',\n  'and',\n  'think',\n  'twice',\n  'about',\n  'what',\n  'you',\n  'share',\n  'online',\n  '.',\n  'protectdata',\n  'personalrights',\n  'in',\n  'deutschland',\n  'schätzen',\n  'wir',\n  'den',\n  'schutz',\n  'unserer',\n  'persönlichen',\n  'daten',\n  '.',\n  'lasst',\n  'uns',\n  'vorsichtig',\n  'sein',\n  ',',\n  'was',\n  'wir',\n  'online',\n  'teilen',\n  'und',\n  'fordern',\n  ',',\n  'dass',\n  'unternehmen',\n  'verantwortungsvoll',\n  'mit',\n  'unseren',\n  'informationen',\n  'umgehen',\n  '.',\n  'datenschutz',\n  'translation',\n  ':',\n  'in',\n  'germany',\n  ',',\n  'we',\n  'value',\n  'the',\n  'protection',\n  'of',\n  'our',\n  'personal',\n  'data',\n  '.',\n  'let',\n  \"'s\",\n  'be',\n  'cautious',\n  'about',\n  'what',\n  'we',\n  'share',\n  'online',\n  'and',\n  'demand',\n  'that',\n  'companies',\n  'act',\n  'responsibly',\n  'with',\n  'our',\n  'information',\n  '.',\n  'dataprivacy',\n  'in',\n  'deutschland',\n  'schätzen',\n  'wir',\n  'den',\n  'schutz',\n  'unserer',\n  'persönlichen',\n  'daten',\n  '.',\n  'lasst',\n  'uns',\n  'vorsichtig',\n  'sein',\n  'und',\n  'verantwortungsvoll',\n  'mit',\n  'unseren',\n  'informationen',\n  'umgehen',\n  '.',\n  'datenschutz',\n  'persönlicheinformationen',\n  'translation',\n  ':',\n  'in',\n  'germany',\n  ',',\n  'we',\n  'value',\n  'the',\n  'protection',\n  'of',\n  'our',\n  'personal',\n  'data',\n  '.',\n  'let',\n  \"'s\",\n  'be',\n  'careful',\n  'and',\n  'handle',\n  'our',\n  'information',\n  'responsibly',\n  '.',\n  'dataprotection',\n  'personalinformation',\n  'schützt',\n  'unsere',\n  'persönlichen',\n  'daten',\n  '!',\n  'wir',\n  'sollten',\n  'das',\n  'recht',\n  'auf',\n  'privatsphäre',\n  'im',\n  'digitalen',\n  'zeitalter',\n  'respektieren',\n  'und',\n  'aktiv',\n  'verteidigen',\n  '.',\n  'datenschutz',\n  'persoenlicheinformationen',\n  'in',\n  'deutschland',\n  'schätzen',\n  'wir',\n  'den',\n  'schutz',\n  'unserer',\n  'persönlichen',\n  'daten',\n  'sehr',\n  '.',\n  'denkt',\n  'daran',\n  ',',\n  'eure',\n  'privatsphäre',\n  'zu',\n  'wahren',\n  'und',\n  'sorgfältig',\n  'mit',\n  'euren',\n  'daten',\n  'umzugehen',\n  '.',\n  'datenschutz',\n  'translation',\n  ':',\n  'in',\n  'germany',\n  ',',\n  'we',\n  'value',\n  'the',\n  'protection',\n  'of',\n  'our',\n  'personal',\n  'data',\n  'very',\n  'much',\n  '.',\n  'remember',\n  'to',\n  'protect',\n  'your',\n  'privacy',\n  'and',\n  'handle',\n  'your',\n  'data',\n  'with',\n  'care',\n  '.',\n  'dataprivacy',\n  'in',\n  'deutschland',\n  'nehmen',\n  'wir',\n  'datenschutz',\n  'ernst',\n  '!',\n  'schütze',\n  'deine',\n  'persönlichen',\n  'daten',\n  'und',\n  'sei',\n  'achtsam',\n  'bei',\n  'deren',\n  'nutzung',\n  'im',\n  'internet',\n  '.',\n  'datenschützen',\n  'translation',\n  ':',\n  'in',\n  'germany',\n  ',',\n  'we',\n  'take',\n  'data',\n  'privacy',\n  'seriously',\n  '!',\n  'protect',\n  'your',\n  'personal',\n  'information',\n  'and',\n  'be',\n  'mindful',\n  'of',\n  'its',\n  'use',\n  'on',\n  'the',\n  'internet',\n  '.',\n  'protectdata',\n  'in',\n  'deutschland',\n  'schätzen',\n  'wir',\n  'den',\n  'schutz',\n  'unserer',\n  'persönlichen',\n  'daten',\n  '.',\n  'lasst',\n  'uns',\n  'vorsichtig',\n  'sein',\n  ',',\n  'was',\n  'wir',\n  'online',\n  'teilen',\n  'und',\n  'fordern',\n  'wir',\n  'stärkere',\n  'datenschutzgesetze',\n  '!',\n  'datenschutz',\n  'persönlicheinformationen',\n  'translation',\n  ':',\n  'in',\n  'germany',\n  ',',\n  'we',\n  'value',\n  'the',\n  'protection',\n  'of',\n  'our',\n  'personal',\n  'data',\n  '.',\n  'let',\n  \"'s\",\n  'be',\n  'careful',\n  'about',\n  'what',\n  'we',\n  'share',\n  'online',\n  'and',\n  'let',\n  \"'s\",\n  'demand',\n  'stronger',\n  'data',\n  'privacy',\n  'laws',\n  '!',\n  'dataprotection',\n  'personalinformation',\n  'in',\n  'deutschland',\n  'schätzen',\n  'wir',\n  'den',\n  'schutz',\n  'unserer',\n  'persönlichen',\n  'daten',\n  '.',\n  'unternehmen',\n  'sollten',\n  'verantwortungsvoll',\n  'mit',\n  'unseren',\n  'informationen',\n  'umgehen',\n  'und',\n  'unsere',\n  'privatsphäre',\n  'respektieren',\n  '.',\n  'datenschutz',\n  'translation',\n  ':',\n  'in',\n  'germany',\n  ',',\n  'we',\n  'value',\n  'the',\n  'protection',\n  'of',\n  'our',\n  'personal',\n  'data',\n  '.',\n  'companies',\n  'should',\n  'handle',\n  'our',\n  'information',\n  'responsibly',\n  'and',\n  'respect',\n  'our',\n  'privacy',\n  '.',\n  'dataprivacy',\n  'in',\n  'deutschland',\n  'schätzen',\n  'wir',\n  'den',\n  'schutz',\n  'unserer',\n  'persönlichen',\n  'daten',\n  '.',\n  'lasst',\n  'uns',\n  'vorsichtig',\n  'sein',\n  'und',\n  'achtsam',\n  'mit',\n  'unseren',\n  'informationen',\n  'umgehen',\n  '.',\n  'datenschutz',\n  'translation',\n  ':',\n  'in',\n  'germany',\n  ',',\n  'we',\n  'value',\n  'the',\n  'protection',\n  'of',\n  'our',\n  'personal',\n  'data',\n  '.',\n  'let',\n  \"'s\",\n  'be',\n  'careful',\n  'and',\n  'mindful',\n  'with',\n  'our',\n  'information',\n  '.',\n  'dataprivacy',\n  'in',\n  'deutschland',\n  'schätzen',\n  'wir',\n  'den',\n  'schutz',\n  'unserer',\n  'persönlichen',\n  'daten',\n  '.',\n  'lasst',\n  'uns',\n  'vorsichtig',\n  'sein',\n  'und',\n  'verantwortungsvoll',\n  'mit',\n  'unseren',\n  'informationen',\n  'umgehen',\n  '.',\n  'datenschutz',\n  'translation',\n  ':',\n  'in',\n  'germany',\n  ',',\n  'we',\n  'value',\n  'the',\n  'protection',\n  'of',\n  'our',\n  'personal',\n  'data',\n  '.',\n  'let',\n  \"'s\",\n  'be',\n  'careful',\n  'and',\n  'handle',\n  'our',\n  'information',\n  'responsibly',\n  '.',\n  'dataprivacy',\n  'schützt',\n  'eure',\n  'persönlichen',\n  'daten',\n  '!',\n  'denkt',\n  'daran',\n  ',',\n  'dass',\n  'privatsphäre',\n  'online',\n  'genauso',\n  'wichtig',\n  'ist',\n  'wie',\n  'offline',\n  '.',\n  'seid',\n  'vorsichtig',\n  'bei',\n  'der',\n  'herausgabe',\n  'von',\n  'informationen',\n  'und',\n  'überprüft',\n  'regelmäßig',\n  'eure',\n  'datenschutzeinstellungen',\n  '.',\n  'datenschutz',\n  'translation',\n  ':',\n  'protect',\n  'your',\n  'personal',\n  'data',\n  '!',\n  'remember',\n  'that',\n  'privacy',\n  'online',\n  'is',\n  'just',\n  'as',\n  'important',\n  'as',\n  'it',\n  'is',\n  'offline',\n  '.',\n  'be',\n  'careful',\n  'about',\n  'sharing',\n  'information',\n  'and',\n  'regularly',\n  'check',\n  'your',\n  'privacy',\n  'settings',\n  '.',\n  'dataprivacy',\n  'in',\n  'deutschland',\n  'schätzen',\n  'wir',\n  'den',\n  'schutz',\n  'unserer',\n  'persönlichen',\n  'daten',\n  '.',\n  'lasst',\n  'uns',\n  'vorsichtig',\n  'sein',\n  ',',\n  'was',\n  'wir',\n  'online',\n  'teilen',\n  'und',\n  'unternehmen',\n  'dazu',\n  'ermutigen',\n  ',',\n  'transparenter',\n  'mit',\n  'unseren',\n  'informationen',\n  'umzugehen',\n  '.',\n  'datenschutz',\n  'translation',\n  ':',\n  'in',\n  'germany',\n  ',',\n  'we',\n  'value',\n  'the',\n  'protection',\n  'of',\n  'our',\n  'personal',\n  'data',\n  '.',\n  'let',\n  \"'s\",\n  'be',\n  'cautious',\n  'about',\n  'what',\n  'we',\n  'share',\n  'online',\n  'and',\n  'encourage',\n  'companies',\n  'to',\n  'be',\n  'more',\n  'transparent',\n  'with',\n  'our',\n  'information',\n  '.',\n  'dataprivacy',\n  'in',\n  'deutschland',\n  'schützen',\n  'wir',\n  'sorgfältig',\n  'unsere',\n  'persönlichen',\n  'daten',\n  'und',\n  'respektieren',\n  'die',\n  'privatsphäre',\n  '.',\n  'lasst',\n  'uns',\n  ...],\n 'qwen:72b': ['data',\n  'privacy',\n  'matters',\n  '!',\n  '💻🔒',\n  'wer',\n  'seine',\n  'persönlichen',\n  'informationen',\n  'schützen',\n  'will',\n  ',',\n  'muss',\n  'kritisch',\n  'über',\n  'datenzugriffe',\n  'nachdenken',\n  '.',\n  'datenschutz',\n  'privacyfirst',\n  'datenschutz',\n  'ist',\n  'nicht',\n  'nur',\n  'ein',\n  'wort',\n  ',',\n  'es',\n  'ist',\n  'die',\n  'schutzmauer',\n  'für',\n  'unsere',\n  'persönlichen',\n  'informationen',\n  '.',\n  'aber',\n  'wie',\n  'sicher',\n  'sind',\n  'wir',\n  'wirklich',\n  ',',\n  'wenn',\n  'unser',\n  'datenbestand',\n  'immer',\n  'größer',\n  'wird',\n  '?',\n  'datensicherheit',\n  'datenschutzreform',\n  'datenprivacy',\n  'immer',\n  'wichtiger',\n  '!',\n  'aber',\n  'fragt',\n  'sich',\n  ',',\n  'ob',\n  'genug',\n  'getan',\n  'wird',\n  ',',\n  'unsere',\n  'persönlichen',\n  'informationen',\n  'zu',\n  'schützen',\n  '.',\n  'dataprivacymatters',\n  'datenschutz',\n  'oder',\n  'überwachung',\n  '?',\n  'unsere',\n  'persönlichen',\n  'informationen',\n  'sind',\n  'stärker',\n  'denn',\n  'je',\n  'im',\n  'fokus',\n  '.',\n  'aber',\n  'wer',\n  'schützt',\n  'uns',\n  'vor',\n  'missbräuchlicher',\n  'nutzung',\n  '?',\n  'datenschutz',\n  'privatsphäre',\n  'öffentliche',\n  'datensicherheit',\n  '–',\n  'mehr',\n  'als',\n  'nur',\n  'ein',\n  'hohlwort',\n  '?',\n  'die',\n  'schutzmaßnahmen',\n  'für',\n  'persönliche',\n  'informationen',\n  'müssen',\n  'endlich',\n  'den',\n  'anforderungen',\n  'entsprechen',\n  '.',\n  'datenschutz',\n  'persönlichkeitsrechte',\n  '数据保护',\n  'oder',\n  'das',\n  'recht',\n  'auf',\n  'privatsphäre',\n  '?',\n  'wann',\n  'wird',\n  'uns',\n  'endlich',\n  'unsere',\n  'eigenen',\n  'informationen',\n  'zurückgeben',\n  '?',\n  'datenschutz',\n  'privatsphäre',\n  'datenschutz',\n  'ist',\n  'mehr',\n  'als',\n  'ein',\n  'trend',\n  '-',\n  'es',\n  'geht',\n  'um',\n  'die',\n  'schutz',\n  'unserer',\n  'identität',\n  'im',\n  'digitalen',\n  'zeitalter',\n  '.',\n  'fragt',\n  'euch',\n  ',',\n  'wie',\n  'viel',\n  'ihr',\n  'wirklich',\n  'bereit',\n  'seid',\n  ',',\n  'preiszugeben',\n  '?',\n  'datenschutz',\n  'privacymatters',\n  'datenschutz',\n  'oder',\n  'überwachung',\n  '?',\n  'unsere',\n  'persönlichen',\n  'informationen',\n  'sollten',\n  'stets',\n  'geschützt',\n  'sein',\n  ',',\n  'aber',\n  'wo',\n  'draw',\n  'the',\n  'line',\n  '?',\n  'datenschutz',\n  'persönlichesinfo',\n  'criticallyexamining',\n  'datenschutz',\n  'oder',\n  'überwachung',\n  '?',\n  'unsere',\n  'persönlichen',\n  'informationen',\n  'brauchen',\n  'echten',\n  'schutz',\n  ',',\n  'nicht',\n  'nur',\n  'lippenbekenntnisse',\n  '.',\n  'datenschutz',\n  'privatsphäre',\n  'datenprivacy',\n  'matters',\n  '!',\n  'warum',\n  'geben',\n  'wirour',\n  'personal',\n  'details',\n  'so輕鬆freiwillig',\n  'weg',\n  '?',\n  'zeit',\n  'für',\n  'strengere',\n  'schutzmaßnahmen',\n  '!',\n  'dataprivacy',\n  'persönlichkeitsrechte',\n  'datenschutz',\n  'ist',\n  'mehr',\n  'als',\n  'ein',\n  'trend',\n  '-',\n  'es',\n  'schützt',\n  'unsere',\n  'identität',\n  'und',\n  'privatsphäre',\n  '.',\n  'fragt',\n  'euch',\n  ',',\n  'wie',\n  'viel',\n  'ihr',\n  'wirklich',\n  'bereit',\n  'seid',\n  ',',\n  'preiszugeben',\n  '?',\n  'datenschutz',\n  'privacymatters',\n  'datenschutz',\n  'oder',\n  'überwachung',\n  '?',\n  'unsere',\n  'persönlichen',\n  'informationen',\n  'müssen',\n  'besser',\n  'geschützt',\n  'werden',\n  '!',\n  'datensicherheit',\n  'privatsphäre',\n  'datenschutz',\n  'ist',\n  'nicht',\n  'nur',\n  'ein',\n  'wort',\n  ',',\n  'es',\n  'beschützt',\n  'unsere',\n  'identität',\n  'im',\n  'digitalen',\n  'zeitalter',\n  '.',\n  'jeder',\n  'von',\n  'uns',\n  'hat',\n  'das',\n  'recht',\n  ',',\n  'über',\n  'seine',\n  'persönlichen',\n  'informationen',\n  'zu',\n  'bestimmen',\n  '.',\n  'daher',\n  'sollten',\n  'wir',\n  'alle',\n  'sensibler',\n  'für',\n  'daten隐私',\n  'werden',\n  'und',\n  'unsere',\n  'online-aktivitäten',\n  'entsprechend',\n  'schützen',\n  '.',\n  'data',\n  'privacy',\n  'matters',\n  '!',\n  '🛡️',\n  'wer',\n  'seine',\n  'persönlichen',\n  'informationen',\n  'schützen',\n  'will',\n  ',',\n  'sollte',\n  'sich',\n  'über',\n  'die',\n  'dsgvo',\n  'informieren',\n  '.',\n  '💻',\n  'datenschutz',\n  'dsgvo',\n  'datenschutz',\n  'matters',\n  '!',\n  'wie',\n  'können',\n  'wir真正保证我们的个人信息不被滥用？privacyrights',\n  'dataprotection',\n  'wirksame',\n  'schutzmaßnahmen',\n  'für',\n  'persönliche',\n  'daten',\n  '-',\n  'mehr',\n  'als',\n  'nur',\n  'ein',\n  'hype',\n  '?',\n  'datenschutz',\n  'persönlichkeitsrechte',\n  '🚨',\n  'daten',\n  'privacy',\n  'im',\n  'fokus',\n  '!',\n  '🚨',\n  'wieso',\n  'geben',\n  'wir',\n  'our',\n  'personlichen',\n  'informationen',\n  'so',\n  'leicht',\n  'her',\n  '?',\n  'zeit',\n  'für',\n  'strengere',\n  'schutzmaßnahmen',\n  '!',\n  '💻🛡️',\n  'datenschutz',\n  'privacymatters',\n  'datenschutz',\n  'ist',\n  'mehr',\n  'als',\n  'ein',\n  'trend',\n  '-',\n  'es',\n  'schützt',\n  'unsere',\n  'identität',\n  'und',\n  'persönliche',\n  'informationen',\n  '.',\n  'wissen',\n  'sie',\n  ',',\n  'was',\n  'ihre',\n  'daten',\n  'wirklich',\n  'tun',\n  '?',\n  'datenschutz',\n  'persönlichkeitsrechte']}"
     },
     "execution_count": 7,
     "metadata": {},
     "output_type": "execute_result"
    }
   ],
   "source": [
    "token_map: typing.Dict[str, typing.List[str]] = {\n",
    "    model: nltk.tokenize.word_tokenize(\n",
    "        ' '.join(group.response.tolist())\n",
    "        .lower()\n",
    "        .replace('\"', '')\n",
    "        .replace('#', '')\n",
    "    )\n",
    "    for model, group in german_subset.groupby('model', observed=False)\n",
    "}\n",
    "token_map"
   ],
   "metadata": {
    "collapsed": false,
    "ExecuteTime": {
     "end_time": "2024-03-21T10:56:21.917892Z",
     "start_time": "2024-03-21T10:56:21.857526Z"
    }
   },
   "id": "522b0f7fe67773d8",
   "execution_count": 7
  },
  {
   "cell_type": "code",
   "outputs": [
    {
     "data": {
      "text/plain": "{'falcon:40b': [],\n 'llama2:70b': ['müssen',\n  'persönlichen',\n  'informationen',\n  'schützen',\n  '🚫💻',\n  'data',\n  'privacy',\n  'wichtiger',\n  'je',\n  'zuvor',\n  'datenschutz',\n  'privatsphäre',\n  'sicherheit',\n  'datenschutz',\n  'menschenrecht',\n  '💻✊🏼',\n  'alarmierend',\n  'oft',\n  'persönlichen',\n  'daten',\n  'online',\n  'preisgeben',\n  'darüber',\n  'nachzudenken',\n  '🤔',\n  'mal',\n  'formular',\n  'ausfüllen',\n  'app',\n  'installieren',\n  'konto',\n  'erstellen',\n  'gaben',\n  'daten',\n  '💥',\n  'naiv',\n  'nein',\n  'müssen',\n  'privatsphäre',\n  'schützen',\n  'fordern',\n  'unternehmen',\n  'regierungen',\n  'daten',\n  'schützen',\n  '📈👀',\n  'datenschutz',\n  'privatsphäre',\n  'digitalrights',\n  'müssen',\n  'persönlichen',\n  'informationen',\n  'schützen',\n  '🚫💻',\n  'data',\n  'privacy',\n  'wichtiger',\n  'je',\n  'zuvor',\n  'denke',\n  'zeit',\n  'kontrolle',\n  'daten',\n  'zurückzunehmen',\n  'politik',\n  'verlangen',\n  'privatsphäre',\n  'respektieren',\n  'datenschutz',\n  'privatsphäre',\n  'digitalrights',\n  'müssen',\n  'persönlichen',\n  'informationen',\n  'schützen',\n  '🚫💻',\n  'datenprivatsphäre',\n  'wichtiger',\n  'je',\n  'zuvor',\n  'datenschutz',\n  'privatsphäre',\n  'security',\n  'müssen',\n  'persönlichen',\n  'informationen',\n  'schützen',\n  '🚫👀',\n  'zeitalter',\n  'datenschutz',\n  'surveillance',\n  'capitalism',\n  'wichtiger',\n  'je',\n  'daten',\n  'unkontrolliert',\n  'preisgeben',\n  '💻🔒',\n  'denken',\n  'schützen',\n  'personen',\n  'informationen',\n  'müssen',\n  'persönlichen',\n  'informationen',\n  'schützen',\n  '🚫💻',\n  'data',\n  'privacy',\n  'wichtiger',\n  'je',\n  'lasst',\n  'unternehmen',\n  'regierungen',\n  'ausnutzt',\n  'datenschutz',\n  'privatsphäre',\n  'security',\n  'datenschutz',\n  'wichtig',\n  '🚫👀',\n  'wovonactly',\n  '🤔',\n  'denke',\n  'zeit',\n  'verwendung',\n  'unserer',\n  'persönlichen',\n  'daten',\n  'nachdenken',\n  'stärkere',\n  'datenschutz-gesetzgebung',\n  'einsetzen',\n  '💪',\n  'datenschutz',\n  'privatsphäre',\n  'digitalrights',\n  'translation',\n  'data',\n  'protection',\n  'is',\n  'important',\n  '🚫👀',\n  'but',\n  'what',\n  'exactly',\n  '🤔',\n  'i',\n  'think',\n  'it',\n  \"'s\",\n  'time',\n  'we',\n  'start',\n  'thinking',\n  'about',\n  'how',\n  'our',\n  'personal',\n  'data',\n  'is',\n  'being',\n  'used',\n  'and',\n  'advocate',\n  'for',\n  'stronger',\n  'data',\n  'protection',\n  'laws',\n  '💪',\n  'dataprotection',\n  'privacy',\n  'digitalrights',\n  'datenschutz',\n  'wichtig',\n  '🤖🔒',\n  'zeit',\n  'persönlichen',\n  'informationen',\n  'schützen',\n  'kontrolle',\n  'daten',\n  'zurückerobern',\n  'datenschutz',\n  'privatsphäre',\n  'sicherheit',\n  'müssen',\n  'persönlichen',\n  'daten',\n  'schützen',\n  '🚫💻',\n  'datenschutz',\n  'privatsphäre',\n  'sicherheit',\n  'sollten',\n  'überlegen',\n  'persönlichen',\n  'informationen',\n  'schützen',\n  'data',\n  'privacy',\n  'wichtig',\n  '🤔💻',\n  'datenschutz',\n  'privatsphäre',\n  'datenschutz',\n  'menschenrecht',\n  '💻✊',\n  'denken',\n  'wovon',\n  'sprechen',\n  '🤔',\n  'weniger',\n  'recht',\n  'privatsphäre',\n  'informationelle',\n  'selbstbestimmung',\n  '🚫',\n  'firma',\n  'darf',\n  'daten',\n  'erlaubnis',\n  'sammeln',\n  'nutzen',\n  '😱',\n  'datenschutz',\n  'privatsphäre',\n  'menschenrecht'],\n 'mixtral:8x7b': ['deutschland',\n  'schätzen',\n  'schutz',\n  'unserer',\n  'persönlichen',\n  'daten',\n  'lasst',\n  'vorsichtig',\n  'online',\n  'teilen',\n  'verlangen',\n  'unternehmen',\n  'rechenschaft',\n  'datenschutzpraktiken',\n  'ablegen',\n  'datenschutz',\n  'translation',\n  'germany',\n  'we',\n  'value',\n  'the',\n  'protection',\n  'of',\n  'our',\n  'personal',\n  'data',\n  'let',\n  \"'s\",\n  'be',\n  'careful',\n  'with',\n  'what',\n  'we',\n  'share',\n  'online',\n  'and',\n  'demand',\n  'accountability',\n  'from',\n  'companies',\n  'regarding',\n  'their',\n  'data',\n  'privacy',\n  'practices',\n  'dataprivacy',\n  'deutschland',\n  'schätzen',\n  'schutz',\n  'unserer',\n  'persönlichen',\n  'daten',\n  'lasst',\n  'vorsichtig',\n  'kontrolle',\n  'informationen',\n  'behalten',\n  'datenschutz',\n  'translation',\n  'germany',\n  'we',\n  'value',\n  'the',\n  'protection',\n  'of',\n  'our',\n  'personal',\n  'data',\n  'highly',\n  'let',\n  \"'s\",\n  'be',\n  'cautious',\n  'and',\n  'maintain',\n  'control',\n  'over',\n  'our',\n  'information',\n  'dataprivacy',\n  'schützt',\n  'persönlichen',\n  'daten',\n  'vergesst',\n  'privatsphäre',\n  'grundrecht',\n  'seid',\n  'vorsichtig',\n  'preisgabe',\n  'informationen',\n  'internet',\n  'datenschutz',\n  'translation',\n  'protect',\n  'your',\n  'personal',\n  'data',\n  'do',\n  \"n't\",\n  'forget',\n  'that',\n  'privacy',\n  'is',\n  'a',\n  'fundamental',\n  'right',\n  'be',\n  'cautious',\n  'when',\n  'sharing',\n  'information',\n  'online',\n  'dataprivacy',\n  'schützt',\n  'persönlichen',\n  'daten',\n  'sollten',\n  'mehr',\n  'darauf',\n  'achten',\n  'wem',\n  'informationen',\n  'anvertrauen',\n  'strenge',\n  'datenschutzgesetze',\n  'einsetzen',\n  'datenschutz',\n  'translation',\n  'protect',\n  'our',\n  'personal',\n  'data',\n  'we',\n  'should',\n  'be',\n  'more',\n  'mindful',\n  'of',\n  'who',\n  'we',\n  'entrust',\n  'our',\n  'information',\n  'to',\n  'and',\n  'advocate',\n  'for',\n  'strict',\n  'data',\n  'protection',\n  'laws',\n  'dataprivacy',\n  'schützt',\n  'persönlichen',\n  'daten',\n  'sollten',\n  'mehr',\n  'darauf',\n  'achten',\n  'informationen',\n  'online',\n  'preisgeben',\n  'privatsphäre-einstellungen',\n  'überprüfen',\n  'datenschutz',\n  'translation',\n  'protect',\n  'our',\n  'personal',\n  'data',\n  'we',\n  'should',\n  'be',\n  'more',\n  'mindful',\n  'of',\n  'the',\n  'information',\n  'we',\n  'share',\n  'online',\n  'and',\n  'double-check',\n  'our',\n  'privacy',\n  'settings',\n  'dataprivacy',\n  'deutschland',\n  'schützen',\n  'sorgfältig',\n  'persönlichen',\n  'daten',\n  'respektieren',\n  'privatsphäre',\n  'einzelnen',\n  'lasst',\n  'online',\n  'darauf',\n  'achten',\n  'teilen',\n  'datenschutz',\n  'translation',\n  'germany',\n  'we',\n  'carefully',\n  'protect',\n  'our',\n  'personal',\n  'data',\n  'and',\n  'respect',\n  'everyone',\n  \"'s\",\n  'privacy',\n  'let',\n  \"'s\",\n  'be',\n  'mindful',\n  'of',\n  'what',\n  'we',\n  'share',\n  'online',\n  'dataprivacy',\n  'deutschland',\n  'nehmen',\n  'datenschutz',\n  'ernst',\n  'schütze',\n  'persönlichen',\n  'daten',\n  'sei',\n  'vorsichtig',\n  'online',\n  'teilst',\n  'datenschutz',\n  'translation',\n  'germany',\n  'we',\n  'take',\n  'data',\n  'privacy',\n  'seriously',\n  'protect',\n  'your',\n  'personal',\n  'information',\n  'and',\n  'be',\n  'careful',\n  'what',\n  'you',\n  'share',\n  'online',\n  'dataprivacy',\n  'deutschland',\n  'nehmen',\n  'datenschutz',\n  'ernst',\n  'schütze',\n  'persönlichen',\n  'daten',\n  'überdenke',\n  'online',\n  'teilst',\n  'datenschützen',\n  'persönlichkeitsrechte',\n  'translation',\n  'germany',\n  'we',\n  'take',\n  'data',\n  'privacy',\n  'seriously',\n  'protect',\n  'your',\n  'personal',\n  'information',\n  'and',\n  'think',\n  'twice',\n  'about',\n  'what',\n  'you',\n  'share',\n  'online',\n  'protectdata',\n  'personalrights',\n  'deutschland',\n  'schätzen',\n  'schutz',\n  'unserer',\n  'persönlichen',\n  'daten',\n  'lasst',\n  'vorsichtig',\n  'online',\n  'teilen',\n  'fordern',\n  'unternehmen',\n  'verantwortungsvoll',\n  'informationen',\n  'umgehen',\n  'datenschutz',\n  'translation',\n  'germany',\n  'we',\n  'value',\n  'the',\n  'protection',\n  'of',\n  'our',\n  'personal',\n  'data',\n  'let',\n  \"'s\",\n  'be',\n  'cautious',\n  'about',\n  'what',\n  'we',\n  'share',\n  'online',\n  'and',\n  'demand',\n  'that',\n  'companies',\n  'act',\n  'responsibly',\n  'with',\n  'our',\n  'information',\n  'dataprivacy',\n  'deutschland',\n  'schätzen',\n  'schutz',\n  'unserer',\n  'persönlichen',\n  'daten',\n  'lasst',\n  'vorsichtig',\n  'verantwortungsvoll',\n  'informationen',\n  'umgehen',\n  'datenschutz',\n  'persönlicheinformationen',\n  'translation',\n  'germany',\n  'we',\n  'value',\n  'the',\n  'protection',\n  'of',\n  'our',\n  'personal',\n  'data',\n  'let',\n  \"'s\",\n  'be',\n  'careful',\n  'and',\n  'handle',\n  'our',\n  'information',\n  'responsibly',\n  'dataprotection',\n  'personalinformation',\n  'schützt',\n  'persönlichen',\n  'daten',\n  'sollten',\n  'recht',\n  'privatsphäre',\n  'digitalen',\n  'zeitalter',\n  'respektieren',\n  'aktiv',\n  'verteidigen',\n  'datenschutz',\n  'persoenlicheinformationen',\n  'deutschland',\n  'schätzen',\n  'schutz',\n  'unserer',\n  'persönlichen',\n  'daten',\n  'denkt',\n  'daran',\n  'privatsphäre',\n  'wahren',\n  'sorgfältig',\n  'daten',\n  'umzugehen',\n  'datenschutz',\n  'translation',\n  'germany',\n  'we',\n  'value',\n  'the',\n  'protection',\n  'of',\n  'our',\n  'personal',\n  'data',\n  'very',\n  'much',\n  'remember',\n  'to',\n  'protect',\n  'your',\n  'privacy',\n  'and',\n  'handle',\n  'your',\n  'data',\n  'with',\n  'care',\n  'dataprivacy',\n  'deutschland',\n  'nehmen',\n  'datenschutz',\n  'ernst',\n  'schütze',\n  'persönlichen',\n  'daten',\n  'sei',\n  'achtsam',\n  'deren',\n  'nutzung',\n  'internet',\n  'datenschützen',\n  'translation',\n  'germany',\n  'we',\n  'take',\n  'data',\n  'privacy',\n  'seriously',\n  'protect',\n  'your',\n  'personal',\n  'information',\n  'and',\n  'be',\n  'mindful',\n  'of',\n  'its',\n  'use',\n  'on',\n  'the',\n  'internet',\n  'protectdata',\n  'deutschland',\n  'schätzen',\n  'schutz',\n  'unserer',\n  'persönlichen',\n  'daten',\n  'lasst',\n  'vorsichtig',\n  'online',\n  'teilen',\n  'fordern',\n  'stärkere',\n  'datenschutzgesetze',\n  'datenschutz',\n  'persönlicheinformationen',\n  'translation',\n  'germany',\n  'we',\n  'value',\n  'the',\n  'protection',\n  'of',\n  'our',\n  'personal',\n  'data',\n  'let',\n  \"'s\",\n  'be',\n  'careful',\n  'about',\n  'what',\n  'we',\n  'share',\n  'online',\n  'and',\n  'let',\n  \"'s\",\n  'demand',\n  'stronger',\n  'data',\n  'privacy',\n  'laws',\n  'dataprotection',\n  'personalinformation',\n  'deutschland',\n  'schätzen',\n  'schutz',\n  'unserer',\n  'persönlichen',\n  'daten',\n  'unternehmen',\n  'sollten',\n  'verantwortungsvoll',\n  'informationen',\n  'umgehen',\n  'privatsphäre',\n  'respektieren',\n  'datenschutz',\n  'translation',\n  'germany',\n  'we',\n  'value',\n  'the',\n  'protection',\n  'of',\n  'our',\n  'personal',\n  'data',\n  'companies',\n  'should',\n  'handle',\n  'our',\n  'information',\n  'responsibly',\n  'and',\n  'respect',\n  'our',\n  'privacy',\n  'dataprivacy',\n  'deutschland',\n  'schätzen',\n  'schutz',\n  'unserer',\n  'persönlichen',\n  'daten',\n  'lasst',\n  'vorsichtig',\n  'achtsam',\n  'informationen',\n  'umgehen',\n  'datenschutz',\n  'translation',\n  'germany',\n  'we',\n  'value',\n  'the',\n  'protection',\n  'of',\n  'our',\n  'personal',\n  'data',\n  'let',\n  \"'s\",\n  'be',\n  'careful',\n  'and',\n  'mindful',\n  'with',\n  'our',\n  'information',\n  'dataprivacy',\n  'deutschland',\n  'schätzen',\n  'schutz',\n  'unserer',\n  'persönlichen',\n  'daten',\n  'lasst',\n  'vorsichtig',\n  'verantwortungsvoll',\n  'informationen',\n  'umgehen',\n  'datenschutz',\n  'translation',\n  'germany',\n  'we',\n  'value',\n  'the',\n  'protection',\n  'of',\n  'our',\n  'personal',\n  'data',\n  'let',\n  \"'s\",\n  'be',\n  'careful',\n  'and',\n  'handle',\n  'our',\n  'information',\n  'responsibly',\n  'dataprivacy',\n  'schützt',\n  'persönlichen',\n  'daten',\n  'denkt',\n  'daran',\n  'privatsphäre',\n  'online',\n  'genauso',\n  'wichtig',\n  'offline',\n  'seid',\n  'vorsichtig',\n  'herausgabe',\n  'informationen',\n  'überprüft',\n  'regelmäßig',\n  'datenschutzeinstellungen',\n  'datenschutz',\n  'translation',\n  'protect',\n  'your',\n  'personal',\n  'data',\n  'remember',\n  'that',\n  'privacy',\n  'online',\n  'is',\n  'just',\n  'as',\n  'important',\n  'as',\n  'it',\n  'is',\n  'offline',\n  'be',\n  'careful',\n  'about',\n  'sharing',\n  'information',\n  'and',\n  'regularly',\n  'check',\n  'your',\n  'privacy',\n  'settings',\n  'dataprivacy',\n  'deutschland',\n  'schätzen',\n  'schutz',\n  'unserer',\n  'persönlichen',\n  'daten',\n  'lasst',\n  'vorsichtig',\n  'online',\n  'teilen',\n  'unternehmen',\n  'ermutigen',\n  'transparenter',\n  'informationen',\n  'umzugehen',\n  'datenschutz',\n  'translation',\n  'germany',\n  'we',\n  'value',\n  'the',\n  'protection',\n  'of',\n  'our',\n  'personal',\n  'data',\n  'let',\n  \"'s\",\n  'be',\n  'cautious',\n  'about',\n  'what',\n  'we',\n  'share',\n  'online',\n  'and',\n  'encourage',\n  'companies',\n  'to',\n  'be',\n  'more',\n  'transparent',\n  'with',\n  'our',\n  'information',\n  'dataprivacy',\n  'deutschland',\n  'schützen',\n  'sorgfältig',\n  'persönlichen',\n  'daten',\n  'respektieren',\n  'privatsphäre',\n  'lasst',\n  'twitter',\n  'genauso',\n  'darauf',\n  'achten',\n  'datenschutz',\n  'translation',\n  'germany',\n  'we',\n  'carefully',\n  'protect',\n  'our',\n  'personal',\n  'data',\n  'and',\n  'respect',\n  'privacy',\n  'let',\n  \"'s\",\n  'be',\n  'just',\n  'as',\n  'mindful',\n  'on',\n  'twitter',\n  'dataprivacy',\n  'schützt',\n  'persönlichen',\n  'daten',\n  'sollten',\n  'stets',\n  'darauf',\n  'achten',\n  'wer',\n  'zugang',\n  'informationen',\n  'verwendet',\n  'datenschutz',\n  'translation',\n  'protect',\n  'our',\n  'personal',\n  'data',\n  'we',\n  'should',\n  'always',\n  'pay',\n  'attention',\n  'to',\n  'who',\n  'has',\n  'access',\n  'to',\n  'our',\n  'information',\n  'and',\n  'how',\n  'it',\n  'is',\n  'used',\n  'dataprivacy'],\n 'qwen:72b': ['data',\n  'privacy',\n  'matters',\n  '💻🔒',\n  'wer',\n  'persönlichen',\n  'informationen',\n  'schützen',\n  'kritisch',\n  'datenzugriffe',\n  'nachdenken',\n  'datenschutz',\n  'privacyfirst',\n  'datenschutz',\n  'wort',\n  'schutzmauer',\n  'persönlichen',\n  'informationen',\n  'sicher',\n  'wirklich',\n  'datenbestand',\n  'immer',\n  'größer',\n  'datensicherheit',\n  'datenschutzreform',\n  'datenprivacy',\n  'immer',\n  'wichtiger',\n  'fragt',\n  'genug',\n  'getan',\n  'persönlichen',\n  'informationen',\n  'schützen',\n  'dataprivacymatters',\n  'datenschutz',\n  'überwachung',\n  'persönlichen',\n  'informationen',\n  'stärker',\n  'je',\n  'fokus',\n  'wer',\n  'schützt',\n  'missbräuchlicher',\n  'nutzung',\n  'datenschutz',\n  'privatsphäre',\n  'öffentliche',\n  'datensicherheit',\n  '–',\n  'mehr',\n  'hohlwort',\n  'schutzmaßnahmen',\n  'persönliche',\n  'informationen',\n  'müssen',\n  'endlich',\n  'anforderungen',\n  'entsprechen',\n  'datenschutz',\n  'persönlichkeitsrechte',\n  '数据保护',\n  'recht',\n  'privatsphäre',\n  'wann',\n  'endlich',\n  'eigenen',\n  'informationen',\n  'zurückgeben',\n  'datenschutz',\n  'privatsphäre',\n  'datenschutz',\n  'mehr',\n  'trend',\n  'geht',\n  'schutz',\n  'unserer',\n  'identität',\n  'digitalen',\n  'zeitalter',\n  'fragt',\n  'wirklich',\n  'bereit',\n  'seid',\n  'preiszugeben',\n  'datenschutz',\n  'privacymatters',\n  'datenschutz',\n  'überwachung',\n  'persönlichen',\n  'informationen',\n  'sollten',\n  'stets',\n  'geschützt',\n  'draw',\n  'the',\n  'line',\n  'datenschutz',\n  'persönlichesinfo',\n  'criticallyexamining',\n  'datenschutz',\n  'überwachung',\n  'persönlichen',\n  'informationen',\n  'brauchen',\n  'echten',\n  'schutz',\n  'lippenbekenntnisse',\n  'datenschutz',\n  'privatsphäre',\n  'datenprivacy',\n  'matters',\n  'warum',\n  'geben',\n  'wirour',\n  'personal',\n  'details',\n  'so輕鬆freiwillig',\n  'zeit',\n  'strengere',\n  'schutzmaßnahmen',\n  'dataprivacy',\n  'persönlichkeitsrechte',\n  'datenschutz',\n  'mehr',\n  'trend',\n  'schützt',\n  'identität',\n  'privatsphäre',\n  'fragt',\n  'wirklich',\n  'bereit',\n  'seid',\n  'preiszugeben',\n  'datenschutz',\n  'privacymatters',\n  'datenschutz',\n  'überwachung',\n  'persönlichen',\n  'informationen',\n  'müssen',\n  'besser',\n  'geschützt',\n  'datensicherheit',\n  'privatsphäre',\n  'datenschutz',\n  'wort',\n  'beschützt',\n  'identität',\n  'digitalen',\n  'zeitalter',\n  'recht',\n  'persönlichen',\n  'informationen',\n  'bestimmen',\n  'daher',\n  'sollten',\n  'sensibler',\n  'daten隐私',\n  'online-aktivitäten',\n  'entsprechend',\n  'schützen',\n  'data',\n  'privacy',\n  'matters',\n  '🛡️',\n  'wer',\n  'persönlichen',\n  'informationen',\n  'schützen',\n  'dsgvo',\n  'informieren',\n  '💻',\n  'datenschutz',\n  'dsgvo',\n  'datenschutz',\n  'matters',\n  'wir真正保证我们的个人信息不被滥用？privacyrights',\n  'dataprotection',\n  'wirksame',\n  'schutzmaßnahmen',\n  'persönliche',\n  'daten',\n  'mehr',\n  'hype',\n  'datenschutz',\n  'persönlichkeitsrechte',\n  '🚨',\n  'daten',\n  'privacy',\n  'fokus',\n  '🚨',\n  'wieso',\n  'geben',\n  'our',\n  'personlichen',\n  'informationen',\n  'leicht',\n  'her',\n  'zeit',\n  'strengere',\n  'schutzmaßnahmen',\n  '💻🛡️',\n  'datenschutz',\n  'privacymatters',\n  'datenschutz',\n  'mehr',\n  'trend',\n  'schützt',\n  'identität',\n  'persönliche',\n  'informationen',\n  'wissen',\n  'daten',\n  'wirklich',\n  'tun',\n  'datenschutz',\n  'persönlichkeitsrechte']}"
     },
     "execution_count": 8,
     "metadata": {},
     "output_type": "execute_result"
    }
   ],
   "source": [
    "stopwords: typing.List[str] = [\n",
    "    *nltk.corpus.stopwords.words('german'),\n",
    "    *string.punctuation\n",
    "]\n",
    "\n",
    "token_map_cleaned: typing.Dict[str, typing.List[str]] = {\n",
    "    model: [\n",
    "        tok for tok in tokens if\n",
    "        tok not in stopwords\n",
    "    ]\n",
    "    for model, tokens in token_map.items()\n",
    "}\n",
    "token_map_cleaned"
   ],
   "metadata": {
    "collapsed": false,
    "ExecuteTime": {
     "end_time": "2024-03-21T10:56:21.952455Z",
     "start_time": "2024-03-21T10:56:21.920184Z"
    }
   },
   "id": "1f2b7eb3f846d948",
   "execution_count": 8
  },
  {
   "cell_type": "code",
   "outputs": [],
   "source": [
    "from nltk.util import ngrams\n",
    "\n",
    "token_count: typing.Dict[str, pd.Series] = {}\n",
    "\n",
    "for model, tokens in token_map_cleaned.items():\n",
    "    counter = collections.Counter(ngrams(tokens, n=CFG.n_grams_analysis))\n",
    "\n",
    "    for token in [\n",
    "        *nltk.corpus.stopwords.words('english'),\n",
    "        *nltk.corpus.stopwords.words('german'),\n",
    "        *string.punctuation\n",
    "    ]:\n",
    "        del counter[token]\n",
    "\n",
    "    token_count[model] = pd.Series(counter, name='count').sort_values(ascending=False)"
   ],
   "metadata": {
    "collapsed": false,
    "ExecuteTime": {
     "end_time": "2024-03-21T10:56:21.972067Z",
     "start_time": "2024-03-21T10:56:21.955021Z"
    }
   },
   "id": "3693555b33b24eaf",
   "execution_count": 9
  },
  {
   "cell_type": "code",
   "outputs": [
    {
     "data": {
      "text/plain": "                    falcon:40b  llama2:70b  mixtral:8x7b  qwen:72b\ndatenschutz                NaN        15.0          22.0      22.0\nprivatsphäre               NaN        13.0           7.0       6.0\nschützen                   NaN        11.0           2.0       4.0\npersönlichen               NaN        10.0          21.0       9.0\ndaten                      NaN         9.0          22.0       3.0\n...                        ...         ...           ...       ...\npersönlichesinfo           NaN         NaN           NaN       1.0\ncriticallyexamining        NaN         NaN           NaN       1.0\nbrauchen                   NaN         NaN           NaN       1.0\nechten                     NaN         NaN           NaN       1.0\ntun                        NaN         NaN           NaN       1.0\n\n[325 rows x 4 columns]",
      "text/html": "<div>\n<style scoped>\n    .dataframe tbody tr th:only-of-type {\n        vertical-align: middle;\n    }\n\n    .dataframe tbody tr th {\n        vertical-align: top;\n    }\n\n    .dataframe thead th {\n        text-align: right;\n    }\n</style>\n<table border=\"1\" class=\"dataframe\">\n  <thead>\n    <tr style=\"text-align: right;\">\n      <th></th>\n      <th>falcon:40b</th>\n      <th>llama2:70b</th>\n      <th>mixtral:8x7b</th>\n      <th>qwen:72b</th>\n    </tr>\n  </thead>\n  <tbody>\n    <tr>\n      <th>datenschutz</th>\n      <td>NaN</td>\n      <td>15.0</td>\n      <td>22.0</td>\n      <td>22.0</td>\n    </tr>\n    <tr>\n      <th>privatsphäre</th>\n      <td>NaN</td>\n      <td>13.0</td>\n      <td>7.0</td>\n      <td>6.0</td>\n    </tr>\n    <tr>\n      <th>schützen</th>\n      <td>NaN</td>\n      <td>11.0</td>\n      <td>2.0</td>\n      <td>4.0</td>\n    </tr>\n    <tr>\n      <th>persönlichen</th>\n      <td>NaN</td>\n      <td>10.0</td>\n      <td>21.0</td>\n      <td>9.0</td>\n    </tr>\n    <tr>\n      <th>daten</th>\n      <td>NaN</td>\n      <td>9.0</td>\n      <td>22.0</td>\n      <td>3.0</td>\n    </tr>\n    <tr>\n      <th>...</th>\n      <td>...</td>\n      <td>...</td>\n      <td>...</td>\n      <td>...</td>\n    </tr>\n    <tr>\n      <th>persönlichesinfo</th>\n      <td>NaN</td>\n      <td>NaN</td>\n      <td>NaN</td>\n      <td>1.0</td>\n    </tr>\n    <tr>\n      <th>criticallyexamining</th>\n      <td>NaN</td>\n      <td>NaN</td>\n      <td>NaN</td>\n      <td>1.0</td>\n    </tr>\n    <tr>\n      <th>brauchen</th>\n      <td>NaN</td>\n      <td>NaN</td>\n      <td>NaN</td>\n      <td>1.0</td>\n    </tr>\n    <tr>\n      <th>echten</th>\n      <td>NaN</td>\n      <td>NaN</td>\n      <td>NaN</td>\n      <td>1.0</td>\n    </tr>\n    <tr>\n      <th>tun</th>\n      <td>NaN</td>\n      <td>NaN</td>\n      <td>NaN</td>\n      <td>1.0</td>\n    </tr>\n  </tbody>\n</table>\n<p>325 rows × 4 columns</p>\n</div>"
     },
     "execution_count": 10,
     "metadata": {},
     "output_type": "execute_result"
    }
   ],
   "source": [
    "collated_token_count: pd.DataFrame = pd.concat(token_count, axis='columns')\n",
    "collated_token_count"
   ],
   "metadata": {
    "collapsed": false,
    "ExecuteTime": {
     "end_time": "2024-03-21T10:56:22.002079Z",
     "start_time": "2024-03-21T10:56:21.978494Z"
    }
   },
   "id": "451b22601a4ca589",
   "execution_count": 10
  },
  {
   "cell_type": "code",
   "outputs": [
    {
     "data": {
      "text/plain": "       llama2:70b  mixtral:8x7b    qwen:72b\ncount  113.000000    178.000000  109.000000\nmean     2.026549      4.247191    2.009174\nstd      2.505209      5.623359    2.544040\nmin      1.000000      1.000000    1.000000\n25%      1.000000      1.000000    1.000000\n50%      1.000000      2.000000    1.000000\n75%      2.000000      4.000000    2.000000\nmax     15.000000     26.000000   22.000000",
      "text/html": "<div>\n<style scoped>\n    .dataframe tbody tr th:only-of-type {\n        vertical-align: middle;\n    }\n\n    .dataframe tbody tr th {\n        vertical-align: top;\n    }\n\n    .dataframe thead th {\n        text-align: right;\n    }\n</style>\n<table border=\"1\" class=\"dataframe\">\n  <thead>\n    <tr style=\"text-align: right;\">\n      <th></th>\n      <th>llama2:70b</th>\n      <th>mixtral:8x7b</th>\n      <th>qwen:72b</th>\n    </tr>\n  </thead>\n  <tbody>\n    <tr>\n      <th>count</th>\n      <td>113.000000</td>\n      <td>178.000000</td>\n      <td>109.000000</td>\n    </tr>\n    <tr>\n      <th>mean</th>\n      <td>2.026549</td>\n      <td>4.247191</td>\n      <td>2.009174</td>\n    </tr>\n    <tr>\n      <th>std</th>\n      <td>2.505209</td>\n      <td>5.623359</td>\n      <td>2.544040</td>\n    </tr>\n    <tr>\n      <th>min</th>\n      <td>1.000000</td>\n      <td>1.000000</td>\n      <td>1.000000</td>\n    </tr>\n    <tr>\n      <th>25%</th>\n      <td>1.000000</td>\n      <td>1.000000</td>\n      <td>1.000000</td>\n    </tr>\n    <tr>\n      <th>50%</th>\n      <td>1.000000</td>\n      <td>2.000000</td>\n      <td>1.000000</td>\n    </tr>\n    <tr>\n      <th>75%</th>\n      <td>2.000000</td>\n      <td>4.000000</td>\n      <td>2.000000</td>\n    </tr>\n    <tr>\n      <th>max</th>\n      <td>15.000000</td>\n      <td>26.000000</td>\n      <td>22.000000</td>\n    </tr>\n  </tbody>\n</table>\n</div>"
     },
     "execution_count": 11,
     "metadata": {},
     "output_type": "execute_result"
    }
   ],
   "source": [
    "collated_token_count.describe()"
   ],
   "metadata": {
    "collapsed": false,
    "ExecuteTime": {
     "end_time": "2024-03-21T10:56:22.024402Z",
     "start_time": "2024-03-21T10:56:22.004683Z"
    }
   },
   "id": "c0b7430215d02908",
   "execution_count": 11
  },
  {
   "cell_type": "code",
   "outputs": [
    {
     "data": {
      "text/plain": "                           falcon:40b  llama2:70b  mixtral:8x7b  qwen:72b\nprivatsphäre                      NaN        13.0           7.0       6.0\nschützen                          NaN        11.0           2.0       4.0\nregierungen                       NaN         2.0           NaN       NaN\ndatenprivatsphäre                 NaN         1.0           NaN       NaN\ndeutschland                       NaN         NaN          15.0       NaN\nverantwortungsvoll                NaN         NaN           4.0       NaN\ndatenschützen                     NaN         NaN           2.0       NaN\ndatenschutzgesetze                NaN         NaN           2.0       NaN\nprivatsphäre-einstellungen        NaN         NaN           1.0       NaN\ngrundrecht                        NaN         NaN           1.0       NaN\nüberwachung                       NaN         NaN           NaN       4.0",
      "text/html": "<div>\n<style scoped>\n    .dataframe tbody tr th:only-of-type {\n        vertical-align: middle;\n    }\n\n    .dataframe tbody tr th {\n        vertical-align: top;\n    }\n\n    .dataframe thead th {\n        text-align: right;\n    }\n</style>\n<table border=\"1\" class=\"dataframe\">\n  <thead>\n    <tr style=\"text-align: right;\">\n      <th></th>\n      <th>falcon:40b</th>\n      <th>llama2:70b</th>\n      <th>mixtral:8x7b</th>\n      <th>qwen:72b</th>\n    </tr>\n  </thead>\n  <tbody>\n    <tr>\n      <th>privatsphäre</th>\n      <td>NaN</td>\n      <td>13.0</td>\n      <td>7.0</td>\n      <td>6.0</td>\n    </tr>\n    <tr>\n      <th>schützen</th>\n      <td>NaN</td>\n      <td>11.0</td>\n      <td>2.0</td>\n      <td>4.0</td>\n    </tr>\n    <tr>\n      <th>regierungen</th>\n      <td>NaN</td>\n      <td>2.0</td>\n      <td>NaN</td>\n      <td>NaN</td>\n    </tr>\n    <tr>\n      <th>datenprivatsphäre</th>\n      <td>NaN</td>\n      <td>1.0</td>\n      <td>NaN</td>\n      <td>NaN</td>\n    </tr>\n    <tr>\n      <th>deutschland</th>\n      <td>NaN</td>\n      <td>NaN</td>\n      <td>15.0</td>\n      <td>NaN</td>\n    </tr>\n    <tr>\n      <th>verantwortungsvoll</th>\n      <td>NaN</td>\n      <td>NaN</td>\n      <td>4.0</td>\n      <td>NaN</td>\n    </tr>\n    <tr>\n      <th>datenschützen</th>\n      <td>NaN</td>\n      <td>NaN</td>\n      <td>2.0</td>\n      <td>NaN</td>\n    </tr>\n    <tr>\n      <th>datenschutzgesetze</th>\n      <td>NaN</td>\n      <td>NaN</td>\n      <td>2.0</td>\n      <td>NaN</td>\n    </tr>\n    <tr>\n      <th>privatsphäre-einstellungen</th>\n      <td>NaN</td>\n      <td>NaN</td>\n      <td>1.0</td>\n      <td>NaN</td>\n    </tr>\n    <tr>\n      <th>grundrecht</th>\n      <td>NaN</td>\n      <td>NaN</td>\n      <td>1.0</td>\n      <td>NaN</td>\n    </tr>\n    <tr>\n      <th>überwachung</th>\n      <td>NaN</td>\n      <td>NaN</td>\n      <td>NaN</td>\n      <td>4.0</td>\n    </tr>\n  </tbody>\n</table>\n</div>"
     },
     "execution_count": 12,
     "metadata": {},
     "output_type": "execute_result"
    }
   ],
   "source": [
    "collated_token_count.filter(\n",
    "    regex='|'.join([\n",
    "        'privatsphäre',\n",
    "        'regierungen',\n",
    "        'grundrecht',\n",
    "        'datenschutzgesetze',\n",
    "        'schützen',\n",
    "        'zustimmung',\n",
    "        'privatleben',\n",
    "        'verantwortungsvoll',\n",
    "        'informationssicherheit',\n",
    "        'überwachung',\n",
    "        'deutschland'\n",
    "    ]),\n",
    "    axis=0\n",
    ")"
   ],
   "metadata": {
    "collapsed": false,
    "ExecuteTime": {
     "end_time": "2024-03-21T10:56:22.043130Z",
     "start_time": "2024-03-21T10:56:22.027206Z"
    }
   },
   "id": "4decc364aee29a63",
   "execution_count": 12
  },
  {
   "cell_type": "code",
   "outputs": [],
   "source": [],
   "metadata": {
    "collapsed": false,
    "ExecuteTime": {
     "end_time": "2024-03-21T10:56:22.048375Z",
     "start_time": "2024-03-21T10:56:22.045978Z"
    }
   },
   "id": "96fd4920e88428d7",
   "execution_count": 12
  }
 ],
 "metadata": {
  "kernelspec": {
   "display_name": "Python 3",
   "language": "python",
   "name": "python3"
  },
  "language_info": {
   "codemirror_mode": {
    "name": "ipython",
    "version": 2
   },
   "file_extension": ".py",
   "mimetype": "text/x-python",
   "name": "python",
   "nbconvert_exporter": "python",
   "pygments_lexer": "ipython2",
   "version": "2.7.6"
  }
 },
 "nbformat": 4,
 "nbformat_minor": 5
}
