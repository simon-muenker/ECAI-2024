{
 "cells": [
  {
   "cell_type": "code",
   "execution_count": null,
   "id": "initial_id",
   "metadata": {
    "ExecuteTime": {
     "end_time": "2024-04-15T12:43:47.568392Z",
     "start_time": "2024-04-15T12:43:47.175291Z"
    },
    "collapsed": true
   },
   "outputs": [],
   "source": [
    "import hashlib\n",
    "import json\n",
    "\n",
    "import requests\n",
    "import tqdm"
   ]
  },
  {
   "cell_type": "code",
   "execution_count": null,
   "id": "19a063be3fa84513",
   "metadata": {
    "ExecuteTime": {
     "end_time": "2024-03-30T15:54:37.327023Z",
     "start_time": "2024-03-30T15:54:37.326684Z"
    },
    "collapsed": false
   },
   "outputs": [],
   "source": [
    "import config\n",
    "\n",
    "CFG = config.Config()"
   ]
  },
  {
   "cell_type": "code",
   "execution_count": null,
   "id": "57ef84182e40ba56",
   "metadata": {
    "ExecuteTime": {
     "end_time": "2024-03-30T15:53:28.756746Z",
     "start_time": "2024-03-30T15:53:28.756192Z"
    },
    "collapsed": false
   },
   "outputs": [],
   "source": [
    "for model in CFG.models:\n",
    "        for _ in tqdm.tqdm(range(CFG.samples_per_permutation), desc=f'Generating w/ {model}'):\n",
    "            try:\n",
    "                datapoint: dict = {\n",
    "                    'model': model,\n",
    "                    'response': requests.post(\n",
    "                        'https://inf.cl.uni-trier.de/',\n",
    "                        json={\n",
    "                            'model': model,\n",
    "                            'prompt': CFG.template.format(topic=CFG.topic)\n",
    "                        }\n",
    "                    ).json()['response'].strip().lower()\n",
    "                }\n",
    "    \n",
    "                file_name: str = hashlib.shake_256(str.encode(json.dumps(datapoint))).hexdigest(24)\n",
    "                open(f'{CFG.data_raw_dir}/{file_name}.json', 'w').write(json.dumps(datapoint, indent=4, ensure_ascii=False))\n",
    "                \n",
    "            except:\n",
    "                pass"
   ]
  },
  {
   "cell_type": "code",
   "execution_count": null,
   "id": "82efea62cced5098",
   "metadata": {
    "collapsed": false
   },
   "outputs": [],
   "source": []
  }
 ],
 "metadata": {
  "kernelspec": {
   "display_name": "Python 3",
   "language": "python",
   "name": "python3"
  },
  "language_info": {
   "codemirror_mode": {
    "name": "ipython",
    "version": 3
   },
   "file_extension": ".py",
   "mimetype": "text/x-python",
   "name": "python",
   "nbconvert_exporter": "python",
   "pygments_lexer": "ipython3",
   "version": "3.11.5"
  }
 },
 "nbformat": 4,
 "nbformat_minor": 5
}
