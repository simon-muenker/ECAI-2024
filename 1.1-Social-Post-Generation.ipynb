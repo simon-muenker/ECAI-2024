{
 "cells": [
  {
   "cell_type": "code",
   "execution_count": 1,
   "id": "initial_id",
   "metadata": {
    "ExecuteTime": {
     "end_time": "2024-04-15T12:43:47.568392Z",
     "start_time": "2024-04-15T12:43:47.175291Z"
    },
    "collapsed": true
   },
   "outputs": [],
   "source": [
    "import hashlib\n",
    "import json\n",
    "\n",
    "import requests\n",
    "import tqdm"
   ]
  },
  {
   "cell_type": "code",
   "execution_count": 3,
   "id": "19a063be3fa84513",
   "metadata": {
    "ExecuteTime": {
     "end_time": "2024-03-30T15:54:37.327023Z",
     "start_time": "2024-03-30T15:54:37.326684Z"
    },
    "collapsed": false
   },
   "outputs": [],
   "source": [
    "import config\n",
    "\n",
    "CFG = config.Config()"
   ]
  },
  {
   "cell_type": "code",
   "execution_count": 4,
   "id": "57ef84182e40ba56",
   "metadata": {
    "ExecuteTime": {
     "end_time": "2024-03-30T15:53:28.756746Z",
     "start_time": "2024-03-30T15:53:28.756192Z"
    },
    "collapsed": false
   },
   "outputs": [
    {
     "name": "stderr",
     "output_type": "stream",
     "text": [
      "Generating w/ llama2:70b-chat-q6_K:   0%|          | 0/3500 [00:00<?, ?it/s]0.00s - Debugger warning: It seems that frozen modules are being used, which may\n",
      "0.00s - make the debugger miss breakpoints. Please pass -Xfrozen_modules=off\n",
      "0.00s - to python to disable frozen modules.\n",
      "0.00s - Note: Debugging will proceed. Set PYDEVD_DISABLE_FILE_VALIDATION=1 to disable this validation.\n",
      "Generating w/ llama2:70b-chat-q6_K: 100%|██████████| 3500/3500 [11:22:50<00:00, 11.71s/it]  \n",
      "Generating w/ falcon:40b-instruct-q5_1: 100%|██████████| 3500/3500 [10:11:05<00:00, 10.48s/it]  \n",
      "Generating w/ mixtral:8x7b-instruct-v0.1-q6_K: 100%|██████████| 3500/3500 [2:09:22<00:00,  2.22s/it]  \n",
      "Generating w/ qwen:72b-chat-v1.5-q6_K: 100%|██████████| 3500/3500 [3:52:38<00:00,  3.99s/it]  \n"
     ]
    }
   ],
   "source": [
    "for model in CFG.models:\n",
    "        for _ in tqdm.tqdm(range(CFG.samples_per_permutation), desc=f'Generating w/ {model}'):\n",
    "            try:\n",
    "                datapoint: dict = {\n",
    "                    'model': model,\n",
    "                    'response': requests.post(\n",
    "                        'https://inf.cl.uni-trier.de/',\n",
    "                        json={\n",
    "                            'model': model,\n",
    "                            'prompt': CFG.template.format(topic=CFG.topic)\n",
    "                        }\n",
    "                    ).json()['response'].strip().lower()\n",
    "                }\n",
    "    \n",
    "                file_name: str = hashlib.shake_256(str.encode(json.dumps(datapoint))).hexdigest(24)\n",
    "                open(f'{CFG.data_raw_dir}/{file_name}.json', 'w').write(json.dumps(datapoint, indent=4, ensure_ascii=False))\n",
    "                \n",
    "            except:\n",
    "                pass"
   ]
  },
  {
   "cell_type": "code",
   "execution_count": null,
   "id": "82efea62cced5098",
   "metadata": {
    "collapsed": false
   },
   "outputs": [],
   "source": []
  }
 ],
 "metadata": {
  "kernelspec": {
   "display_name": "Python 3",
   "language": "python",
   "name": "python3"
  },
  "language_info": {
   "codemirror_mode": {
    "name": "ipython",
    "version": 3
   },
   "file_extension": ".py",
   "mimetype": "text/x-python",
   "name": "python",
   "nbconvert_exporter": "python",
   "pygments_lexer": "ipython3",
   "version": "3.11.5"
  }
 },
 "nbformat": 4,
 "nbformat_minor": 5
}
