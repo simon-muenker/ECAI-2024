{
 "cells": [
  {
   "cell_type": "code",
   "id": "initial_id",
   "metadata": {
    "collapsed": true,
    "ExecuteTime": {
     "end_time": "2024-04-15T13:37:12.931297Z",
     "start_time": "2024-04-15T13:37:12.856411Z"
    }
   },
   "source": [
    "import json\n",
    "\n",
    "import requests\n",
    "\n",
    "import config"
   ],
   "outputs": [],
   "execution_count": 1
  },
  {
   "cell_type": "code",
   "id": "19a063be3fa84513",
   "metadata": {
    "collapsed": false,
    "ExecuteTime": {
     "end_time": "2024-04-15T13:37:12.937058Z",
     "start_time": "2024-04-15T13:37:12.933467Z"
    }
   },
   "source": "CFG = config.Config()",
   "outputs": [],
   "execution_count": 2
  },
  {
   "metadata": {
    "ExecuteTime": {
     "end_time": "2024-04-15T13:48:56.657949Z",
     "start_time": "2024-04-15T13:37:12.938285Z"
    }
   },
   "cell_type": "code",
   "source": [
    "for model in CFG.models:\n",
    "    for label, item in CFG.questionary.items():\n",
    "        for n, question in item['questions'].items():\n",
    "            try:\n",
    "                datapoint = {\n",
    "                    'category': label,\n",
    "                    'number': n,\n",
    "                    'model': model,\n",
    "                    'response': requests.post(\n",
    "                        'https://inf.cl.uni-trier.de/',\n",
    "                        json={\n",
    "                            'model': model,\n",
    "                            'prompt': f'{item[\"task\"]}\\n\\n{question}'\n",
    "                        }\n",
    "                    ).json()['response'].strip().lower()\n",
    "                }\n",
    "\n",
    "                (\n",
    "                    open(f'{CFG.data_questionary_dir}/{model}.{label}.{n}.json', 'w')\n",
    "                    .write(json.dumps(datapoint, indent=4, ensure_ascii=False))\n",
    "                )\n",
    "\n",
    "            except:\n",
    "                pass"
   ],
   "id": "c983497e4903ae59",
   "outputs": [],
   "execution_count": 3
  },
  {
   "metadata": {
    "ExecuteTime": {
     "end_time": "2024-04-15T13:48:56.664075Z",
     "start_time": "2024-04-15T13:48:56.661098Z"
    }
   },
   "cell_type": "code",
   "source": "",
   "id": "b932b372e0a0dd19",
   "outputs": [],
   "execution_count": 3
  }
 ],
 "metadata": {
  "kernelspec": {
   "display_name": "Python 3",
   "language": "python",
   "name": "python3"
  },
  "language_info": {
   "codemirror_mode": {
    "name": "ipython",
    "version": 3
   },
   "file_extension": ".py",
   "mimetype": "text/x-python",
   "name": "python",
   "nbconvert_exporter": "python",
   "pygments_lexer": "ipython3",
   "version": "3.11.5"
  }
 },
 "nbformat": 4,
 "nbformat_minor": 5
}
