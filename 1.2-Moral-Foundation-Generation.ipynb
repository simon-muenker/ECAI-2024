{
 "cells": [
  {
   "cell_type": "code",
   "execution_count": null,
   "id": "initial_id",
   "metadata": {
    "ExecuteTime": {
     "end_time": "2024-04-15T13:37:12.931297Z",
     "start_time": "2024-04-15T13:37:12.856411Z"
    },
    "collapsed": true
   },
   "outputs": [],
   "source": [
    "import json\n",
    "import requests"
   ]
  },
  {
   "cell_type": "code",
   "execution_count": 2,
   "id": "19a063be3fa84513",
   "metadata": {
    "ExecuteTime": {
     "end_time": "2024-04-15T13:37:12.937058Z",
     "start_time": "2024-04-15T13:37:12.933467Z"
    },
    "collapsed": false
   },
   "outputs": [],
   "source": [
    "import config\n",
    "\n",
    "CFG = config.Config()"
   ]
  },
  {
   "cell_type": "code",
   "execution_count": 3,
   "id": "c983497e4903ae59",
   "metadata": {
    "ExecuteTime": {
     "end_time": "2024-04-15T13:48:56.657949Z",
     "start_time": "2024-04-15T13:37:12.938285Z"
    }
   },
   "outputs": [],
   "source": [
    "for model in CFG.models:\n",
    "    for label, item in CFG.questionary.items():\n",
    "        for n, question in item['questions'].items():\n",
    "            try:\n",
    "                datapoint = {\n",
    "                    'category': label,\n",
    "                    'number': n,\n",
    "                    'model': model,\n",
    "                    'response': requests.post(\n",
    "                        'https://inf.cl.uni-trier.de/',\n",
    "                        json={\n",
    "                            'model': model,\n",
    "                            'prompt': f'{item[\"task\"]}\\n\\n{question}'\n",
    "                        }\n",
    "                    ).json()['response'].strip().lower()\n",
    "                }\n",
    "\n",
    "                (\n",
    "                    open(f'{CFG.data_questionary_dir}/{model}.{label}.{n}.json', 'w')\n",
    "                    .write(json.dumps(datapoint, indent=4, ensure_ascii=False))\n",
    "                )\n",
    "\n",
    "            except:\n",
    "                pass"
   ]
  },
  {
   "cell_type": "code",
   "execution_count": 3,
   "id": "b932b372e0a0dd19",
   "metadata": {
    "ExecuteTime": {
     "end_time": "2024-04-15T13:48:56.664075Z",
     "start_time": "2024-04-15T13:48:56.661098Z"
    }
   },
   "outputs": [],
   "source": []
  }
 ],
 "metadata": {
  "kernelspec": {
   "display_name": "Python 3",
   "language": "python",
   "name": "python3"
  },
  "language_info": {
   "codemirror_mode": {
    "name": "ipython",
    "version": 3
   },
   "file_extension": ".py",
   "mimetype": "text/x-python",
   "name": "python",
   "nbconvert_exporter": "python",
   "pygments_lexer": "ipython3",
   "version": "3.11.5"
  }
 },
 "nbformat": 4,
 "nbformat_minor": 5
}
