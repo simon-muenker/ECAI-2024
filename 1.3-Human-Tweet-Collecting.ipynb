{
 "cells": [
  {
   "cell_type": "code",
   "execution_count": null,
   "id": "initial_id",
   "metadata": {
    "ExecuteTime": {
     "end_time": "2024-04-16T14:44:22.769776Z",
     "start_time": "2024-04-16T14:44:22.766107Z"
    },
    "collapsed": true
   },
   "outputs": [],
   "source": [
    "import itertools\n",
    "\n",
    "import pandas as pd\n",
    "import tweety as twy"
   ]
  },
  {
   "cell_type": "code",
   "execution_count": null,
   "id": "6ceaca475327a3fe",
   "metadata": {
    "ExecuteTime": {
     "end_time": "2024-04-16T14:44:22.812011Z",
     "start_time": "2024-04-16T14:44:22.807079Z"
    }
   },
   "outputs": [],
   "source": [
    "import config\n",
    "\n",
    "CFG = config.Config()"
   ]
  },
  {
   "cell_type": "code",
   "execution_count": null,
   "id": "4661b0e2baab286e",
   "metadata": {
    "ExecuteTime": {
     "end_time": "2024-04-16T14:44:22.845393Z",
     "start_time": "2024-04-16T14:44:22.840662Z"
    }
   },
   "outputs": [],
   "source": [
    "LOGIN_USER: str = \"***********\"\n",
    "LOGIN_PWD: str = \"***********\"\n",
    "\n",
    "PAGES: int = 5\n",
    "KEYWORDS: list = ['datenschutz', 'datensicherheit']"
   ]
  },
  {
   "cell_type": "code",
   "execution_count": null,
   "id": "9b0cac4070a7c563",
   "metadata": {
    "ExecuteTime": {
     "end_time": "2024-04-16T14:44:23.434428Z",
     "start_time": "2024-04-16T14:44:22.849789Z"
    }
   },
   "outputs": [],
   "source": [
    "app = twy.Twitter(\"session\")\n",
    "app.sign_in(LOGIN_USER, LOGIN_PWD)"
   ]
  },
  {
   "cell_type": "code",
   "execution_count": null,
   "id": "de999bf39ba81dff",
   "metadata": {
    "ExecuteTime": {
     "end_time": "2024-04-16T14:45:39.419148Z",
     "start_time": "2024-04-16T14:44:23.437213Z"
    }
   },
   "outputs": [],
   "source": [
    "posts_sample: pd.DataFrame = pd.concat([\n",
    "    pd.json_normalize([\n",
    "        tweet for tweet in app.search(keyword, pages=page)\n",
    "    ])\n",
    "    for page, keyword in itertools.product(*[range(1, PAGES + 1), KEYWORDS])\n",
    "])\n",
    "posts_sample.to_json(f'{CFG.data_dir}/raw.human.json', orient='records', indent=4)"
   ]
  },
  {
   "cell_type": "code",
   "execution_count": null,
   "id": "2bf2071be8efecb",
   "metadata": {
    "ExecuteTime": {
     "end_time": "2024-04-16T14:45:39.448393Z",
     "start_time": "2024-04-16T14:45:39.420669Z"
    }
   },
   "outputs": [],
   "source": [
    "posts_sample"
   ]
  }
 ],
 "metadata": {
  "kernelspec": {
   "display_name": "Python 3",
   "language": "python",
   "name": "python3"
  },
  "language_info": {
   "codemirror_mode": {
    "name": "ipython",
    "version": 2
   },
   "file_extension": ".py",
   "mimetype": "text/x-python",
   "name": "python",
   "nbconvert_exporter": "python",
   "pygments_lexer": "ipython2",
   "version": "2.7.6"
  }
 },
 "nbformat": 4,
 "nbformat_minor": 5
}
