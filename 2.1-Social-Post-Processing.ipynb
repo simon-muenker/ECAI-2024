{
 "cells": [
  {
   "cell_type": "code",
   "execution_count": null,
   "id": "initial_id",
   "metadata": {
    "ExecuteTime": {
     "end_time": "2024-03-27T11:27:44.820610Z",
     "start_time": "2024-03-27T11:27:44.816887Z"
    },
    "collapsed": true
   },
   "outputs": [],
   "source": [
    "import glob\n",
    "import json\n",
    "import typing\n",
    "\n",
    "import langdetect\n",
    "import pandas as pd\n",
    "import seaborn as sns\n",
    "import matplotlib as mpl"
   ]
  },
  {
   "cell_type": "code",
   "execution_count": null,
   "id": "177ae312852cb884",
   "metadata": {
    "ExecuteTime": {
     "end_time": "2024-03-27T11:27:20.952331Z",
     "start_time": "2024-03-27T11:27:20.948008Z"
    },
    "collapsed": false
   },
   "outputs": [],
   "source": [
    "import config\n",
    "\n",
    "CFG = config.Config()"
   ]
  },
  {
   "cell_type": "code",
   "execution_count": null,
   "id": "86971867d42f2a66",
   "metadata": {
    "ExecuteTime": {
     "end_time": "2024-03-27T11:18:49.038538Z",
     "start_time": "2024-03-27T11:18:45.148085Z"
    },
    "collapsed": false
   },
   "outputs": [],
   "source": [
    "raw_samples: typing.List[dict] = [\n",
    "    json.load(open(file, 'r'))\n",
    "    for file in glob.glob(f'{CFG.data_raw_dir}/*.json')\n",
    "]\n",
    "(\n",
    "    open(f'{CFG.data_dir}/{CFG.dataset_name}.json', 'w')\n",
    "    .write(json.dumps(raw_samples, indent=4, ensure_ascii=False))\n",
    ")\n",
    "len(raw_samples)"
   ]
  },
  {
   "cell_type": "code",
   "execution_count": null,
   "id": "3570673a290716a6",
   "metadata": {
    "ExecuteTime": {
     "end_time": "2024-03-27T11:18:49.250188Z",
     "start_time": "2024-03-27T11:18:49.040510Z"
    },
    "collapsed": false
   },
   "outputs": [],
   "source": [
    "dataset: pd.DataFrame = (\n",
    "    pd.json_normalize(raw_samples)\n",
    "    .astype({'model': 'category'})\n",
    "    .pipe(lambda _df: _df.assign(model=_df['model'].str.replace(':.*','', regex=True)))\n",
    ")\n",
    "dataset.to_parquet(f'{CFG.data_dir}/{CFG.dataset_name}.parquet')\n",
    "dataset"
   ]
  },
  {
   "cell_type": "code",
   "execution_count": null,
   "id": "5b367bf6839b9059",
   "metadata": {
    "ExecuteTime": {
     "end_time": "2024-03-27T11:18:49.260404Z",
     "start_time": "2024-03-27T11:18:49.252235Z"
    },
    "collapsed": false
   },
   "outputs": [],
   "source": [
    "dataset['model'].value_counts()"
   ]
  },
  {
   "cell_type": "code",
   "execution_count": null,
   "id": "8c3c9327e89986a2",
   "metadata": {
    "ExecuteTime": {
     "end_time": "2024-03-27T11:20:07.555887Z",
     "start_time": "2024-03-27T11:18:49.263111Z"
    },
    "collapsed": false
   },
   "outputs": [],
   "source": [
    "dataset['lang'] = dataset.apply(lambda row: langdetect.detect(row.response) if len(row.response) > 1 else None, axis=1)"
   ]
  },
  {
   "cell_type": "code",
   "execution_count": null,
   "id": "318c38e217c1e02f",
   "metadata": {
    "ExecuteTime": {
     "end_time": "2024-03-27T11:31:07.466409Z",
     "start_time": "2024-03-27T11:31:07.013326Z"
    },
    "collapsed": false
   },
   "outputs": [],
   "source": [
    "sns.heatmap(\n",
    "    (\n",
    "        dataset\n",
    "        .groupby('model')\n",
    "        ['lang']\n",
    "        .value_counts(normalize=True)\n",
    "        .round(3)\n",
    "        .to_frame()\n",
    "        .pipe(lambda _df: _df[_df['proportion'] > 0.001])\n",
    "        .reset_index()\n",
    "        .pivot(index=\"model\", columns=\"lang\", values=\"proportion\")\n",
    "        .T\n",
    "    ),\n",
    "    annot=True,\n",
    "    fmt='g',\n",
    "    linewidth=.5,\n",
    ")\n",
    "mpl.pyplot.savefig(f'{CFG.report_dir}/plot.heat.model.lang.pdf', format='pdf')"
   ]
  },
  {
   "cell_type": "code",
   "execution_count": null,
   "id": "67c07769d4411b8a",
   "metadata": {
    "ExecuteTime": {
     "end_time": "2024-03-27T11:20:08.165461Z",
     "start_time": "2024-03-27T11:20:08.074639Z"
    },
    "collapsed": false
   },
   "outputs": [],
   "source": [
    "german_subset: pd.DataFrame = dataset[dataset.lang == CFG.lang]\n",
    "german_subset.to_csv(f'{CFG.data_dir}/{CFG.dataset_name}.{CFG.lang}.csv')\n",
    "german_subset.to_parquet(f'{CFG.data_dir}/{CFG.dataset_name}.{CFG.lang}.parquet')"
   ]
  },
  {
   "cell_type": "code",
   "execution_count": null,
   "id": "b49a54dd994d217",
   "metadata": {
    "ExecuteTime": {
     "end_time": "2024-03-27T11:20:08.187069Z",
     "start_time": "2024-03-27T11:20:08.170177Z"
    },
    "collapsed": false
   },
   "outputs": [],
   "source": [
    "german_subset_stratified: pd.DataFrame = (\n",
    "    german_subset.groupby('model', observed=False)\n",
    "    .sample(n=german_subset['model'].value_counts().min())\n",
    ")\n",
    "german_subset_stratified.to_csv(f'{CFG.data_dir}/{CFG.dataset_name}.{CFG.lang}.strat.csv')\n",
    "german_subset_stratified.to_parquet(f'{CFG.data_dir}/{CFG.dataset_name}.{CFG.lang}.strat.parquet')"
   ]
  }
 ],
 "metadata": {
  "kernelspec": {
   "display_name": "Python 3",
   "language": "python",
   "name": "python3"
  },
  "language_info": {
   "codemirror_mode": {
    "name": "ipython",
    "version": 3
   },
   "file_extension": ".py",
   "mimetype": "text/x-python",
   "name": "python",
   "nbconvert_exporter": "python",
   "pygments_lexer": "ipython3",
   "version": "3.11.5"
  }
 },
 "nbformat": 4,
 "nbformat_minor": 5
}
