{
 "cells": [
  {
   "cell_type": "code",
   "execution_count": 13,
   "id": "initial_id",
   "metadata": {
    "ExecuteTime": {
     "end_time": "2024-03-27T11:27:44.820610Z",
     "start_time": "2024-03-27T11:27:44.816887Z"
    },
    "collapsed": true
   },
   "outputs": [],
   "source": [
    "import glob\n",
    "import json\n",
    "import typing\n",
    "\n",
    "import langdetect\n",
    "import pandas as pd\n",
    "import seaborn as sns\n",
    "import matplotlib as mpl\n",
    "\n",
    "import config"
   ]
  },
  {
   "cell_type": "code",
   "execution_count": 14,
   "id": "177ae312852cb884",
   "metadata": {
    "ExecuteTime": {
     "end_time": "2024-03-27T11:27:20.952331Z",
     "start_time": "2024-03-27T11:27:20.948008Z"
    },
    "collapsed": false
   },
   "outputs": [],
   "source": [
    "CFG = config.Config()\n",
    "LANG: str = 'de'"
   ]
  },
  {
   "cell_type": "code",
   "execution_count": 18,
   "id": "86971867d42f2a66",
   "metadata": {
    "ExecuteTime": {
     "end_time": "2024-03-27T11:18:49.038538Z",
     "start_time": "2024-03-27T11:18:45.148085Z"
    },
    "collapsed": false
   },
   "outputs": [
    {
     "ename": "AttributeError",
     "evalue": "'Config' object has no attribute 'data_raw_dir'",
     "output_type": "error",
     "traceback": [
      "\u001b[0;31m---------------------------------------------------------------------------\u001b[0m",
      "\u001b[0;31mAttributeError\u001b[0m                            Traceback (most recent call last)",
      "Cell \u001b[0;32mIn[18], line 3\u001b[0m\n\u001b[1;32m      1\u001b[0m raw_samples: typing\u001b[38;5;241m.\u001b[39mList[\u001b[38;5;28mdict\u001b[39m] \u001b[38;5;241m=\u001b[39m [\n\u001b[1;32m      2\u001b[0m     json\u001b[38;5;241m.\u001b[39mload(\u001b[38;5;28mopen\u001b[39m(file, \u001b[38;5;124m'\u001b[39m\u001b[38;5;124mr\u001b[39m\u001b[38;5;124m'\u001b[39m))\n\u001b[0;32m----> 3\u001b[0m     \u001b[38;5;28;01mfor\u001b[39;00m file \u001b[38;5;129;01min\u001b[39;00m glob\u001b[38;5;241m.\u001b[39mglob(\u001b[38;5;124mf\u001b[39m\u001b[38;5;124m'\u001b[39m\u001b[38;5;132;01m{\u001b[39;00m\u001b[43mCFG\u001b[49m\u001b[38;5;241;43m.\u001b[39;49m\u001b[43mdata_raw_dir\u001b[49m\u001b[38;5;132;01m}\u001b[39;00m\u001b[38;5;124m/*.json\u001b[39m\u001b[38;5;124m'\u001b[39m)\n\u001b[1;32m      4\u001b[0m ]\n\u001b[1;32m      5\u001b[0m \u001b[38;5;28mopen\u001b[39m(\u001b[38;5;124mf\u001b[39m\u001b[38;5;124m'\u001b[39m\u001b[38;5;132;01m{\u001b[39;00mCFG\u001b[38;5;241m.\u001b[39mdata_dir\u001b[38;5;132;01m}\u001b[39;00m\u001b[38;5;124m/\u001b[39m\u001b[38;5;132;01m{\u001b[39;00mCFG\u001b[38;5;241m.\u001b[39mdataset_name\u001b[38;5;132;01m}\u001b[39;00m\u001b[38;5;124m.json\u001b[39m\u001b[38;5;124m'\u001b[39m, \u001b[38;5;124m'\u001b[39m\u001b[38;5;124mw\u001b[39m\u001b[38;5;124m'\u001b[39m)\u001b[38;5;241m.\u001b[39mwrite(json\u001b[38;5;241m.\u001b[39mdumps(raw_samples, indent\u001b[38;5;241m=\u001b[39m\u001b[38;5;241m4\u001b[39m, ensure_ascii\u001b[38;5;241m=\u001b[39m\u001b[38;5;28;01mFalse\u001b[39;00m))\n\u001b[1;32m      6\u001b[0m \u001b[38;5;28mlen\u001b[39m(raw_samples)\n",
      "\u001b[0;31mAttributeError\u001b[0m: 'Config' object has no attribute 'data_raw_dir'"
     ]
    }
   ],
   "source": [
    "raw_samples: typing.List[dict] = [\n",
    "    json.load(open(file, 'r'))\n",
    "    for file in glob.glob(f'{CFG.data_raw_dir}/*.json')\n",
    "]\n",
    "open(f'{CFG.data_dir}/{CFG.dataset_name}.json', 'w').write(json.dumps(raw_samples, indent=4, ensure_ascii=False))\n",
    "len(raw_samples)"
   ]
  },
  {
   "cell_type": "code",
   "execution_count": 12,
   "id": "3570673a290716a6",
   "metadata": {
    "ExecuteTime": {
     "end_time": "2024-03-27T11:18:49.250188Z",
     "start_time": "2024-03-27T11:18:49.040510Z"
    },
    "collapsed": false
   },
   "outputs": [
    {
     "ename": "AttributeError",
     "evalue": "'Config' object has no attribute 'data_dir'",
     "output_type": "error",
     "traceback": [
      "\u001b[0;31m---------------------------------------------------------------------------\u001b[0m",
      "\u001b[0;31mAttributeError\u001b[0m                            Traceback (most recent call last)",
      "Cell \u001b[0;32mIn[12], line 6\u001b[0m\n\u001b[1;32m      1\u001b[0m dataset: pd\u001b[38;5;241m.\u001b[39mDataFrame \u001b[38;5;241m=\u001b[39m (\n\u001b[1;32m      2\u001b[0m     pd\u001b[38;5;241m.\u001b[39mjson_normalize(raw_samples)\n\u001b[1;32m      3\u001b[0m     \u001b[38;5;241m.\u001b[39mastype({\u001b[38;5;124m'\u001b[39m\u001b[38;5;124mmodel\u001b[39m\u001b[38;5;124m'\u001b[39m: \u001b[38;5;124m'\u001b[39m\u001b[38;5;124mcategory\u001b[39m\u001b[38;5;124m'\u001b[39m})\n\u001b[1;32m      4\u001b[0m     \u001b[38;5;241m.\u001b[39mpipe(\u001b[38;5;28;01mlambda\u001b[39;00m _df: _df\u001b[38;5;241m.\u001b[39massign(model\u001b[38;5;241m=\u001b[39m_df[\u001b[38;5;124m'\u001b[39m\u001b[38;5;124mmodel\u001b[39m\u001b[38;5;124m'\u001b[39m]\u001b[38;5;241m.\u001b[39mstr\u001b[38;5;241m.\u001b[39mreplace(\u001b[38;5;124m'\u001b[39m\u001b[38;5;124m:.*\u001b[39m\u001b[38;5;124m'\u001b[39m,\u001b[38;5;124m'\u001b[39m\u001b[38;5;124m'\u001b[39m, regex\u001b[38;5;241m=\u001b[39m\u001b[38;5;28;01mTrue\u001b[39;00m)))\n\u001b[1;32m      5\u001b[0m )\n\u001b[0;32m----> 6\u001b[0m dataset\u001b[38;5;241m.\u001b[39mto_parquet(\u001b[38;5;124mf\u001b[39m\u001b[38;5;124m'\u001b[39m\u001b[38;5;132;01m{\u001b[39;00m\u001b[43mCFG\u001b[49m\u001b[38;5;241;43m.\u001b[39;49m\u001b[43mdata_dir\u001b[49m\u001b[38;5;132;01m}\u001b[39;00m\u001b[38;5;124m/\u001b[39m\u001b[38;5;132;01m{\u001b[39;00mCFG\u001b[38;5;241m.\u001b[39mdataset_name\u001b[38;5;132;01m}\u001b[39;00m\u001b[38;5;124m.parquet\u001b[39m\u001b[38;5;124m'\u001b[39m)\n\u001b[1;32m      7\u001b[0m dataset\n",
      "\u001b[0;31mAttributeError\u001b[0m: 'Config' object has no attribute 'data_dir'"
     ]
    }
   ],
   "source": [
    "dataset: pd.DataFrame = (\n",
    "    pd.json_normalize(raw_samples)\n",
    "    .astype({'model': 'category'})\n",
    "    .pipe(lambda _df: _df.assign(model=_df['model'].str.replace(':.*','', regex=True)))\n",
    ")\n",
    "dataset.to_parquet(f'{CFG.data_dir}/{CFG.dataset_name}.parquet')\n",
    "dataset"
   ]
  },
  {
   "cell_type": "code",
   "execution_count": 9,
   "id": "5b367bf6839b9059",
   "metadata": {
    "ExecuteTime": {
     "end_time": "2024-03-27T11:18:49.260404Z",
     "start_time": "2024-03-27T11:18:49.252235Z"
    },
    "collapsed": false
   },
   "outputs": [
    {
     "data": {
      "text/plain": [
       "model\n",
       "llama2:70b-chat-q6_K               3445\n",
       "falcon:40b-instruct-q5_1           3402\n",
       "qwen:72b-chat-v1.5-q6_K            2977\n",
       "mixtral:8x7b-instruct-v0.1-q6_K    2549\n",
       "Name: count, dtype: int64"
      ]
     },
     "execution_count": 9,
     "metadata": {},
     "output_type": "execute_result"
    }
   ],
   "source": [
    "dataset['model'].value_counts()"
   ]
  },
  {
   "cell_type": "code",
   "execution_count": 10,
   "id": "8c3c9327e89986a2",
   "metadata": {
    "ExecuteTime": {
     "end_time": "2024-03-27T11:20:07.555887Z",
     "start_time": "2024-03-27T11:18:49.263111Z"
    },
    "collapsed": false
   },
   "outputs": [
    {
     "data": {
      "text/plain": [
       "model                            lang \n",
       "falcon:40b-instruct-q5_1         en       3278\n",
       "llama2:70b-chat-q6_K             en       1946\n",
       "mixtral:8x7b-instruct-v0.1-q6_K  de       1600\n",
       "qwen:72b-chat-v1.5-q6_K          de       1486\n",
       "llama2:70b-chat-q6_K             de       1486\n",
       "qwen:72b-chat-v1.5-q6_K          zh-cn     995\n",
       "mixtral:8x7b-instruct-v0.1-q6_K  en        940\n",
       "qwen:72b-chat-v1.5-q6_K          en        386\n",
       "falcon:40b-instruct-q5_1         de        120\n",
       "qwen:72b-chat-v1.5-q6_K          es         41\n",
       "                                 no         17\n",
       "                                 it         12\n",
       "                                 ko         12\n",
       "llama2:70b-chat-q6_K             nl         11\n",
       "mixtral:8x7b-instruct-v0.1-q6_K  nl          9\n",
       "qwen:72b-chat-v1.5-q6_K          ja          8\n",
       "                                 tr          5\n",
       "                                 pt          4\n",
       "                                 fr          3\n",
       "                                 ca          2\n",
       "                                 nl          2\n",
       "falcon:40b-instruct-q5_1         fr          2\n",
       "qwen:72b-chat-v1.5-q6_K          vi          2\n",
       "falcon:40b-instruct-q5_1         es          1\n",
       "qwen:72b-chat-v1.5-q6_K          ar          1\n",
       "                                 ru          1\n",
       "llama2:70b-chat-q6_K             sv          1\n",
       "                                 fr          1\n",
       "Name: count, dtype: int64"
      ]
     },
     "execution_count": 10,
     "metadata": {},
     "output_type": "execute_result"
    }
   ],
   "source": [
    "dataset['lang'] = dataset.apply(lambda row: langdetect.detect(row.response) if len(row.response) > 1 else None, axis=1)\n",
    "dataset[['model', 'lang']].value_counts()"
   ]
  },
  {
   "cell_type": "code",
   "execution_count": 11,
   "id": "318c38e217c1e02f",
   "metadata": {
    "ExecuteTime": {
     "end_time": "2024-03-27T11:31:07.466409Z",
     "start_time": "2024-03-27T11:31:07.013326Z"
    },
    "collapsed": false
   },
   "outputs": [
    {
     "data": {
      "image/png": "[encoded data removed]",
      "text/plain": [
       "<Figure size 640x480 with 1 Axes>"
      ]
     },
     "metadata": {},
     "output_type": "display_data"
    }
   ],
   "source": [
    "sns.heatmap(\n",
    "    (\n",
    "        dataset[['model', 'lang']]\n",
    "        .value_counts()\n",
    "        .to_frame()\n",
    "        .reset_index()\n",
    "        .pivot(index=\"model\", columns=\"lang\", values=\"count\")\n",
    "        .T\n",
    "    ),\n",
    "    annot=True,\n",
    "    fmt='g',\n",
    "    linewidth=.5,\n",
    "    cbar=False\n",
    ")\n",
    "mpl.pyplot.savefig(f'{CFG.report_dir}/plot.heat.model.lang.pdf', format='pdf')"
   ]
  },
  {
   "cell_type": "code",
   "execution_count": 8,
   "id": "67c07769d4411b8a",
   "metadata": {
    "ExecuteTime": {
     "end_time": "2024-03-27T11:20:08.165461Z",
     "start_time": "2024-03-27T11:20:08.074639Z"
    },
    "collapsed": false
   },
   "outputs": [
    {
     "data": {
      "text/plain": [
       "model\n",
       "qwen:72b        2048\n",
       "mixtral:8x7b    1937\n",
       "llama2:70b      1918\n",
       "falcon:40b        81\n",
       "Name: count, dtype: int64"
      ]
     },
     "execution_count": 8,
     "metadata": {},
     "output_type": "execute_result"
    }
   ],
   "source": [
    "german_subset: pd.DataFrame = dataset[dataset.lang == LANG]\n",
    "german_subset.to_csv(f'{CFG.data_dir}/{CFG.dataset_name}.{LANG}.csv')\n",
    "german_subset.to_parquet(f'{CFG.data_dir}/{CFG.dataset_name}.{LANG}.parquet')\n",
    "german_subset['model'].value_counts()"
   ]
  },
  {
   "cell_type": "code",
   "execution_count": 9,
   "id": "b49a54dd994d217",
   "metadata": {
    "ExecuteTime": {
     "end_time": "2024-03-27T11:20:08.187069Z",
     "start_time": "2024-03-27T11:20:08.170177Z"
    },
    "collapsed": false
   },
   "outputs": [],
   "source": [
    "german_subset_stratified: pd.DataFrame = german_subset.groupby('model', observed=False).sample(n=80)\n",
    "german_subset_stratified.to_csv(f'{CFG.data_dir}/{CFG.dataset_name}.{LANG}.strat.csv')\n",
    "german_subset_stratified.to_parquet(f'{CFG.data_dir}/{CFG.dataset_name}.{LANG}.strat.parquet')"
   ]
  }
 ],
 "metadata": {
  "kernelspec": {
   "display_name": "Python 3",
   "language": "python",
   "name": "python3"
  },
  "language_info": {
   "codemirror_mode": {
    "name": "ipython",
    "version": 3
   },
   "file_extension": ".py",
   "mimetype": "text/x-python",
   "name": "python",
   "nbconvert_exporter": "python",
   "pygments_lexer": "ipython3",
   "version": "3.11.5"
  }
 },
 "nbformat": 4,
 "nbformat_minor": 5
}
