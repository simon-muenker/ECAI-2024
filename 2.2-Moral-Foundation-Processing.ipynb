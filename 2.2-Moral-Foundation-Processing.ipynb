{
 "cells": [
  {
   "cell_type": "code",
   "execution_count": null,
   "id": "initial_id",
   "metadata": {
    "ExecuteTime": {
     "end_time": "2024-04-15T13:47:17.494634Z",
     "start_time": "2024-04-15T13:47:17.488320Z"
    },
    "collapsed": true
   },
   "outputs": [],
   "source": [
    "import glob\n",
    "import json\n",
    "import typing\n",
    "\n",
    "import pandas as pd"
   ]
  },
  {
   "cell_type": "code",
   "execution_count": null,
   "id": "177ae312852cb884",
   "metadata": {
    "ExecuteTime": {
     "end_time": "2024-04-15T13:47:45.696693Z",
     "start_time": "2024-04-15T13:47:45.691842Z"
    },
    "collapsed": false
   },
   "outputs": [],
   "source": [
    "import config\n",
    "\n",
    "CFG = config.Config()"
   ]
  },
  {
   "cell_type": "code",
   "execution_count": null,
   "id": "86971867d42f2a66",
   "metadata": {
    "ExecuteTime": {
     "end_time": "2024-04-15T13:49:51.111829Z",
     "start_time": "2024-04-15T13:49:51.059551Z"
    },
    "collapsed": false
   },
   "outputs": [],
   "source": [
    "raw_samples: typing.List[dict] = [\n",
    "    json.load(open(file, 'r'))\n",
    "    for file in glob.glob(f'{CFG.data_questionary_dir}/*.json')\n",
    "]\n",
    "len(raw_samples)"
   ]
  },
  {
   "cell_type": "code",
   "execution_count": null,
   "id": "3570673a290716a6",
   "metadata": {
    "ExecuteTime": {
     "end_time": "2024-04-15T13:52:30.771196Z",
     "start_time": "2024-04-15T13:52:30.749902Z"
    },
    "collapsed": false
   },
   "outputs": [],
   "source": [
    "dataset: pd.DataFrame = (\n",
    "    pd.json_normalize(raw_samples)\n",
    "    .astype({'model': 'category'})\n",
    "    .astype({'number': int})\n",
    "    .set_index(['category', 'number'])\n",
    "    .pipe(lambda _df: _df.assign(model=_df['model'].str.replace(':.*','', regex=True)))\n",
    "    .pipe(lambda _df: _df.assign(response=_df['response'].str.extract(r'(\\d)')))\n",
    "    .pivot(columns='model')\n",
    ")\n",
    "dataset.to_parquet(f'{CFG.data_dir}/questionary.responses.parquet')\n",
    "dataset.to_latex(f'{CFG.report_dir}/questionary.responses.tex')\n",
    "dataset"
   ]
  }
 ],
 "metadata": {
  "kernelspec": {
   "display_name": "Python 3",
   "language": "python",
   "name": "python3"
  },
  "language_info": {
   "codemirror_mode": {
    "name": "ipython",
    "version": 3
   },
   "file_extension": ".py",
   "mimetype": "text/x-python",
   "name": "python",
   "nbconvert_exporter": "python",
   "pygments_lexer": "ipython3",
   "version": "3.11.5"
  }
 },
 "nbformat": 4,
 "nbformat_minor": 5
}
