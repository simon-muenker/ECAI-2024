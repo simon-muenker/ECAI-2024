{
 "cells": [
  {
   "cell_type": "code",
   "execution_count": null,
   "id": "initial_id",
   "metadata": {
    "ExecuteTime": {
     "end_time": "2024-04-16T14:46:31.299618Z",
     "start_time": "2024-04-16T14:46:31.293834Z"
    },
    "collapsed": true
   },
   "outputs": [],
   "source": [
    "import pandas as pd"
   ]
  },
  {
   "cell_type": "code",
   "execution_count": null,
   "id": "177ae312852cb884",
   "metadata": {
    "ExecuteTime": {
     "end_time": "2024-04-16T14:46:31.306781Z",
     "start_time": "2024-04-16T14:46:31.301577Z"
    },
    "collapsed": false
   },
   "outputs": [],
   "source": [
    "import config\n",
    "\n",
    "CFG = config.Config()"
   ]
  },
  {
   "cell_type": "code",
   "execution_count": null,
   "id": "86971867d42f2a66",
   "metadata": {
    "ExecuteTime": {
     "end_time": "2024-04-16T14:47:12.446244Z",
     "start_time": "2024-04-16T14:47:11.943176Z"
    },
    "collapsed": false
   },
   "outputs": [],
   "source": [
    "raw: pd.DataFrame = pd.read_json(f'{CFG.data_dir}/raw.human.json')\n",
    "raw"
   ]
  },
  {
   "cell_type": "code",
   "execution_count": null,
   "id": "3570673a290716a6",
   "metadata": {
    "ExecuteTime": {
     "end_time": "2024-04-16T14:50:13.008544Z",
     "start_time": "2024-04-16T14:50:12.993505Z"
    },
    "collapsed": false
   },
   "outputs": [],
   "source": [
    "processed: pd.DataFrame = (\n",
    "    raw\n",
    "    .set_index('id', drop=True)\n",
    "    [['text']]\n",
    "    .assign(model='human')\n",
    "    .assign(lang=CFG.lang)\n",
    "    .rename(columns={'text': 'response'})\n",
    ")\n",
    "processed"
   ]
  },
  {
   "cell_type": "code",
   "execution_count": null,
   "id": "e9034d5e53c86c8c",
   "metadata": {
    "ExecuteTime": {
     "end_time": "2024-04-16T14:51:50.588066Z",
     "start_time": "2024-04-16T14:51:50.457344Z"
    }
   },
   "outputs": [],
   "source": [
    "processed.to_csv(f'{CFG.data_dir}/dataset.human.{CFG.lang}.csv')\n",
    "processed.to_parquet(f'{CFG.data_dir}/dataset.human.{CFG.lang}.parquet')"
   ]
  },
  {
   "cell_type": "code",
   "execution_count": null,
   "id": "a05b6ea9",
   "metadata": {},
   "outputs": [],
   "source": [
    "dataset_prod = (\n",
    "    pd.concat(\n",
    "        [\n",
    "            (synthetic := pd.read_parquet(f'{CFG.data_dir}/{CFG.dataset_name}.{CFG.lang}.strat.parquet')),\n",
    "            processed.sample(synthetic.value_counts('model').min())\n",
    "        ]\n",
    "    )\n",
    "    .reset_index(drop=True)\n",
    ")\n",
    "dataset_prod.to_csv(f'{CFG.data_dir}/dataset.prod.{CFG.lang}.csv')\n",
    "dataset_prod.to_parquet(f'{CFG.data_dir}/dataset.prod.{CFG.lang}.parquet')"
   ]
  }
 ],
 "metadata": {
  "kernelspec": {
   "display_name": "Python 3",
   "language": "python",
   "name": "python3"
  },
  "language_info": {
   "codemirror_mode": {
    "name": "ipython",
    "version": 3
   },
   "file_extension": ".py",
   "mimetype": "text/x-python",
   "name": "python",
   "nbconvert_exporter": "python",
   "pygments_lexer": "ipython3",
   "version": "3.11.5"
  }
 },
 "nbformat": 4,
 "nbformat_minor": 5
}
