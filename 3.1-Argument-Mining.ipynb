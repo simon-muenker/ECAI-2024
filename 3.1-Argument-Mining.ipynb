{
 "cells": [
  {
   "cell_type": "code",
   "execution_count": 48,
   "metadata": {},
   "outputs": [],
   "source": [
    "import pandas as pd\n",
    "import requests"
   ]
  },
  {
   "cell_type": "code",
   "execution_count": 49,
   "metadata": {},
   "outputs": [],
   "source": [
    "import config\n",
    "\n",
    "CFG = config.Config()"
   ]
  },
  {
   "cell_type": "code",
   "execution_count": 50,
   "metadata": {},
   "outputs": [],
   "source": [
    "PROMPT: str = \\\n",
    "\"\"\"\n",
    "You are an argument miner and your purpose is retrieving arguments and topics from social media post and present them structured as a response.\n",
    "\"\"\""
   ]
  },
  {
   "cell_type": "code",
   "execution_count": 51,
   "metadata": {},
   "outputs": [
    {
     "data": {
      "text/html": [
       "<div>\n",
       "<style scoped>\n",
       "    .dataframe tbody tr th:only-of-type {\n",
       "        vertical-align: middle;\n",
       "    }\n",
       "\n",
       "    .dataframe tbody tr th {\n",
       "        vertical-align: top;\n",
       "    }\n",
       "\n",
       "    .dataframe thead th {\n",
       "        text-align: right;\n",
       "    }\n",
       "</style>\n",
       "<table border=\"1\" class=\"dataframe\">\n",
       "  <thead>\n",
       "    <tr style=\"text-align: right;\">\n",
       "      <th></th>\n",
       "      <th>model</th>\n",
       "      <th>response</th>\n",
       "      <th>lang</th>\n",
       "    </tr>\n",
       "  </thead>\n",
       "  <tbody>\n",
       "    <tr>\n",
       "      <th>0</th>\n",
       "      <td>falcon</td>\n",
       "      <td>as an ai language model, i cannot provide my o...</td>\n",
       "      <td>de</td>\n",
       "    </tr>\n",
       "    <tr>\n",
       "      <th>1</th>\n",
       "      <td>falcon</td>\n",
       "      <td>in der deutschen sprache ist das schlagwort \"s...</td>\n",
       "      <td>de</td>\n",
       "    </tr>\n",
       "    <tr>\n",
       "      <th>2</th>\n",
       "      <td>falcon</td>\n",
       "      <td>as an ai language model, i don't have access t...</td>\n",
       "      <td>de</td>\n",
       "    </tr>\n",
       "    <tr>\n",
       "      <th>3</th>\n",
       "      <td>falcon</td>\n",
       "      <td>as an ai language model, i don't have any opin...</td>\n",
       "      <td>de</td>\n",
       "    </tr>\n",
       "    <tr>\n",
       "      <th>4</th>\n",
       "      <td>falcon</td>\n",
       "      <td>as an ai language model, i don't have any pers...</td>\n",
       "      <td>de</td>\n",
       "    </tr>\n",
       "    <tr>\n",
       "      <th>...</th>\n",
       "      <td>...</td>\n",
       "      <td>...</td>\n",
       "      <td>...</td>\n",
       "    </tr>\n",
       "    <tr>\n",
       "      <th>703</th>\n",
       "      <td>human</td>\n",
       "      <td>🔒 Sicherheit ist unsere Priorität! Mit unseren...</td>\n",
       "      <td>de</td>\n",
       "    </tr>\n",
       "    <tr>\n",
       "      <th>704</th>\n",
       "      <td>human</td>\n",
       "      <td>\"Cyberattacken werden für Unternehmen immer te...</td>\n",
       "      <td>de</td>\n",
       "    </tr>\n",
       "    <tr>\n",
       "      <th>705</th>\n",
       "      <td>human</td>\n",
       "      <td>Der 2023-Tätigkeitsbericht des HmbBfDI steht z...</td>\n",
       "      <td>de</td>\n",
       "    </tr>\n",
       "    <tr>\n",
       "      <th>706</th>\n",
       "      <td>human</td>\n",
       "      <td>Inhalte? Datenschutz? China?\\n- alles egal. ht...</td>\n",
       "      <td>de</td>\n",
       "    </tr>\n",
       "    <tr>\n",
       "      <th>707</th>\n",
       "      <td>human</td>\n",
       "      <td>Plattenspiegelung ist keine Backup-Recovery-St...</td>\n",
       "      <td>de</td>\n",
       "    </tr>\n",
       "  </tbody>\n",
       "</table>\n",
       "<p>708 rows × 3 columns</p>\n",
       "</div>"
      ],
      "text/plain": [
       "      model                                           response lang\n",
       "0    falcon  as an ai language model, i cannot provide my o...   de\n",
       "1    falcon  in der deutschen sprache ist das schlagwort \"s...   de\n",
       "2    falcon  as an ai language model, i don't have access t...   de\n",
       "3    falcon  as an ai language model, i don't have any opin...   de\n",
       "4    falcon  as an ai language model, i don't have any pers...   de\n",
       "..      ...                                                ...  ...\n",
       "703   human  🔒 Sicherheit ist unsere Priorität! Mit unseren...   de\n",
       "704   human  \"Cyberattacken werden für Unternehmen immer te...   de\n",
       "705   human  Der 2023-Tätigkeitsbericht des HmbBfDI steht z...   de\n",
       "706   human  Inhalte? Datenschutz? China?\\n- alles egal. ht...   de\n",
       "707   human  Plattenspiegelung ist keine Backup-Recovery-St...   de\n",
       "\n",
       "[708 rows x 3 columns]"
      ]
     },
     "execution_count": 51,
     "metadata": {},
     "output_type": "execute_result"
    }
   ],
   "source": [
    "data: pd.DataFrame = pd.read_parquet(f'{CFG.data_dir}/{CFG.dataset_name}.prod.{CFG.lang}.parquet')\n",
    "data"
   ]
  },
  {
   "cell_type": "code",
   "execution_count": 52,
   "metadata": {},
   "outputs": [],
   "source": [
    "for name, group in data.groupby('model'):\n",
    "    if name == 'mixtral':\n",
    "        (\n",
    "            open(f'{CFG.data_dir}/argument_evaluation.{name}.{CFG.lang}.txt', 'w')\n",
    "            .write(\n",
    "                requests.post(\n",
    "                'https://inf.cl.uni-trier.de/',\n",
    "                json={\n",
    "                    'model': 'llama3:70b-instruct-q6_K',\n",
    "                    'system': PROMPT,\n",
    "                    'prompt': f'Posts:\\n{group[\"response\"].tolist()}\\n\\nArguments:\\n'\n",
    "                }\n",
    "            ).json()['response']\n",
    "            )\n",
    "        )\n"
   ]
  }
 ],
 "metadata": {
  "kernelspec": {
   "display_name": "base",
   "language": "python",
   "name": "python3"
  },
  "language_info": {
   "codemirror_mode": {
    "name": "ipython",
    "version": 3
   },
   "file_extension": ".py",
   "mimetype": "text/x-python",
   "name": "python",
   "nbconvert_exporter": "python",
   "pygments_lexer": "ipython3",
   "version": "3.11.5"
  }
 },
 "nbformat": 4,
 "nbformat_minor": 2
}
