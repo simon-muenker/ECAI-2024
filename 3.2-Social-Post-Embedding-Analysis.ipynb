{
 "cells": [
  {
   "cell_type": "code",
   "execution_count": null,
   "id": "initial_id",
   "metadata": {
    "ExecuteTime": {
     "end_time": "2024-03-27T10:06:17.110025Z",
     "start_time": "2024-03-27T10:06:17.106569Z"
    },
    "collapsed": true
   },
   "outputs": [],
   "source": [
    "import numpy as np\n",
    "import pandas as pd\n",
    "import matplotlib as mpl\n",
    "import seaborn as sns\n",
    "\n",
    "from sklearn.decomposition import PCA\n",
    "from sklearn.cluster import AffinityPropagation"
   ]
  },
  {
   "cell_type": "code",
   "execution_count": null,
   "id": "bf3252ce",
   "metadata": {},
   "outputs": [],
   "source": [
    "import config\n",
    "\n",
    "CFG = config.Config()"
   ]
  },
  {
   "cell_type": "code",
   "execution_count": null,
   "id": "2abb477fbe614181",
   "metadata": {
    "ExecuteTime": {
     "end_time": "2024-03-27T10:06:17.768998Z",
     "start_time": "2024-03-27T10:06:17.727891Z"
    },
    "collapsed": false
   },
   "outputs": [],
   "source": [
    "data = pd.concat([\n",
    "\tpd.read_parquet(f'{CFG.prediction_dir}/results/embeds.train.parquet'),\n",
    "\tpd.read_parquet(f'{CFG.prediction_dir}/results/embeds.test.parquet')\n",
    "])\n",
    "display(len(data))\n",
    "data.head()"
   ]
  },
  {
   "cell_type": "code",
   "execution_count": null,
   "id": "fd4f7d662b4b9e6b",
   "metadata": {
    "ExecuteTime": {
     "end_time": "2024-03-27T10:08:11.410908Z",
     "start_time": "2024-03-27T10:08:11.399041Z"
    },
    "collapsed": false
   },
   "outputs": [],
   "source": [
    "embeds = PCA(n_components=2).fit_transform(np.stack(data.embeds.tolist()))"
   ]
  },
  {
   "cell_type": "code",
   "execution_count": null,
   "id": "9f3ad0d8f5577e12",
   "metadata": {
    "ExecuteTime": {
     "end_time": "2024-03-27T10:08:11.769893Z",
     "start_time": "2024-03-27T10:08:11.750398Z"
    },
    "collapsed": false
   },
   "outputs": [],
   "source": [
    "data[['x', 'y']] = [(emb[0], emb[1]) for emb in embeds]\n",
    "data.head()"
   ]
  },
  {
   "cell_type": "code",
   "execution_count": null,
   "id": "1f6cb008f9d7e5e2",
   "metadata": {
    "ExecuteTime": {
     "end_time": "2024-03-27T10:08:13.026662Z",
     "start_time": "2024-03-27T10:08:12.294463Z"
    },
    "collapsed": false
   },
   "outputs": [],
   "source": [
    "sns.scatterplot(data, x='x', y='y', hue='model')\n",
    "mpl.pyplot.savefig(f'{CFG.report_dir}/plot.pca.scatter.model.pdf', format='pdf')"
   ]
  },
  {
   "cell_type": "code",
   "execution_count": null,
   "id": "b8948ff2d2da4cf1",
   "metadata": {
    "ExecuteTime": {
     "end_time": "2024-03-27T10:08:15.764466Z",
     "start_time": "2024-03-27T10:08:13.030016Z"
    },
    "collapsed": false
   },
   "outputs": [],
   "source": [
    "grid = sns.FacetGrid(\n",
    "    data, col=\"model\", hue=\"model\", col_wrap=3,\n",
    "    col_order=['human', 'llama2', 'llama3', 'mixtral', 'falcon', 'qwen']\n",
    "    )\n",
    "grid.map_dataframe(sns.kdeplot, x='x', y='y', fill=True)\n",
    "mpl.pyplot.savefig(f'{CFG.report_dir}/plot.pca.kde.model.pdf', format='pdf')"
   ]
  },
  {
   "cell_type": "code",
   "execution_count": null,
   "id": "cc17b7c15eda99de",
   "metadata": {
    "ExecuteTime": {
     "end_time": "2024-03-27T10:32:01.663632Z",
     "start_time": "2024-03-27T10:32:01.584024Z"
    },
    "collapsed": false
   },
   "outputs": [],
   "source": [
    "data['cluster'] = AffinityPropagation().fit_predict(data['embeds'].tolist())\n",
    "data[['cluster', 'model']].value_counts().sort_index()"
   ]
  },
  {
   "cell_type": "code",
   "execution_count": null,
   "id": "f771c47f09ecb49f",
   "metadata": {
    "ExecuteTime": {
     "end_time": "2024-03-27T10:32:04.450217Z",
     "start_time": "2024-03-27T10:32:03.907886Z"
    },
    "collapsed": false
   },
   "outputs": [],
   "source": [
    "sns.scatterplot(data, x='x', y='y', hue='cluster')\n",
    "mpl.pyplot.savefig(f'{CFG.report_dir}/plot.pca.scatter.cluster.pdf', format='pdf')"
   ]
  },
  {
   "cell_type": "code",
   "execution_count": null,
   "id": "e92561f4c808905",
   "metadata": {
    "ExecuteTime": {
     "end_time": "2024-03-27T10:32:09.823764Z",
     "start_time": "2024-03-27T10:32:06.558362Z"
    },
    "collapsed": false
   },
   "outputs": [],
   "source": [
    "grid = sns.FacetGrid(data, col=\"model\", hue=\"cluster\", col_wrap=2)\n",
    "grid.map_dataframe(sns.kdeplot, x='x', y='y', fill=True)\n",
    "mpl.pyplot.savefig(f'{CFG.report_dir}/plot.pca.kde.cluster.pdf', format='pdf')"
   ]
  },
  {
   "cell_type": "code",
   "execution_count": null,
   "id": "ed4aef29",
   "metadata": {},
   "outputs": [],
   "source": [
    "(\n",
    "    pd\n",
    "    .read_csv(f'{CFG.prediction_dir}/results/metric.classification_report.csv', index_col=[0])\n",
    "    [['precision', 'recall', 'f1-score']]\n",
    "    .to_latex(f'{CFG.report_dir}/classification.results.tex', float_format=lambda f: f'{f:2.3f}')\n",
    ")"
   ]
  },
  {
   "cell_type": "code",
   "execution_count": null,
   "id": "5ed36181",
   "metadata": {},
   "outputs": [],
   "source": [
    "sns.heatmap(\n",
    "    (df := pd.read_csv(f'{CFG.prediction_dir}/results/metric.cross_tabulation.csv', index_col=[0]))\n",
    "    / df.sum(axis=0),\n",
    ")\n",
    "mpl.pyplot.savefig(f'{CFG.report_dir}/plot.heat.embed.classification.pdf', format='pdf')"
   ]
  }
 ],
 "metadata": {
  "kernelspec": {
   "display_name": "Python 3",
   "language": "python",
   "name": "python3"
  },
  "language_info": {
   "codemirror_mode": {
    "name": "ipython",
    "version": 3
   },
   "file_extension": ".py",
   "mimetype": "text/x-python",
   "name": "python",
   "nbconvert_exporter": "python",
   "pygments_lexer": "ipython3",
   "version": "3.11.5"
  }
 },
 "nbformat": 4,
 "nbformat_minor": 5
}
