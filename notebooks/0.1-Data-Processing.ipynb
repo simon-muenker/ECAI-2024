{
 "cells": [
  {
   "cell_type": "code",
   "execution_count": 20,
   "id": "initial_id",
   "metadata": {
    "collapsed": true,
    "ExecuteTime": {
     "end_time": "2024-03-07T10:08:35.052631Z",
     "start_time": "2024-03-07T10:08:35.049419Z"
    }
   },
   "outputs": [],
   "source": [
    "import glob\n",
    "import json\n",
    "import typing\n",
    "\n",
    "import pandas as pd"
   ]
  },
  {
   "cell_type": "code",
   "outputs": [],
   "source": [
    "RAW_DATA_DIR: str = '../data/raw'\n",
    "DATA_OUT_PATH: str = '../data/dataset'"
   ],
   "metadata": {
    "collapsed": false,
    "ExecuteTime": {
     "end_time": "2024-03-07T10:08:35.059313Z",
     "start_time": "2024-03-07T10:08:35.055269Z"
    }
   },
   "id": "177ae312852cb884",
   "execution_count": 21
  },
  {
   "cell_type": "code",
   "outputs": [
    {
     "data": {
      "text/plain": "119"
     },
     "execution_count": 22,
     "metadata": {},
     "output_type": "execute_result"
    }
   ],
   "source": [
    "raw_samples: typing.List[dict] = [\n",
    "    json.load(open(file, 'r'))\n",
    "    for file in glob.glob(f'{RAW_DATA_DIR}/*.json')\n",
    "]\n",
    "open(f'{DATA_OUT_PATH}.json', 'w').write(json.dumps(raw_samples, indent=4, ensure_ascii=False))\n",
    "len(raw_samples)"
   ],
   "metadata": {
    "collapsed": false,
    "ExecuteTime": {
     "end_time": "2024-03-07T10:08:35.113635Z",
     "start_time": "2024-03-07T10:08:35.062329Z"
    }
   },
   "id": "86971867d42f2a66",
   "execution_count": 22
  },
  {
   "cell_type": "code",
   "outputs": [
    {
     "data": {
      "text/plain": "            model                                           response\n0        qwen:72b  \" Datenprivatheit - mehr als nur ein Trend. Un...\n1    mixtral:8x7b   \"In Deutschland schützen wir sorgfältig unser...\n2    mixtral:8x7b   \"In Deutschland schätzen wir den Schutz unser...\n3    mixtral:8x7b   \"In Deutschland nehmen wir Datenschutz ernst!...\n4        qwen:72b  \"Datenschutz ist mehr als ein Trend - es ist d...\n..            ...                                                ...\n114  mixtral:8x7b   \"In Deutschland schätzen wir den Schutz unser...\n115      qwen:72b  \"Warum ist die Schutz unserer persönlichen Dat...\n116      qwen:72b  \" Daten隐私，我们的信息是否真的安全？保护个人信息不应只是一句空话。 #个人数据保护 ...\n117      qwen:72b  \" 数据隐私，个人信息的安全网还是透明化陷阱？🤔我们必须更严格地保护我们的数据，免受无处不在...\n118    falcon:40b  As an AI language model, I do not have persona...\n\n[119 rows x 2 columns]",
      "text/html": "<div>\n<style scoped>\n    .dataframe tbody tr th:only-of-type {\n        vertical-align: middle;\n    }\n\n    .dataframe tbody tr th {\n        vertical-align: top;\n    }\n\n    .dataframe thead th {\n        text-align: right;\n    }\n</style>\n<table border=\"1\" class=\"dataframe\">\n  <thead>\n    <tr style=\"text-align: right;\">\n      <th></th>\n      <th>model</th>\n      <th>response</th>\n    </tr>\n  </thead>\n  <tbody>\n    <tr>\n      <th>0</th>\n      <td>qwen:72b</td>\n      <td>\" Datenprivatheit - mehr als nur ein Trend. Un...</td>\n    </tr>\n    <tr>\n      <th>1</th>\n      <td>mixtral:8x7b</td>\n      <td>\"In Deutschland schützen wir sorgfältig unser...</td>\n    </tr>\n    <tr>\n      <th>2</th>\n      <td>mixtral:8x7b</td>\n      <td>\"In Deutschland schätzen wir den Schutz unser...</td>\n    </tr>\n    <tr>\n      <th>3</th>\n      <td>mixtral:8x7b</td>\n      <td>\"In Deutschland nehmen wir Datenschutz ernst!...</td>\n    </tr>\n    <tr>\n      <th>4</th>\n      <td>qwen:72b</td>\n      <td>\"Datenschutz ist mehr als ein Trend - es ist d...</td>\n    </tr>\n    <tr>\n      <th>...</th>\n      <td>...</td>\n      <td>...</td>\n    </tr>\n    <tr>\n      <th>114</th>\n      <td>mixtral:8x7b</td>\n      <td>\"In Deutschland schätzen wir den Schutz unser...</td>\n    </tr>\n    <tr>\n      <th>115</th>\n      <td>qwen:72b</td>\n      <td>\"Warum ist die Schutz unserer persönlichen Dat...</td>\n    </tr>\n    <tr>\n      <th>116</th>\n      <td>qwen:72b</td>\n      <td>\" Daten隐私，我们的信息是否真的安全？保护个人信息不应只是一句空话。 #个人数据保护 ...</td>\n    </tr>\n    <tr>\n      <th>117</th>\n      <td>qwen:72b</td>\n      <td>\" 数据隐私，个人信息的安全网还是透明化陷阱？🤔我们必须更严格地保护我们的数据，免受无处不在...</td>\n    </tr>\n    <tr>\n      <th>118</th>\n      <td>falcon:40b</td>\n      <td>As an AI language model, I do not have persona...</td>\n    </tr>\n  </tbody>\n</table>\n<p>119 rows × 2 columns</p>\n</div>"
     },
     "execution_count": 23,
     "metadata": {},
     "output_type": "execute_result"
    }
   ],
   "source": [
    "dataset: pd.DataFrame = (\n",
    "    pd.json_normalize(raw_samples)\n",
    "    .astype({'model': 'category'})\n",
    ")\n",
    "dataset.to_parquet(f'{DATA_OUT_PATH}.parquet')\n",
    "dataset"
   ],
   "metadata": {
    "collapsed": false,
    "ExecuteTime": {
     "end_time": "2024-03-07T10:08:35.132521Z",
     "start_time": "2024-03-07T10:08:35.116402Z"
    }
   },
   "id": "3570673a290716a6",
   "execution_count": 23
  },
  {
   "cell_type": "code",
   "outputs": [],
   "source": [],
   "metadata": {
    "collapsed": false,
    "ExecuteTime": {
     "end_time": "2024-03-07T10:08:35.136646Z",
     "start_time": "2024-03-07T10:08:35.134420Z"
    }
   },
   "id": "5b367bf6839b9059",
   "execution_count": 23
  }
 ],
 "metadata": {
  "kernelspec": {
   "display_name": "Python 3",
   "language": "python",
   "name": "python3"
  },
  "language_info": {
   "codemirror_mode": {
    "name": "ipython",
    "version": 2
   },
   "file_extension": ".py",
   "mimetype": "text/x-python",
   "name": "python",
   "nbconvert_exporter": "python",
   "pygments_lexer": "ipython2",
   "version": "2.7.6"
  }
 },
 "nbformat": 4,
 "nbformat_minor": 5
}
