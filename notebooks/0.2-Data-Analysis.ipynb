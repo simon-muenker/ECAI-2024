{
 "cells": [
  {
   "cell_type": "code",
   "execution_count": 1,
   "id": "initial_id",
   "metadata": {
    "collapsed": true,
    "ExecuteTime": {
     "end_time": "2024-03-08T13:29:01.834129Z",
     "start_time": "2024-03-08T13:28:43.952296Z"
    }
   },
   "outputs": [],
   "source": [
    "import collections\n",
    "import typing\n",
    "\n",
    "import nltk\n",
    "import pandas as pd"
   ]
  },
  {
   "cell_type": "code",
   "outputs": [],
   "source": [
    "DATASET: str = '../data/dataset.parquet'"
   ],
   "metadata": {
    "collapsed": false,
    "ExecuteTime": {
     "end_time": "2024-03-08T13:29:05.919007Z",
     "start_time": "2024-03-08T13:29:05.913807Z"
    }
   },
   "id": "feb40a46e9b51106",
   "execution_count": 2
  },
  {
   "cell_type": "code",
   "outputs": [
    {
     "data": {
      "text/plain": "             model                                           response\n0     mixtral:8x7b   \"In Deutschland schätzen wir den Schutz unser...\n1         qwen:72b  \" Datenprivatheit - mehr als nur ein Trend. Un...\n2         qwen:72b  \"Datenschutz ist mehr als ein trendiges Wort -...\n3         qwen:72b  \"Data privacy matters! 🌐🔒 Waking up to yet ano...\n4         qwen:72b  \"Datenschutz oder Überwachung? Our personal in...\n...            ...                                                ...\n1020  mixtral:8x7b   \"In Deutschland schätzen wir den Schutz unser...\n1021    falcon:40b  I am sorry but as an AI language model, I cann...\n1022    llama2:70b  \\n\"Datenschutz ist wichtig! 🤖🔒 Es ist Zeit, da...\n1023    falcon:40b  As an AI language model, I do not have persona...\n1024    falcon:40b  As an AI language model, I cannot provide opin...\n\n[1025 rows x 2 columns]",
      "text/html": "<div>\n<style scoped>\n    .dataframe tbody tr th:only-of-type {\n        vertical-align: middle;\n    }\n\n    .dataframe tbody tr th {\n        vertical-align: top;\n    }\n\n    .dataframe thead th {\n        text-align: right;\n    }\n</style>\n<table border=\"1\" class=\"dataframe\">\n  <thead>\n    <tr style=\"text-align: right;\">\n      <th></th>\n      <th>model</th>\n      <th>response</th>\n    </tr>\n  </thead>\n  <tbody>\n    <tr>\n      <th>0</th>\n      <td>mixtral:8x7b</td>\n      <td>\"In Deutschland schätzen wir den Schutz unser...</td>\n    </tr>\n    <tr>\n      <th>1</th>\n      <td>qwen:72b</td>\n      <td>\" Datenprivatheit - mehr als nur ein Trend. Un...</td>\n    </tr>\n    <tr>\n      <th>2</th>\n      <td>qwen:72b</td>\n      <td>\"Datenschutz ist mehr als ein trendiges Wort -...</td>\n    </tr>\n    <tr>\n      <th>3</th>\n      <td>qwen:72b</td>\n      <td>\"Data privacy matters! 🌐🔒 Waking up to yet ano...</td>\n    </tr>\n    <tr>\n      <th>4</th>\n      <td>qwen:72b</td>\n      <td>\"Datenschutz oder Überwachung? Our personal in...</td>\n    </tr>\n    <tr>\n      <th>...</th>\n      <td>...</td>\n      <td>...</td>\n    </tr>\n    <tr>\n      <th>1020</th>\n      <td>mixtral:8x7b</td>\n      <td>\"In Deutschland schätzen wir den Schutz unser...</td>\n    </tr>\n    <tr>\n      <th>1021</th>\n      <td>falcon:40b</td>\n      <td>I am sorry but as an AI language model, I cann...</td>\n    </tr>\n    <tr>\n      <th>1022</th>\n      <td>llama2:70b</td>\n      <td>\\n\"Datenschutz ist wichtig! 🤖🔒 Es ist Zeit, da...</td>\n    </tr>\n    <tr>\n      <th>1023</th>\n      <td>falcon:40b</td>\n      <td>As an AI language model, I do not have persona...</td>\n    </tr>\n    <tr>\n      <th>1024</th>\n      <td>falcon:40b</td>\n      <td>As an AI language model, I cannot provide opin...</td>\n    </tr>\n  </tbody>\n</table>\n<p>1025 rows × 2 columns</p>\n</div>"
     },
     "execution_count": 3,
     "metadata": {},
     "output_type": "execute_result"
    }
   ],
   "source": [
    "dataset: pd.DataFrame = pd.read_parquet(DATASET)\n",
    "dataset"
   ],
   "metadata": {
    "collapsed": false,
    "ExecuteTime": {
     "end_time": "2024-03-08T13:29:07.583460Z",
     "start_time": "2024-03-08T13:29:07.333032Z"
    }
   },
   "id": "910a495b3ed81f5e",
   "execution_count": 3
  },
  {
   "cell_type": "code",
   "outputs": [
    {
     "data": {
      "text/plain": "model\nllama2:70b      267\nfalcon:40b      263\nqwen:72b        261\nmixtral:8x7b    234\nName: count, dtype: int64"
     },
     "execution_count": 74,
     "metadata": {},
     "output_type": "execute_result"
    }
   ],
   "source": [
    "dataset['model'].value_counts()"
   ],
   "metadata": {
    "collapsed": false,
    "ExecuteTime": {
     "end_time": "2024-03-08T13:45:04.884590Z",
     "start_time": "2024-03-08T13:45:04.876393Z"
    }
   },
   "id": "3a829d5987e8f5cc",
   "execution_count": 74
  },
  {
   "cell_type": "code",
   "outputs": [],
   "source": [
    "token_count: typing.Dict[str, pd.Series] = {}\n",
    "\n",
    "for model, group in dataset.groupby('model', observed=False):\n",
    "    token: typing.List[str] = (\n",
    "        ' '.join(group.response.tolist())\n",
    "        .lower()\n",
    "        .replace('\"', '')\n",
    "        .replace('#', '')\n",
    "        .split()\n",
    "    )\n",
    "    counter = collections.Counter(token)\n",
    "\n",
    "    for token in [*nltk.corpus.stopwords.words('english'), *nltk.corpus.stopwords.words('german')]:\n",
    "        del counter[token]\n",
    "\n",
    "    token_count[model] = pd.Series(counter, name='count').sort_values(ascending=False)"
   ],
   "metadata": {
    "collapsed": false,
    "ExecuteTime": {
     "end_time": "2024-03-08T13:46:18.026326Z",
     "start_time": "2024-03-08T13:46:17.981069Z"
    }
   },
   "id": "3693555b33b24eaf",
   "execution_count": 80
  },
  {
   "cell_type": "code",
   "outputs": [
    {
     "data": {
      "text/plain": "                                                    falcon:40b  llama2:70b  \\\npersonal                                                 794.0       188.0   \ndata                                                     752.0       263.0   \ninformation                                              706.0       100.0   \nprivacy                                                  582.0       190.0   \nsocial                                                   544.0         6.0   \n...                                                        ...         ...   \nvs.                                                        NaN         NaN   \nwert                                                       NaN         NaN   \nlegst                                                      NaN         NaN   \npersönlich                                                 NaN         NaN   \n数据隐私，个人信息的安全网还是透明化陷阱？🤔我们必须更严格地保护我们的数据，免受无处不在的数字...         NaN         NaN   \n\n                                                    mixtral:8x7b  qwen:72b  \npersonal                                                   228.0      36.0  \ndata                                                        97.0      85.0  \ninformation                                                 99.0      15.0  \nprivacy                                                     95.0      80.0  \nsocial                                                       6.0       2.0  \n...                                                          ...       ...  \nvs.                                                          NaN       1.0  \nwert                                                         NaN       1.0  \nlegst                                                        NaN       1.0  \npersönlich                                                   NaN       1.0  \n数据隐私，个人信息的安全网还是透明化陷阱？🤔我们必须更严格地保护我们的数据，免受无处不在的数字...           NaN       1.0  \n\n[5008 rows x 4 columns]",
      "text/html": "<div>\n<style scoped>\n    .dataframe tbody tr th:only-of-type {\n        vertical-align: middle;\n    }\n\n    .dataframe tbody tr th {\n        vertical-align: top;\n    }\n\n    .dataframe thead th {\n        text-align: right;\n    }\n</style>\n<table border=\"1\" class=\"dataframe\">\n  <thead>\n    <tr style=\"text-align: right;\">\n      <th></th>\n      <th>falcon:40b</th>\n      <th>llama2:70b</th>\n      <th>mixtral:8x7b</th>\n      <th>qwen:72b</th>\n    </tr>\n  </thead>\n  <tbody>\n    <tr>\n      <th>personal</th>\n      <td>794.0</td>\n      <td>188.0</td>\n      <td>228.0</td>\n      <td>36.0</td>\n    </tr>\n    <tr>\n      <th>data</th>\n      <td>752.0</td>\n      <td>263.0</td>\n      <td>97.0</td>\n      <td>85.0</td>\n    </tr>\n    <tr>\n      <th>information</th>\n      <td>706.0</td>\n      <td>100.0</td>\n      <td>99.0</td>\n      <td>15.0</td>\n    </tr>\n    <tr>\n      <th>privacy</th>\n      <td>582.0</td>\n      <td>190.0</td>\n      <td>95.0</td>\n      <td>80.0</td>\n    </tr>\n    <tr>\n      <th>social</th>\n      <td>544.0</td>\n      <td>6.0</td>\n      <td>6.0</td>\n      <td>2.0</td>\n    </tr>\n    <tr>\n      <th>...</th>\n      <td>...</td>\n      <td>...</td>\n      <td>...</td>\n      <td>...</td>\n    </tr>\n    <tr>\n      <th>vs.</th>\n      <td>NaN</td>\n      <td>NaN</td>\n      <td>NaN</td>\n      <td>1.0</td>\n    </tr>\n    <tr>\n      <th>wert</th>\n      <td>NaN</td>\n      <td>NaN</td>\n      <td>NaN</td>\n      <td>1.0</td>\n    </tr>\n    <tr>\n      <th>legst</th>\n      <td>NaN</td>\n      <td>NaN</td>\n      <td>NaN</td>\n      <td>1.0</td>\n    </tr>\n    <tr>\n      <th>persönlich</th>\n      <td>NaN</td>\n      <td>NaN</td>\n      <td>NaN</td>\n      <td>1.0</td>\n    </tr>\n    <tr>\n      <th>数据隐私，个人信息的安全网还是透明化陷阱？🤔我们必须更严格地保护我们的数据，免受无处不在的数字窥探。👀</th>\n      <td>NaN</td>\n      <td>NaN</td>\n      <td>NaN</td>\n      <td>1.0</td>\n    </tr>\n  </tbody>\n</table>\n<p>5008 rows × 4 columns</p>\n</div>"
     },
     "execution_count": 102,
     "metadata": {},
     "output_type": "execute_result"
    }
   ],
   "source": [
    "collated_token_count: pd.DataFrame = pd.concat(token_count, axis='columns')\n",
    "collated_token_count"
   ],
   "metadata": {
    "collapsed": false,
    "ExecuteTime": {
     "end_time": "2024-03-08T13:53:39.151560Z",
     "start_time": "2024-03-08T13:53:39.127189Z"
    }
   },
   "id": "451b22601a4ca589",
   "execution_count": 102
  },
  {
   "cell_type": "code",
   "outputs": [
    {
     "data": {
      "text/plain": "        falcon:40b   llama2:70b  mixtral:8x7b    qwen:72b\ncount  3284.000000  1395.000000    559.000000  911.000000\nmean      7.874543     5.556272     12.023256    3.364435\nstd      33.934243    19.687886     31.436079   10.104020\nmin       1.000000     1.000000      1.000000    1.000000\n25%       1.000000     1.000000      1.000000    1.000000\n50%       2.000000     1.000000      2.000000    1.000000\n75%       4.000000     3.000000      6.000000    2.000000\nmax     794.000000   340.000000    267.000000  200.000000",
      "text/html": "<div>\n<style scoped>\n    .dataframe tbody tr th:only-of-type {\n        vertical-align: middle;\n    }\n\n    .dataframe tbody tr th {\n        vertical-align: top;\n    }\n\n    .dataframe thead th {\n        text-align: right;\n    }\n</style>\n<table border=\"1\" class=\"dataframe\">\n  <thead>\n    <tr style=\"text-align: right;\">\n      <th></th>\n      <th>falcon:40b</th>\n      <th>llama2:70b</th>\n      <th>mixtral:8x7b</th>\n      <th>qwen:72b</th>\n    </tr>\n  </thead>\n  <tbody>\n    <tr>\n      <th>count</th>\n      <td>3284.000000</td>\n      <td>1395.000000</td>\n      <td>559.000000</td>\n      <td>911.000000</td>\n    </tr>\n    <tr>\n      <th>mean</th>\n      <td>7.874543</td>\n      <td>5.556272</td>\n      <td>12.023256</td>\n      <td>3.364435</td>\n    </tr>\n    <tr>\n      <th>std</th>\n      <td>33.934243</td>\n      <td>19.687886</td>\n      <td>31.436079</td>\n      <td>10.104020</td>\n    </tr>\n    <tr>\n      <th>min</th>\n      <td>1.000000</td>\n      <td>1.000000</td>\n      <td>1.000000</td>\n      <td>1.000000</td>\n    </tr>\n    <tr>\n      <th>25%</th>\n      <td>1.000000</td>\n      <td>1.000000</td>\n      <td>1.000000</td>\n      <td>1.000000</td>\n    </tr>\n    <tr>\n      <th>50%</th>\n      <td>2.000000</td>\n      <td>1.000000</td>\n      <td>2.000000</td>\n      <td>1.000000</td>\n    </tr>\n    <tr>\n      <th>75%</th>\n      <td>4.000000</td>\n      <td>3.000000</td>\n      <td>6.000000</td>\n      <td>2.000000</td>\n    </tr>\n    <tr>\n      <th>max</th>\n      <td>794.000000</td>\n      <td>340.000000</td>\n      <td>267.000000</td>\n      <td>200.000000</td>\n    </tr>\n  </tbody>\n</table>\n</div>"
     },
     "execution_count": 103,
     "metadata": {},
     "output_type": "execute_result"
    }
   ],
   "source": [
    "collated_token_count.describe()"
   ],
   "metadata": {
    "collapsed": false,
    "ExecuteTime": {
     "end_time": "2024-03-08T13:53:41.806643Z",
     "start_time": "2024-03-08T13:53:41.785204Z"
    }
   },
   "id": "c0b7430215d02908",
   "execution_count": 103
  },
  {
   "cell_type": "code",
   "outputs": [
    {
     "data": {
      "text/plain": "                    falcon:40b  llama2:70b  mixtral:8x7b  qwen:72b\nprivatsphäre              17.0       287.0          67.0      44.0\nregierungen                1.0        37.0          26.0       1.0\ngrundrecht                 NaN         NaN           5.0       NaN\ndatenschutzgesetze         NaN         4.0           8.0       1.0\nschützen                   7.0        77.0          36.0      16.0\nzustimmung                 1.0        18.0           6.0       NaN\nprivatleben                NaN         2.0           5.0       NaN\nschutzmaßnahmen            NaN         NaN           NaN       5.0",
      "text/html": "<div>\n<style scoped>\n    .dataframe tbody tr th:only-of-type {\n        vertical-align: middle;\n    }\n\n    .dataframe tbody tr th {\n        vertical-align: top;\n    }\n\n    .dataframe thead th {\n        text-align: right;\n    }\n</style>\n<table border=\"1\" class=\"dataframe\">\n  <thead>\n    <tr style=\"text-align: right;\">\n      <th></th>\n      <th>falcon:40b</th>\n      <th>llama2:70b</th>\n      <th>mixtral:8x7b</th>\n      <th>qwen:72b</th>\n    </tr>\n  </thead>\n  <tbody>\n    <tr>\n      <th>privatsphäre</th>\n      <td>17.0</td>\n      <td>287.0</td>\n      <td>67.0</td>\n      <td>44.0</td>\n    </tr>\n    <tr>\n      <th>regierungen</th>\n      <td>1.0</td>\n      <td>37.0</td>\n      <td>26.0</td>\n      <td>1.0</td>\n    </tr>\n    <tr>\n      <th>grundrecht</th>\n      <td>NaN</td>\n      <td>NaN</td>\n      <td>5.0</td>\n      <td>NaN</td>\n    </tr>\n    <tr>\n      <th>datenschutzgesetze</th>\n      <td>NaN</td>\n      <td>4.0</td>\n      <td>8.0</td>\n      <td>1.0</td>\n    </tr>\n    <tr>\n      <th>schützen</th>\n      <td>7.0</td>\n      <td>77.0</td>\n      <td>36.0</td>\n      <td>16.0</td>\n    </tr>\n    <tr>\n      <th>zustimmung</th>\n      <td>1.0</td>\n      <td>18.0</td>\n      <td>6.0</td>\n      <td>NaN</td>\n    </tr>\n    <tr>\n      <th>privatleben</th>\n      <td>NaN</td>\n      <td>2.0</td>\n      <td>5.0</td>\n      <td>NaN</td>\n    </tr>\n    <tr>\n      <th>schutzmaßnahmen</th>\n      <td>NaN</td>\n      <td>NaN</td>\n      <td>NaN</td>\n      <td>5.0</td>\n    </tr>\n  </tbody>\n</table>\n</div>"
     },
     "execution_count": 101,
     "metadata": {},
     "output_type": "execute_result"
    }
   ],
   "source": [
    "collated_token_count.filter(\n",
    "    items=[\n",
    "        'privatsphäre',\n",
    "        'regierungen',\n",
    "        'grundrecht',\n",
    "        'datenschutzgesetze',\n",
    "        'schützen',\n",
    "        'zustimmung',\n",
    "        'privatleben',\n",
    "    ],\n",
    "    axis=0\n",
    ")"
   ],
   "metadata": {
    "collapsed": false,
    "ExecuteTime": {
     "end_time": "2024-03-08T13:52:16.231449Z",
     "start_time": "2024-03-08T13:52:16.214676Z"
    }
   },
   "id": "4decc364aee29a63",
   "execution_count": 101
  }
 ],
 "metadata": {
  "kernelspec": {
   "display_name": "Python 3",
   "language": "python",
   "name": "python3"
  },
  "language_info": {
   "codemirror_mode": {
    "name": "ipython",
    "version": 2
   },
   "file_extension": ".py",
   "mimetype": "text/x-python",
   "name": "python",
   "nbconvert_exporter": "python",
   "pygments_lexer": "ipython2",
   "version": "2.7.6"
  }
 },
 "nbformat": 4,
 "nbformat_minor": 5
}
