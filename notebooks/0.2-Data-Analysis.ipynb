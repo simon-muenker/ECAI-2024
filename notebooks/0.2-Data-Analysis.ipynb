{
 "cells": [
  {
   "cell_type": "code",
   "execution_count": 3,
   "id": "initial_id",
   "metadata": {
    "collapsed": true,
    "ExecuteTime": {
     "end_time": "2024-03-08T10:45:07.579412Z",
     "start_time": "2024-03-08T10:45:07.575750Z"
    }
   },
   "outputs": [],
   "source": [
    "import typing\n",
    "import collections\n",
    "\n",
    "import pandas as pd\n",
    "import nltk"
   ]
  },
  {
   "cell_type": "code",
   "outputs": [],
   "source": [
    "DATASET: str = '../data/dataset.parquet'"
   ],
   "metadata": {
    "collapsed": false,
    "ExecuteTime": {
     "end_time": "2024-03-08T10:45:07.859944Z",
     "start_time": "2024-03-08T10:45:07.855544Z"
    }
   },
   "id": "feb40a46e9b51106",
   "execution_count": 4
  },
  {
   "cell_type": "code",
   "outputs": [
    {
     "data": {
      "text/plain": "             model                                           response\n0     mixtral:8x7b   \"In Deutschland schätzen wir den Schutz unser...\n1         qwen:72b  \" Datenprivatheit - mehr als nur ein Trend. Un...\n2         qwen:72b  \"Datenschutz ist mehr als ein trendiges Wort -...\n3         qwen:72b  \"Data privacy matters! 🌐🔒 Waking up to yet ano...\n4         qwen:72b  \"Datenschutz oder Überwachung? Our personal in...\n...            ...                                                ...\n1020  mixtral:8x7b   \"In Deutschland schätzen wir den Schutz unser...\n1021    falcon:40b  I am sorry but as an AI language model, I cann...\n1022    llama2:70b  \\n\"Datenschutz ist wichtig! 🤖🔒 Es ist Zeit, da...\n1023    falcon:40b  As an AI language model, I do not have persona...\n1024    falcon:40b  As an AI language model, I cannot provide opin...\n\n[1025 rows x 2 columns]",
      "text/html": "<div>\n<style scoped>\n    .dataframe tbody tr th:only-of-type {\n        vertical-align: middle;\n    }\n\n    .dataframe tbody tr th {\n        vertical-align: top;\n    }\n\n    .dataframe thead th {\n        text-align: right;\n    }\n</style>\n<table border=\"1\" class=\"dataframe\">\n  <thead>\n    <tr style=\"text-align: right;\">\n      <th></th>\n      <th>model</th>\n      <th>response</th>\n    </tr>\n  </thead>\n  <tbody>\n    <tr>\n      <th>0</th>\n      <td>mixtral:8x7b</td>\n      <td>\"In Deutschland schätzen wir den Schutz unser...</td>\n    </tr>\n    <tr>\n      <th>1</th>\n      <td>qwen:72b</td>\n      <td>\" Datenprivatheit - mehr als nur ein Trend. Un...</td>\n    </tr>\n    <tr>\n      <th>2</th>\n      <td>qwen:72b</td>\n      <td>\"Datenschutz ist mehr als ein trendiges Wort -...</td>\n    </tr>\n    <tr>\n      <th>3</th>\n      <td>qwen:72b</td>\n      <td>\"Data privacy matters! 🌐🔒 Waking up to yet ano...</td>\n    </tr>\n    <tr>\n      <th>4</th>\n      <td>qwen:72b</td>\n      <td>\"Datenschutz oder Überwachung? Our personal in...</td>\n    </tr>\n    <tr>\n      <th>...</th>\n      <td>...</td>\n      <td>...</td>\n    </tr>\n    <tr>\n      <th>1020</th>\n      <td>mixtral:8x7b</td>\n      <td>\"In Deutschland schätzen wir den Schutz unser...</td>\n    </tr>\n    <tr>\n      <th>1021</th>\n      <td>falcon:40b</td>\n      <td>I am sorry but as an AI language model, I cann...</td>\n    </tr>\n    <tr>\n      <th>1022</th>\n      <td>llama2:70b</td>\n      <td>\\n\"Datenschutz ist wichtig! 🤖🔒 Es ist Zeit, da...</td>\n    </tr>\n    <tr>\n      <th>1023</th>\n      <td>falcon:40b</td>\n      <td>As an AI language model, I do not have persona...</td>\n    </tr>\n    <tr>\n      <th>1024</th>\n      <td>falcon:40b</td>\n      <td>As an AI language model, I cannot provide opin...</td>\n    </tr>\n  </tbody>\n</table>\n<p>1025 rows × 2 columns</p>\n</div>"
     },
     "execution_count": 5,
     "metadata": {},
     "output_type": "execute_result"
    }
   ],
   "source": [
    "dataset: pd.DataFrame = pd.read_parquet(DATASET)\n",
    "dataset"
   ],
   "metadata": {
    "collapsed": false,
    "ExecuteTime": {
     "end_time": "2024-03-08T10:45:08.362882Z",
     "start_time": "2024-03-08T10:45:08.277387Z"
    }
   },
   "id": "910a495b3ed81f5e",
   "execution_count": 5
  },
  {
   "cell_type": "code",
   "outputs": [
    {
     "name": "stdout",
     "output_type": "stream",
     "text": [
      "falcon:40b\n",
      "personal       789\n",
      "data           747\n",
      "information    705\n",
      "privacy        578\n",
      "social         543\n",
      "              ... \n",
      "established      1\n",
      "research:        1\n",
      "brief            1\n",
      "behavior.        1\n",
      "team.            1\n",
      "Length: 3332, dtype: int64\n",
      "llama2:70b\n",
      "#datenschutz     256\n",
      "#privatsphäre    228\n",
      "data             209\n",
      "personal         188\n",
      "daten            188\n",
      "                ... \n",
      "urban              1\n",
      "planning.          1\n",
      "protected.\"        1\n",
      "practice           1\n",
      "transparenz        1\n",
      "Length: 1462, dtype: int64\n",
      "mixtral:8x7b\n",
      "\"in             327\n",
      "persönlichen    234\n",
      "personal        228\n",
      "translation:    219\n",
      "online          186\n",
      "               ... \n",
      "geht.             1\n",
      "adhere            1\n",
      "history!          1\n",
      "einhalten.        1\n",
      "policies.         1\n",
      "Length: 581, dtype: int64\n",
      "qwen:72b\n",
      "#datenschutz                                           118\n",
      "\"                                                       92\n",
      "persönlichen                                            87\n",
      "privacy                                                 78\n",
      "\"data                                                   70\n",
      "                                                      ... \n",
      "legst                                                    1\n",
      "persönlich                                               1\n",
      "daten隐私?\"                                                1\n",
      "数据隐私，我们的信息是否真的安全？保护个人数据不能仅仅成为口号，需要实际行动和更强有力的法规保障。        1\n",
      "数据隐私，个人信息的安全网还是透明化陷阱？🤔我们必须更严格地保护我们的数据，免受无处不在的数字窥探。👀      1\n",
      "Length: 954, dtype: int64\n"
     ]
    }
   ],
   "source": [
    "for model, group in dataset.groupby('model', observed=False):\n",
    "\ttoken: typing.List[str] = ' '.join(group.response.tolist()).lower().split()\n",
    "\tcounter = collections.Counter(token)\n",
    "\t\n",
    "\tfor token in [*nltk.corpus.stopwords.words('english'), *nltk.corpus.stopwords.words('german')]:\n",
    "\t\tdel counter[token]\n",
    "\t\n",
    "\tprint(model)\n",
    "\tprint(pd.Series(counter).sort_values(ascending=False))"
   ],
   "metadata": {
    "collapsed": false,
    "ExecuteTime": {
     "end_time": "2024-03-08T10:49:59.896921Z",
     "start_time": "2024-03-08T10:49:59.849365Z"
    }
   },
   "id": "3693555b33b24eaf",
   "execution_count": 18
  },
  {
   "cell_type": "code",
   "outputs": [],
   "source": [],
   "metadata": {
    "collapsed": false
   },
   "id": "c0b7430215d02908"
  }
 ],
 "metadata": {
  "kernelspec": {
   "display_name": "Python 3",
   "language": "python",
   "name": "python3"
  },
  "language_info": {
   "codemirror_mode": {
    "name": "ipython",
    "version": 2
   },
   "file_extension": ".py",
   "mimetype": "text/x-python",
   "name": "python",
   "nbconvert_exporter": "python",
   "pygments_lexer": "ipython2",
   "version": "2.7.6"
  }
 },
 "nbformat": 4,
 "nbformat_minor": 5
}
