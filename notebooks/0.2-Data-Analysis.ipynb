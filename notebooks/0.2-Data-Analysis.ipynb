{
 "cells": [
  {
   "cell_type": "code",
   "execution_count": 12,
   "id": "initial_id",
   "metadata": {
    "collapsed": true,
    "ExecuteTime": {
     "end_time": "2024-03-07T10:16:15.015232Z",
     "start_time": "2024-03-07T10:16:15.011125Z"
    }
   },
   "outputs": [],
   "source": [
    "import collections\n",
    "\n",
    "import pandas as pd"
   ]
  },
  {
   "cell_type": "code",
   "outputs": [],
   "source": [
    "DATASET: str = '../data/dataset.parquet'"
   ],
   "metadata": {
    "collapsed": false,
    "ExecuteTime": {
     "end_time": "2024-03-07T10:16:15.022877Z",
     "start_time": "2024-03-07T10:16:15.019238Z"
    }
   },
   "id": "feb40a46e9b51106",
   "execution_count": 13
  },
  {
   "cell_type": "code",
   "outputs": [
    {
     "data": {
      "text/plain": "            model                                           response\n0        qwen:72b  \" Datenprivatheit - mehr als nur ein Trend. Un...\n1    mixtral:8x7b   \"In Deutschland schützen wir sorgfältig unser...\n2    mixtral:8x7b   \"In Deutschland schätzen wir den Schutz unser...\n3    mixtral:8x7b   \"In Deutschland nehmen wir Datenschutz ernst!...\n4        qwen:72b  \"Datenschutz ist mehr als ein Trend - es ist d...\n..            ...                                                ...\n114  mixtral:8x7b   \"In Deutschland schätzen wir den Schutz unser...\n115      qwen:72b  \"Warum ist die Schutz unserer persönlichen Dat...\n116      qwen:72b  \" Daten隐私，我们的信息是否真的安全？保护个人信息不应只是一句空话。 #个人数据保护 ...\n117      qwen:72b  \" 数据隐私，个人信息的安全网还是透明化陷阱？🤔我们必须更严格地保护我们的数据，免受无处不在...\n118    falcon:40b  As an AI language model, I do not have persona...\n\n[119 rows x 2 columns]",
      "text/html": "<div>\n<style scoped>\n    .dataframe tbody tr th:only-of-type {\n        vertical-align: middle;\n    }\n\n    .dataframe tbody tr th {\n        vertical-align: top;\n    }\n\n    .dataframe thead th {\n        text-align: right;\n    }\n</style>\n<table border=\"1\" class=\"dataframe\">\n  <thead>\n    <tr style=\"text-align: right;\">\n      <th></th>\n      <th>model</th>\n      <th>response</th>\n    </tr>\n  </thead>\n  <tbody>\n    <tr>\n      <th>0</th>\n      <td>qwen:72b</td>\n      <td>\" Datenprivatheit - mehr als nur ein Trend. Un...</td>\n    </tr>\n    <tr>\n      <th>1</th>\n      <td>mixtral:8x7b</td>\n      <td>\"In Deutschland schützen wir sorgfältig unser...</td>\n    </tr>\n    <tr>\n      <th>2</th>\n      <td>mixtral:8x7b</td>\n      <td>\"In Deutschland schätzen wir den Schutz unser...</td>\n    </tr>\n    <tr>\n      <th>3</th>\n      <td>mixtral:8x7b</td>\n      <td>\"In Deutschland nehmen wir Datenschutz ernst!...</td>\n    </tr>\n    <tr>\n      <th>4</th>\n      <td>qwen:72b</td>\n      <td>\"Datenschutz ist mehr als ein Trend - es ist d...</td>\n    </tr>\n    <tr>\n      <th>...</th>\n      <td>...</td>\n      <td>...</td>\n    </tr>\n    <tr>\n      <th>114</th>\n      <td>mixtral:8x7b</td>\n      <td>\"In Deutschland schätzen wir den Schutz unser...</td>\n    </tr>\n    <tr>\n      <th>115</th>\n      <td>qwen:72b</td>\n      <td>\"Warum ist die Schutz unserer persönlichen Dat...</td>\n    </tr>\n    <tr>\n      <th>116</th>\n      <td>qwen:72b</td>\n      <td>\" Daten隐私，我们的信息是否真的安全？保护个人信息不应只是一句空话。 #个人数据保护 ...</td>\n    </tr>\n    <tr>\n      <th>117</th>\n      <td>qwen:72b</td>\n      <td>\" 数据隐私，个人信息的安全网还是透明化陷阱？🤔我们必须更严格地保护我们的数据，免受无处不在...</td>\n    </tr>\n    <tr>\n      <th>118</th>\n      <td>falcon:40b</td>\n      <td>As an AI language model, I do not have persona...</td>\n    </tr>\n  </tbody>\n</table>\n<p>119 rows × 2 columns</p>\n</div>"
     },
     "execution_count": 14,
     "metadata": {},
     "output_type": "execute_result"
    }
   ],
   "source": [
    "dataset: pd.DataFrame = pd.read_parquet(DATASET)\n",
    "dataset"
   ],
   "metadata": {
    "collapsed": false,
    "ExecuteTime": {
     "end_time": "2024-03-07T10:16:15.045035Z",
     "start_time": "2024-03-07T10:16:15.025954Z"
    }
   },
   "id": "910a495b3ed81f5e",
   "execution_count": 14
  },
  {
   "cell_type": "code",
   "outputs": [
    {
     "name": "stdout",
     "output_type": "stream",
     "text": [
      "falcon:40b\n",
      "[('to', 171), ('and', 150), ('personal', 87), ('information', 85), ('of', 79), ('data', 76), ('the', 76), ('or', 75), ('can', 66), ('that', 66)]\n",
      "llama2:70b\n",
      "[('#Datenschutz', 32), ('data', 31), ('and', 31), ('ist', 31), ('unsere', 31), ('#Privatsphäre', 29), ('personal', 28), ('und', 25), ('our', 25), ('Daten', 22)]\n",
      "mixtral:8x7b\n",
      "[('\"In', 48), ('our', 42), ('wir', 38), ('we', 38), ('und', 31), ('and', 31), ('persönlichen', 29), ('Translation:', 28), ('personal', 28), ('Deutschland', 27)]\n",
      "qwen:72b\n",
      "[('\"', 17), ('#Datenschutz', 11), ('wir', 9), ('#数据隐私', 8), ('Daten', 7), ('unsere', 7), ('Informationen', 6), ('ist', 6), ('persönlichen', 6), ('\"Data', 6)]\n"
     ]
    }
   ],
   "source": [
    "for model, group in dataset.groupby('model', observed=False):\n",
    "\tprint(model)\n",
    "\tprint(collections.Counter(' '.join(group.response.tolist()).split()).most_common(10))"
   ],
   "metadata": {
    "collapsed": false,
    "ExecuteTime": {
     "end_time": "2024-03-07T10:16:29.712556Z",
     "start_time": "2024-03-07T10:16:29.702813Z"
    }
   },
   "id": "3693555b33b24eaf",
   "execution_count": 16
  }
 ],
 "metadata": {
  "kernelspec": {
   "display_name": "Python 3",
   "language": "python",
   "name": "python3"
  },
  "language_info": {
   "codemirror_mode": {
    "name": "ipython",
    "version": 2
   },
   "file_extension": ".py",
   "mimetype": "text/x-python",
   "name": "python",
   "nbconvert_exporter": "python",
   "pygments_lexer": "ipython2",
   "version": "2.7.6"
  }
 },
 "nbformat": 4,
 "nbformat_minor": 5
}
